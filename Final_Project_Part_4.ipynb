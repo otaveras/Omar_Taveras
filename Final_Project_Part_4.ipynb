{
 "cells": [
  {
   "cell_type": "markdown",
   "metadata": {},
   "source": [
    "# Fluent Buyer Classification"
   ]
  },
  {
   "cell_type": "code",
   "execution_count": 1,
   "metadata": {
    "collapsed": true
   },
   "outputs": [],
   "source": [
    "import os\n",
    "import numpy as np\n",
    "import pandas as pd\n",
    "import matplotlib.pyplot as plt\n",
    "%matplotlib inline\n",
    "import seaborn as sns"
   ]
  },
  {
   "cell_type": "code",
   "execution_count": 2,
   "metadata": {
    "collapsed": false
   },
   "outputs": [],
   "source": [
    "data = pd.read_csv('CPAWallBuyers_Q3_2016.csv')"
   ]
  },
  {
   "cell_type": "markdown",
   "metadata": {},
   "source": [
    "Variable | Description | Type of Variable\n",
    "---| ---| ---\n",
    "age | integer 13-116; 13 lowest and 116 highest | continuous\n",
    "gender| male, female| categorical\n",
    "state | denotes state of home address | categorical\n",
    "esp | email service provider | categorical\n",
    "vag | response to question; binary | categorical\n",
    "val | response to question; binary | categorical\n",
    "vas | response to question; binary | categorical\n",
    "vaq | response to question; binary | categorical\n",
    "v2m | “The 2016 Presidential Election is over. How do you identify politically?”; democrat, republican, or independent | categorical\n",
    "CPAWallBuyer | Identifies buyers and non-buyers on CPA Wall; yes or no | categorical\n",
    "count(0) | integer count of users that meet observations across other columns in the same row; 1 - 15 | continuous "
   ]
  },
  {
   "cell_type": "markdown",
   "metadata": {},
   "source": [
    "### I. Data Cleaning"
   ]
  },
  {
   "cell_type": "code",
   "execution_count": 3,
   "metadata": {
    "collapsed": false,
    "scrolled": true
   },
   "outputs": [
    {
     "data": {
      "text/html": [
       "<div>\n",
       "<table border=\"1\" class=\"dataframe\">\n",
       "  <thead>\n",
       "    <tr style=\"text-align: right;\">\n",
       "      <th></th>\n",
       "      <th>age</th>\n",
       "      <th>gender</th>\n",
       "      <th>state</th>\n",
       "      <th>esp</th>\n",
       "      <th>vag</th>\n",
       "      <th>val</th>\n",
       "      <th>vas</th>\n",
       "      <th>vaq</th>\n",
       "      <th>v2m</th>\n",
       "      <th>CPAWallBuyer</th>\n",
       "      <th>count(0)</th>\n",
       "    </tr>\n",
       "  </thead>\n",
       "  <tbody>\n",
       "    <tr>\n",
       "      <th>0</th>\n",
       "      <td>13</td>\n",
       "      <td>Male</td>\n",
       "      <td>DE</td>\n",
       "      <td>gmail.com</td>\n",
       "      <td>rent</td>\n",
       "      <td>no</td>\n",
       "      <td>no</td>\n",
       "      <td>no</td>\n",
       "      <td>independent</td>\n",
       "      <td>No</td>\n",
       "      <td>1.0</td>\n",
       "    </tr>\n",
       "    <tr>\n",
       "      <th>1</th>\n",
       "      <td>13</td>\n",
       "      <td>Male</td>\n",
       "      <td>MD</td>\n",
       "      <td>yahoo.com</td>\n",
       "      <td>rent</td>\n",
       "      <td>no</td>\n",
       "      <td>no</td>\n",
       "      <td>no</td>\n",
       "      <td>republican</td>\n",
       "      <td>No</td>\n",
       "      <td>1.0</td>\n",
       "    </tr>\n",
       "    <tr>\n",
       "      <th>2</th>\n",
       "      <td>15</td>\n",
       "      <td>Female</td>\n",
       "      <td>MN</td>\n",
       "      <td>gmail.com</td>\n",
       "      <td>rent</td>\n",
       "      <td>yes</td>\n",
       "      <td>no</td>\n",
       "      <td>no</td>\n",
       "      <td>democrat</td>\n",
       "      <td>No</td>\n",
       "      <td>1.0</td>\n",
       "    </tr>\n",
       "    <tr>\n",
       "      <th>3</th>\n",
       "      <td>15</td>\n",
       "      <td>Male</td>\n",
       "      <td>LA</td>\n",
       "      <td>gmail.com</td>\n",
       "      <td>rent</td>\n",
       "      <td>no</td>\n",
       "      <td>no</td>\n",
       "      <td>no</td>\n",
       "      <td>republican</td>\n",
       "      <td>No</td>\n",
       "      <td>1.0</td>\n",
       "    </tr>\n",
       "    <tr>\n",
       "      <th>4</th>\n",
       "      <td>16</td>\n",
       "      <td>Female</td>\n",
       "      <td>MD</td>\n",
       "      <td>verizon.net</td>\n",
       "      <td>own</td>\n",
       "      <td>TRUE</td>\n",
       "      <td>FALSE</td>\n",
       "      <td>yes</td>\n",
       "      <td>democrat</td>\n",
       "      <td>No</td>\n",
       "      <td>1.0</td>\n",
       "    </tr>\n",
       "  </tbody>\n",
       "</table>\n",
       "</div>"
      ],
      "text/plain": [
       "  age  gender state          esp   vag   val    vas  vaq          v2m  \\\n",
       "0  13    Male    DE    gmail.com  rent    no     no   no  independent   \n",
       "1  13    Male    MD    yahoo.com  rent    no     no   no   republican   \n",
       "2  15  Female    MN    gmail.com  rent   yes     no   no     democrat   \n",
       "3  15    Male    LA    gmail.com  rent    no     no   no   republican   \n",
       "4  16  Female    MD  verizon.net   own  TRUE  FALSE  yes     democrat   \n",
       "\n",
       "  CPAWallBuyer  count(0)  \n",
       "0           No       1.0  \n",
       "1           No       1.0  \n",
       "2           No       1.0  \n",
       "3           No       1.0  \n",
       "4           No       1.0  "
      ]
     },
     "execution_count": 3,
     "metadata": {},
     "output_type": "execute_result"
    }
   ],
   "source": [
    "data.head()"
   ]
  },
  {
   "cell_type": "code",
   "execution_count": 4,
   "metadata": {
    "collapsed": false
   },
   "outputs": [
    {
     "name": "stdout",
     "output_type": "stream",
     "text": [
      "<class 'pandas.core.frame.DataFrame'>\n",
      "RangeIndex: 54685 entries, 0 to 54684\n",
      "Data columns (total 11 columns):\n",
      "age             54685 non-null object\n",
      "gender          54685 non-null object\n",
      "state           54679 non-null object\n",
      "esp             54685 non-null object\n",
      "vag             54358 non-null object\n",
      "val             54335 non-null object\n",
      "vas             51828 non-null object\n",
      "vaq             53943 non-null object\n",
      "v2m             51951 non-null object\n",
      "CPAWallBuyer    54682 non-null object\n",
      "count(0)        54682 non-null float64\n",
      "dtypes: float64(1), object(10)\n",
      "memory usage: 4.6+ MB\n"
     ]
    }
   ],
   "source": [
    "data.info()"
   ]
  },
  {
   "cell_type": "code",
   "execution_count": 5,
   "metadata": {
    "collapsed": false
   },
   "outputs": [],
   "source": [
    "data.rename(columns={'count(0)':'count'}, inplace= True) # Cleaner column title"
   ]
  },
  {
   "cell_type": "code",
   "execution_count": 6,
   "metadata": {
    "collapsed": false
   },
   "outputs": [],
   "source": [
    "data = data.dropna()"
   ]
  },
  {
   "cell_type": "code",
   "execution_count": 7,
   "metadata": {
    "collapsed": false
   },
   "outputs": [
    {
     "name": "stdout",
     "output_type": "stream",
     "text": [
      "<class 'pandas.core.frame.DataFrame'>\n",
      "Int64Index: 50086 entries, 0 to 54683\n",
      "Data columns (total 11 columns):\n",
      "age             50086 non-null object\n",
      "gender          50086 non-null object\n",
      "state           50086 non-null object\n",
      "esp             50086 non-null object\n",
      "vag             50086 non-null object\n",
      "val             50086 non-null object\n",
      "vas             50086 non-null object\n",
      "vaq             50086 non-null object\n",
      "v2m             50086 non-null object\n",
      "CPAWallBuyer    50086 non-null object\n",
      "count           50086 non-null float64\n",
      "dtypes: float64(1), object(10)\n",
      "memory usage: 4.6+ MB\n"
     ]
    }
   ],
   "source": [
    "data.info()"
   ]
  },
  {
   "cell_type": "code",
   "execution_count": 8,
   "metadata": {
    "collapsed": false
   },
   "outputs": [],
   "source": [
    "data['age'] = data['age'].astype('int') # changing dtype\n",
    "data['count'] = data['count'].astype('int')"
   ]
  },
  {
   "cell_type": "code",
   "execution_count": 9,
   "metadata": {
    "collapsed": false
   },
   "outputs": [],
   "source": [
    "#Changing dtypes to categorical\n",
    "data['gender'] = pd.Categorical(data['gender'])\n",
    "data['state'] = pd.Categorical(data['state'])\n",
    "data['esp'] = pd.Categorical(data['esp'])\n",
    "data['vag'] = pd.Categorical(data['vag'])\n",
    "data['val'] = pd.Categorical(data['val'])\n",
    "data['vas'] = pd.Categorical(data['vas'])\n",
    "data['vaq'] = pd.Categorical(data['vaq'])\n",
    "data['v2m'] = pd.Categorical(data['v2m'])\n",
    "data['CPAWallBuyer'] = pd.Categorical(data['CPAWallBuyer'])"
   ]
  },
  {
   "cell_type": "code",
   "execution_count": 10,
   "metadata": {
    "collapsed": false
   },
   "outputs": [
    {
     "data": {
      "text/plain": [
       "age                int64\n",
       "gender          category\n",
       "state           category\n",
       "esp             category\n",
       "vag             category\n",
       "val             category\n",
       "vas             category\n",
       "vaq             category\n",
       "v2m             category\n",
       "CPAWallBuyer    category\n",
       "count              int64\n",
       "dtype: object"
      ]
     },
     "execution_count": 10,
     "metadata": {},
     "output_type": "execute_result"
    }
   ],
   "source": [
    "data.dtypes"
   ]
  },
  {
   "cell_type": "code",
   "execution_count": 11,
   "metadata": {
    "collapsed": false
   },
   "outputs": [],
   "source": [
    "#This code duplicates rows based on the count feature's value\n",
    "data = data.loc[np.repeat(data.index.values,data['count'])]\n",
    "data = data.drop('count',axis=1).reset_index(drop=True)"
   ]
  },
  {
   "cell_type": "code",
   "execution_count": 12,
   "metadata": {
    "collapsed": false
   },
   "outputs": [
    {
     "name": "stdout",
     "output_type": "stream",
     "text": [
      "<class 'pandas.core.frame.DataFrame'>\n",
      "RangeIndex: 60151 entries, 0 to 60150\n",
      "Data columns (total 10 columns):\n",
      "age             60151 non-null int64\n",
      "gender          60151 non-null category\n",
      "state           60151 non-null category\n",
      "esp             60151 non-null category\n",
      "vag             60151 non-null category\n",
      "val             60151 non-null category\n",
      "vas             60151 non-null category\n",
      "vaq             60151 non-null category\n",
      "v2m             60151 non-null category\n",
      "CPAWallBuyer    60151 non-null category\n",
      "dtypes: category(9), int64(1)\n",
      "memory usage: 1.0 MB\n"
     ]
    }
   ],
   "source": [
    "data.info()"
   ]
  },
  {
   "cell_type": "code",
   "execution_count": 13,
   "metadata": {
    "collapsed": false
   },
   "outputs": [
    {
     "data": {
      "text/plain": [
       "TX            5518\n",
       "CA            5117\n",
       "FL            4260\n",
       "NY            3055\n",
       "GA            2509\n",
       "PA            2443\n",
       "IL            2357\n",
       "OH            2341\n",
       "NC            2160\n",
       "MI            1995\n",
       "TN            1552\n",
       "AL            1482\n",
       "VA            1436\n",
       "IN            1414\n",
       "MO            1413\n",
       "LA            1378\n",
       "NJ            1282\n",
       "SC            1196\n",
       "AZ            1076\n",
       "MD            1061\n",
       "MS            1015\n",
       "KY            1008\n",
       "WI             972\n",
       "MA             940\n",
       "OK             934\n",
       "WA             883\n",
       "AR             857\n",
       "CO             827\n",
       "MN             762\n",
       "CT             589\n",
       "              ... \n",
       "Missouri         4\n",
       "Louisiana        4\n",
       "Kentucky         3\n",
       "Pennsylvan       3\n",
       "Virginia         3\n",
       "Tennessee        3\n",
       "Connecticu       2\n",
       "Alabama          2\n",
       "AP               2\n",
       "New Jersey       2\n",
       "Minnesota        2\n",
       "Kansas           2\n",
       "Georgia          1\n",
       "Indiana          1\n",
       "Illinois         1\n",
       "Idaho            1\n",
       "Maryland         1\n",
       "[state]          1\n",
       "Michigan         1\n",
       "Mississipp       1\n",
       "MISSING          1\n",
       "GU               1\n",
       "Florida          1\n",
       "Nevada           1\n",
       "5                1\n",
       "Wisconsin        1\n",
       "WL               1\n",
       "Oregon           1\n",
       "South Dako       1\n",
       "Massachuse       1\n",
       "Name: state, dtype: int64"
      ]
     },
     "execution_count": 13,
     "metadata": {},
     "output_type": "execute_result"
    }
   ],
   "source": [
    "data['state'].value_counts().sort_values(ascending=False)"
   ]
  },
  {
   "cell_type": "code",
   "execution_count": 14,
   "metadata": {
    "collapsed": false
   },
   "outputs": [],
   "source": [
    "# Removing rows with States length > 2\n",
    "data = data[data['state'].str.len() <= 2]"
   ]
  },
  {
   "cell_type": "code",
   "execution_count": 15,
   "metadata": {
    "collapsed": false
   },
   "outputs": [
    {
     "data": {
      "text/plain": [
       "[DE, MD, MN, LA, CT, ..., --, AE, WL, AP, GU]\n",
       "Length: 60\n",
       "Categories (60, object): [DE, MD, MN, LA, ..., AE, WL, AP, GU]"
      ]
     },
     "execution_count": 15,
     "metadata": {},
     "output_type": "execute_result"
    }
   ],
   "source": [
    "data['state'].unique()"
   ]
  },
  {
   "cell_type": "code",
   "execution_count": 16,
   "metadata": {
    "collapsed": false
   },
   "outputs": [
    {
     "data": {
      "text/plain": [
       "array(['DE', 'MD', 'MN', 'LA', 'CT', 'GA', 'HI', 'IL', 'MA', 'NV', 'NY',\n",
       "       'OH', 'OK', 'PA', 'SC', 'TN', 'TX', 'FL', 'KY', 'SD', 'VA', 'AK',\n",
       "       'AL', 'AR', 'AZ', 'CA', 'CO', 'DC', 'IA', 'ID', 'IN', 'KS', 'ME',\n",
       "       'MI', 'MO', 'MS', 'MT', 'NC', 'ND', 'NE', 'NH', 'NJ', 'NM', 'OR',\n",
       "       'PR', 'RI', 'UT', 'VI', 'VT', 'WA', 'WI', 'WV', 'WY', '5', 'XX',\n",
       "       '--', 'AE', 'WL', 'AP', 'GU'], dtype=object)"
      ]
     },
     "execution_count": 16,
     "metadata": {},
     "output_type": "execute_result"
    }
   ],
   "source": [
    "# Checking why 60 unique States\n",
    "pd.unique(data['state'].ravel())"
   ]
  },
  {
   "cell_type": "code",
   "execution_count": 17,
   "metadata": {
    "collapsed": false
   },
   "outputs": [],
   "source": [
    "#Assigning states & territories to regions\n",
    "regions = [('state', ['AK', 'HI', 'AZ', 'NM', 'OK', 'TX',\n",
    "                     'AL','AR', 'FL', 'GA', 'KY', 'LA', 'MS', 'NC', 'SC', 'TN', 'VA', 'WV',\n",
    "                     'CA','CO', 'ID', 'MT', 'NV', 'OR', 'UT', 'WA', 'WY',\n",
    "                     'IL', 'IN', 'IA', 'KS', 'MI', 'MN', 'MO', 'NE', 'ND', 'OH', 'SD', 'WI',\n",
    "                     'CT', 'DE', 'ME', 'MD', 'MA', 'NH', 'NJ', 'NY', 'PA', 'RI', 'VT',\n",
    "                     'AS', 'DC', 'FM', 'GU', 'MH', 'MP', 'PW', 'PR', 'VI', 'AE', 'AA', 'AP']),\n",
    "           ('region', ['non_mainland','non_mainland','southwest','southwest','southwest','southwest',\n",
    "                      'southeast', 'southeast', 'southeast', 'southeast', 'southeast', 'southeast', 'southeast',\n",
    "                       'southeast', 'southeast', 'southeast', 'southeast', 'southeast',\n",
    "                      'west', 'west', 'west', 'west', 'west', 'west', 'west', 'west', 'west',\n",
    "                      'midwest','midwest','midwest','midwest','midwest','midwest','midwest','midwest','midwest',\n",
    "                       'midwest','midwest','midwest',\n",
    "                      'northeast','northeast','northeast','northeast','northeast','northeast','northeast','northeast',\n",
    "                       'northeast','northeast','northeast',\n",
    "                      'territory','territory','territory','territory','territory','territory','territory','territory',\n",
    "                       'territory','territory','territory','territory'])]"
   ]
  },
  {
   "cell_type": "code",
   "execution_count": 18,
   "metadata": {
    "collapsed": false
   },
   "outputs": [],
   "source": [
    "# Removing States not in state/territory list\n",
    "data = data[data['state'] != 'WL']\n",
    "data = data[data['state'] != '5']\n",
    "data = data[data['state'] != 'XX']\n",
    "data = data[data['state'] != '--']"
   ]
  },
  {
   "cell_type": "code",
   "execution_count": 19,
   "metadata": {
    "collapsed": false
   },
   "outputs": [
    {
     "name": "stdout",
     "output_type": "stream",
     "text": [
      "<class 'pandas.core.frame.DataFrame'>\n",
      "Int64Index: 60030 entries, 0 to 60150\n",
      "Data columns (total 10 columns):\n",
      "age             60030 non-null int64\n",
      "gender          60030 non-null category\n",
      "state           60030 non-null category\n",
      "esp             60030 non-null category\n",
      "vag             60030 non-null category\n",
      "val             60030 non-null category\n",
      "vas             60030 non-null category\n",
      "vaq             60030 non-null category\n",
      "v2m             60030 non-null category\n",
      "CPAWallBuyer    60030 non-null category\n",
      "dtypes: category(9), int64(1)\n",
      "memory usage: 1.5 MB\n"
     ]
    }
   ],
   "source": [
    "data.info()"
   ]
  },
  {
   "cell_type": "code",
   "execution_count": 20,
   "metadata": {
    "collapsed": false,
    "scrolled": false
   },
   "outputs": [
    {
     "data": {
      "text/plain": [
       "[DE, MD, MN, LA, CT, ..., WV, WY, AE, AP, GU]\n",
       "Length: 56\n",
       "Categories (56, object): [DE, MD, MN, LA, ..., WY, AE, AP, GU]"
      ]
     },
     "execution_count": 20,
     "metadata": {},
     "output_type": "execute_result"
    }
   ],
   "source": [
    "data['state'].unique() #Includes territories so state has 56 unique values"
   ]
  },
  {
   "cell_type": "code",
   "execution_count": 21,
   "metadata": {
    "collapsed": true
   },
   "outputs": [],
   "source": [
    "#Creating new region feature based on state; do not want to get 55 dummy variables for state feature\n",
    "regions = pd.DataFrame.from_items(regions)\n",
    "data = data.merge(regions, left_on='state', right_on='state', how='right')\n",
    "data = data.dropna()"
   ]
  },
  {
   "cell_type": "code",
   "execution_count": 22,
   "metadata": {
    "collapsed": false
   },
   "outputs": [
    {
     "data": {
      "text/plain": [
       "southeast       19306\n",
       "midwest         12864\n",
       "northeast       10253\n",
       "west             8869\n",
       "southwest        7959\n",
       "non_mainland      397\n",
       "territory         382\n",
       "Name: region, dtype: int64"
      ]
     },
     "execution_count": 22,
     "metadata": {},
     "output_type": "execute_result"
    }
   ],
   "source": [
    "data['region'].value_counts()"
   ]
  },
  {
   "cell_type": "code",
   "execution_count": 23,
   "metadata": {
    "collapsed": false
   },
   "outputs": [
    {
     "data": {
      "text/plain": [
       "gmail.com               32759\n",
       "yahoo.com               16211\n",
       "hotmail.com              2512\n",
       "aol.com                  2342\n",
       "icloud.com                671\n",
       "comcast.net               563\n",
       "outlook.com               450\n",
       "att.net                   437\n",
       "live.com                  399\n",
       "ymail.com                 362\n",
       "msn.com                   325\n",
       "sbcglobal.net             234\n",
       "verizon.net               185\n",
       "bellsouth.net             159\n",
       "rocketmail.com            133\n",
       "cox.net                   132\n",
       "charter.net               100\n",
       "me.com                     72\n",
       "mail.com                   69\n",
       "frontier.com               46\n",
       "windstream.net             40\n",
       "email.com                  36\n",
       "optonline.net              36\n",
       "juno.com                   33\n",
       "roadrunner.com             30\n",
       "centurylink.net            27\n",
       "earthlink.net              27\n",
       "embarqmail.com             25\n",
       "aim.com                    25\n",
       "netzero.net                23\n",
       "                        ...  \n",
       "zepsa.com                   1\n",
       "goldringgulf.com            1\n",
       "bristolcc.edu               1\n",
       "mt.gov                      1\n",
       "iowatelecom.net             1\n",
       "nps.k12.va.us               1\n",
       "comcorvoc.org               1\n",
       "mail.naz.edu                1\n",
       "fwcs.k12.in.us              1\n",
       "wichelt.com                 1\n",
       "ringtelco.com               1\n",
       "elkhart.k12.in.us           1\n",
       "ashleycfs.com               1\n",
       "greenvillenc.gov            1\n",
       "komets.k12.mn.us            1\n",
       "ccim.net                    1\n",
       "not.com                     1\n",
       "poo.com                     1\n",
       "esrta.com                   1\n",
       "yours.com                   1\n",
       "students.rcsd.ms            1\n",
       "g-mail.com                  1\n",
       "nau.edu                     1\n",
       "elmbrookstudents.org        1\n",
       "mail.mvnu.edu               1\n",
       "cruzio.com                  1\n",
       "pucpr.edu                   1\n",
       "banknbsc.com                1\n",
       "rdale.org                   1\n",
       "stu.mhs-pa.org              1\n",
       "Name: esp, dtype: int64"
      ]
     },
     "execution_count": 23,
     "metadata": {},
     "output_type": "execute_result"
    }
   ],
   "source": [
    "data['esp'].value_counts()"
   ]
  },
  {
   "cell_type": "code",
   "execution_count": 24,
   "metadata": {
    "collapsed": false
   },
   "outputs": [
    {
     "data": {
      "text/plain": [
       "2336"
      ]
     },
     "execution_count": 24,
     "metadata": {},
     "output_type": "execute_result"
    }
   ],
   "source": [
    "#Noticed a few esp finishing in .net\n",
    "data['esp'].str.contains('.net').sum()"
   ]
  },
  {
   "cell_type": "code",
   "execution_count": 25,
   "metadata": {
    "collapsed": true
   },
   "outputs": [],
   "source": [
    "#Creating new esp_group feature based on esp\n",
    "#Do not want to get over 1000 dummy variables for esp feature\n",
    "data['esp_group']= 'gmail.com'"
   ]
  },
  {
   "cell_type": "code",
   "execution_count": 26,
   "metadata": {
    "collapsed": false
   },
   "outputs": [
    {
     "name": "stderr",
     "output_type": "stream",
     "text": [
      "/Users/otaveras/anaconda/lib/python2.7/site-packages/ipykernel/__main__.py:2: SettingWithCopyWarning: \n",
      "A value is trying to be set on a copy of a slice from a DataFrame\n",
      "\n",
      "See the caveats in the documentation: http://pandas.pydata.org/pandas-docs/stable/indexing.html#indexing-view-versus-copy\n",
      "  from ipykernel import kernelapp as app\n",
      "/Users/otaveras/anaconda/lib/python2.7/site-packages/ipykernel/__main__.py:3: SettingWithCopyWarning: \n",
      "A value is trying to be set on a copy of a slice from a DataFrame\n",
      "\n",
      "See the caveats in the documentation: http://pandas.pydata.org/pandas-docs/stable/indexing.html#indexing-view-versus-copy\n",
      "  app.launch_new_instance()\n",
      "/Users/otaveras/anaconda/lib/python2.7/site-packages/ipykernel/__main__.py:4: SettingWithCopyWarning: \n",
      "A value is trying to be set on a copy of a slice from a DataFrame\n",
      "\n",
      "See the caveats in the documentation: http://pandas.pydata.org/pandas-docs/stable/indexing.html#indexing-view-versus-copy\n",
      "/Users/otaveras/anaconda/lib/python2.7/site-packages/ipykernel/__main__.py:5: SettingWithCopyWarning: \n",
      "A value is trying to be set on a copy of a slice from a DataFrame\n",
      "\n",
      "See the caveats in the documentation: http://pandas.pydata.org/pandas-docs/stable/indexing.html#indexing-view-versus-copy\n",
      "/Users/otaveras/anaconda/lib/python2.7/site-packages/ipykernel/__main__.py:6: SettingWithCopyWarning: \n",
      "A value is trying to be set on a copy of a slice from a DataFrame\n",
      "\n",
      "See the caveats in the documentation: http://pandas.pydata.org/pandas-docs/stable/indexing.html#indexing-view-versus-copy\n",
      "/Users/otaveras/anaconda/lib/python2.7/site-packages/ipykernel/__main__.py:7: SettingWithCopyWarning: \n",
      "A value is trying to be set on a copy of a slice from a DataFrame\n",
      "\n",
      "See the caveats in the documentation: http://pandas.pydata.org/pandas-docs/stable/indexing.html#indexing-view-versus-copy\n"
     ]
    }
   ],
   "source": [
    "data['esp_group'][(data['esp']!= 'yahoo.com')|(data['esp']!= 'gmail.com')|\n",
    "                  (data['esp']!= 'hotmail.com')|(data['esp'].str.contains('.net'))] = 'other' \n",
    "data['esp_group'][data['esp']=='gmail.com'] = 'gmail' \n",
    "data['esp_group'][data['esp']=='yahoo.com'] = 'yahoo' \n",
    "data['esp_group'][data['esp']=='aol.com'] = 'aol' \n",
    "data['esp_group'][data['esp']=='hotmail.com'] = 'hotmail' \n",
    "data['esp_group'][data['esp'].str.contains('.net')] = '.net' "
   ]
  },
  {
   "cell_type": "code",
   "execution_count": 27,
   "metadata": {
    "collapsed": true
   },
   "outputs": [],
   "source": [
    "# Confirmed with tech team that responses to survey questions are \n",
    "# saved as binary; will change responses to 1 or 0"
   ]
  },
  {
   "cell_type": "code",
   "execution_count": 27,
   "metadata": {
    "collapsed": false
   },
   "outputs": [
    {
     "data": {
      "text/plain": [
       "array(['no', 'yes', 'FALSE', 'TRUE', 'diabetes'], dtype=object)"
      ]
     },
     "execution_count": 27,
     "metadata": {},
     "output_type": "execute_result"
    }
   ],
   "source": [
    "data['vaq'].unique()"
   ]
  },
  {
   "cell_type": "code",
   "execution_count": 28,
   "metadata": {
    "collapsed": false
   },
   "outputs": [],
   "source": [
    "data['vaq'].replace(to_replace= 'TRUE', value = 1, inplace = True)\n",
    "data['vaq'].replace(to_replace= 'diabetes', value = 1, inplace = True)\n",
    "data['vaq'].replace(to_replace= 'yes', value = 1, inplace = True)\n",
    "data['vaq'].replace(to_replace= 'FALSE', value = 0, inplace = True)\n",
    "data['vaq'].replace(to_replace= 'no', value = 0, inplace = True)"
   ]
  },
  {
   "cell_type": "code",
   "execution_count": 29,
   "metadata": {
    "collapsed": false
   },
   "outputs": [
    {
     "data": {
      "text/plain": [
       "array(['no', 'yes', 'FALSE', 'TRUE', 'own'], dtype=object)"
      ]
     },
     "execution_count": 29,
     "metadata": {},
     "output_type": "execute_result"
    }
   ],
   "source": [
    "data['val'].unique()"
   ]
  },
  {
   "cell_type": "code",
   "execution_count": 30,
   "metadata": {
    "collapsed": true
   },
   "outputs": [],
   "source": [
    "data['val'].replace(to_replace= 'TRUE', value = 1, inplace = True)\n",
    "data['val'].replace(to_replace= 'own', value = 1, inplace = True)\n",
    "data['val'].replace(to_replace= 'yes', value = 1, inplace = True)\n",
    "data['val'].replace(to_replace= 'FALSE', value = 0, inplace = True)\n",
    "data['val'].replace(to_replace= 'no', value = 0, inplace = True)"
   ]
  },
  {
   "cell_type": "code",
   "execution_count": 31,
   "metadata": {
    "collapsed": false
   },
   "outputs": [
    {
     "data": {
      "text/plain": [
       "array(['no', 'yes', 'FALSE', 'TRUE', 'arthritis'], dtype=object)"
      ]
     },
     "execution_count": 31,
     "metadata": {},
     "output_type": "execute_result"
    }
   ],
   "source": [
    "data['vas'].unique()"
   ]
  },
  {
   "cell_type": "code",
   "execution_count": 32,
   "metadata": {
    "collapsed": true
   },
   "outputs": [],
   "source": [
    "data['vas'].replace(to_replace= 'TRUE', value = 1, inplace = True)\n",
    "data['vas'].replace(to_replace= 'arthritis', value = 1, inplace = True)\n",
    "data['vas'].replace(to_replace= 'yes', value = 1, inplace = True)\n",
    "data['vas'].replace(to_replace= 'FALSE', value = 0, inplace = True)\n",
    "data['vas'].replace(to_replace= 'no', value = 0, inplace = True)"
   ]
  },
  {
   "cell_type": "code",
   "execution_count": 33,
   "metadata": {
    "collapsed": false
   },
   "outputs": [
    {
     "data": {
      "text/plain": [
       "array(['rent', 'own', 'FALSE', 'TRUE', 'iownmyhome'], dtype=object)"
      ]
     },
     "execution_count": 33,
     "metadata": {},
     "output_type": "execute_result"
    }
   ],
   "source": [
    "data['vag'].unique()"
   ]
  },
  {
   "cell_type": "code",
   "execution_count": 34,
   "metadata": {
    "collapsed": true
   },
   "outputs": [],
   "source": [
    "data['vag'].replace(to_replace= 'TRUE', value = 1, inplace = True)\n",
    "data['vag'].replace(to_replace= 'iownmyhome', value = 1, inplace = True)\n",
    "data['vag'].replace(to_replace= 'own', value = 1, inplace = True)\n",
    "data['vag'].replace(to_replace= 'FALSE', value = 0, inplace = True)\n",
    "data['vag'].replace(to_replace= 'rent', value = 0, inplace = True)"
   ]
  },
  {
   "cell_type": "code",
   "execution_count": 35,
   "metadata": {
    "collapsed": false
   },
   "outputs": [
    {
     "data": {
      "text/plain": [
       "array(['No', 'Yes'], dtype=object)"
      ]
     },
     "execution_count": 35,
     "metadata": {},
     "output_type": "execute_result"
    }
   ],
   "source": [
    "data['CPAWallBuyer'].unique()"
   ]
  },
  {
   "cell_type": "code",
   "execution_count": 36,
   "metadata": {
    "collapsed": true
   },
   "outputs": [],
   "source": [
    "data['CPAWallBuyer'].replace(to_replace= 'Yes', value = 1, inplace = True)\n",
    "data['CPAWallBuyer'].replace(to_replace= 'No', value = 0, inplace = True)"
   ]
  },
  {
   "cell_type": "code",
   "execution_count": 37,
   "metadata": {
    "collapsed": false
   },
   "outputs": [
    {
     "data": {
      "text/html": [
       "<div>\n",
       "<table border=\"1\" class=\"dataframe\">\n",
       "  <thead>\n",
       "    <tr style=\"text-align: right;\">\n",
       "      <th></th>\n",
       "      <th>age</th>\n",
       "      <th>gender</th>\n",
       "      <th>state</th>\n",
       "      <th>esp</th>\n",
       "      <th>vag</th>\n",
       "      <th>val</th>\n",
       "      <th>vas</th>\n",
       "      <th>vaq</th>\n",
       "      <th>v2m</th>\n",
       "      <th>CPAWallBuyer</th>\n",
       "      <th>region</th>\n",
       "      <th>esp_group</th>\n",
       "    </tr>\n",
       "  </thead>\n",
       "  <tbody>\n",
       "    <tr>\n",
       "      <th>15019</th>\n",
       "      <td>48.0</td>\n",
       "      <td>Male</td>\n",
       "      <td>OH</td>\n",
       "      <td>hotmail.com</td>\n",
       "      <td>0</td>\n",
       "      <td>1</td>\n",
       "      <td>1</td>\n",
       "      <td>1</td>\n",
       "      <td>independent</td>\n",
       "      <td>0</td>\n",
       "      <td>midwest</td>\n",
       "      <td>hotmail</td>\n",
       "    </tr>\n",
       "    <tr>\n",
       "      <th>30463</th>\n",
       "      <td>54.0</td>\n",
       "      <td>Female</td>\n",
       "      <td>FL</td>\n",
       "      <td>gmail.com</td>\n",
       "      <td>1</td>\n",
       "      <td>1</td>\n",
       "      <td>0</td>\n",
       "      <td>0</td>\n",
       "      <td>democrat</td>\n",
       "      <td>0</td>\n",
       "      <td>southeast</td>\n",
       "      <td>gmail</td>\n",
       "    </tr>\n",
       "    <tr>\n",
       "      <th>38669</th>\n",
       "      <td>23.0</td>\n",
       "      <td>Male</td>\n",
       "      <td>CA</td>\n",
       "      <td>gmail.com</td>\n",
       "      <td>1</td>\n",
       "      <td>0</td>\n",
       "      <td>0</td>\n",
       "      <td>0</td>\n",
       "      <td>democrat</td>\n",
       "      <td>0</td>\n",
       "      <td>west</td>\n",
       "      <td>gmail</td>\n",
       "    </tr>\n",
       "    <tr>\n",
       "      <th>1627</th>\n",
       "      <td>44.0</td>\n",
       "      <td>Female</td>\n",
       "      <td>MN</td>\n",
       "      <td>gmail.com</td>\n",
       "      <td>0</td>\n",
       "      <td>1</td>\n",
       "      <td>1</td>\n",
       "      <td>0</td>\n",
       "      <td>republican</td>\n",
       "      <td>0</td>\n",
       "      <td>midwest</td>\n",
       "      <td>gmail</td>\n",
       "    </tr>\n",
       "    <tr>\n",
       "      <th>3628</th>\n",
       "      <td>39.0</td>\n",
       "      <td>Female</td>\n",
       "      <td>CT</td>\n",
       "      <td>gmail.com</td>\n",
       "      <td>0</td>\n",
       "      <td>1</td>\n",
       "      <td>0</td>\n",
       "      <td>0</td>\n",
       "      <td>republican</td>\n",
       "      <td>0</td>\n",
       "      <td>northeast</td>\n",
       "      <td>gmail</td>\n",
       "    </tr>\n",
       "    <tr>\n",
       "      <th>41784</th>\n",
       "      <td>55.0</td>\n",
       "      <td>Female</td>\n",
       "      <td>CA</td>\n",
       "      <td>gmail.com</td>\n",
       "      <td>1</td>\n",
       "      <td>1</td>\n",
       "      <td>1</td>\n",
       "      <td>0</td>\n",
       "      <td>democrat</td>\n",
       "      <td>0</td>\n",
       "      <td>west</td>\n",
       "      <td>gmail</td>\n",
       "    </tr>\n",
       "    <tr>\n",
       "      <th>22656</th>\n",
       "      <td>22.0</td>\n",
       "      <td>Female</td>\n",
       "      <td>TX</td>\n",
       "      <td>gmail.com</td>\n",
       "      <td>0</td>\n",
       "      <td>0</td>\n",
       "      <td>0</td>\n",
       "      <td>1</td>\n",
       "      <td>independent</td>\n",
       "      <td>0</td>\n",
       "      <td>southwest</td>\n",
       "      <td>gmail</td>\n",
       "    </tr>\n",
       "    <tr>\n",
       "      <th>17050</th>\n",
       "      <td>20.0</td>\n",
       "      <td>Male</td>\n",
       "      <td>PA</td>\n",
       "      <td>yahoo.com</td>\n",
       "      <td>0</td>\n",
       "      <td>0</td>\n",
       "      <td>0</td>\n",
       "      <td>0</td>\n",
       "      <td>independent</td>\n",
       "      <td>0</td>\n",
       "      <td>northeast</td>\n",
       "      <td>yahoo</td>\n",
       "    </tr>\n",
       "    <tr>\n",
       "      <th>46128</th>\n",
       "      <td>58.0</td>\n",
       "      <td>Male</td>\n",
       "      <td>IN</td>\n",
       "      <td>gmail.com</td>\n",
       "      <td>0</td>\n",
       "      <td>0</td>\n",
       "      <td>1</td>\n",
       "      <td>0</td>\n",
       "      <td>independent</td>\n",
       "      <td>0</td>\n",
       "      <td>midwest</td>\n",
       "      <td>gmail</td>\n",
       "    </tr>\n",
       "    <tr>\n",
       "      <th>32436</th>\n",
       "      <td>47.0</td>\n",
       "      <td>Female</td>\n",
       "      <td>KY</td>\n",
       "      <td>gmail.com</td>\n",
       "      <td>0</td>\n",
       "      <td>1</td>\n",
       "      <td>0</td>\n",
       "      <td>0</td>\n",
       "      <td>democrat</td>\n",
       "      <td>0</td>\n",
       "      <td>southeast</td>\n",
       "      <td>gmail</td>\n",
       "    </tr>\n",
       "  </tbody>\n",
       "</table>\n",
       "</div>"
      ],
      "text/plain": [
       "        age  gender state          esp  vag  val  vas  vaq          v2m  \\\n",
       "15019  48.0    Male    OH  hotmail.com    0    1    1    1  independent   \n",
       "30463  54.0  Female    FL    gmail.com    1    1    0    0     democrat   \n",
       "38669  23.0    Male    CA    gmail.com    1    0    0    0     democrat   \n",
       "1627   44.0  Female    MN    gmail.com    0    1    1    0   republican   \n",
       "3628   39.0  Female    CT    gmail.com    0    1    0    0   republican   \n",
       "41784  55.0  Female    CA    gmail.com    1    1    1    0     democrat   \n",
       "22656  22.0  Female    TX    gmail.com    0    0    0    1  independent   \n",
       "17050  20.0    Male    PA    yahoo.com    0    0    0    0  independent   \n",
       "46128  58.0    Male    IN    gmail.com    0    0    1    0  independent   \n",
       "32436  47.0  Female    KY    gmail.com    0    1    0    0     democrat   \n",
       "\n",
       "       CPAWallBuyer     region esp_group  \n",
       "15019             0    midwest   hotmail  \n",
       "30463             0  southeast     gmail  \n",
       "38669             0       west     gmail  \n",
       "1627              0    midwest     gmail  \n",
       "3628              0  northeast     gmail  \n",
       "41784             0       west     gmail  \n",
       "22656             0  southwest     gmail  \n",
       "17050             0  northeast     yahoo  \n",
       "46128             0    midwest     gmail  \n",
       "32436             0  southeast     gmail  "
      ]
     },
     "execution_count": 37,
     "metadata": {},
     "output_type": "execute_result"
    }
   ],
   "source": [
    "data.sample(10)"
   ]
  },
  {
   "cell_type": "code",
   "execution_count": 38,
   "metadata": {
    "collapsed": false
   },
   "outputs": [
    {
     "data": {
      "text/html": [
       "<div>\n",
       "<table border=\"1\" class=\"dataframe\">\n",
       "  <thead>\n",
       "    <tr style=\"text-align: right;\">\n",
       "      <th></th>\n",
       "      <th>age</th>\n",
       "      <th>vag</th>\n",
       "      <th>val</th>\n",
       "      <th>vas</th>\n",
       "      <th>vaq</th>\n",
       "      <th>CPAWallBuyer</th>\n",
       "    </tr>\n",
       "  </thead>\n",
       "  <tbody>\n",
       "    <tr>\n",
       "      <th>count</th>\n",
       "      <td>60030.000000</td>\n",
       "      <td>60030.000000</td>\n",
       "      <td>60030.000000</td>\n",
       "      <td>60030.000000</td>\n",
       "      <td>60030.000000</td>\n",
       "      <td>60030.000000</td>\n",
       "    </tr>\n",
       "    <tr>\n",
       "      <th>mean</th>\n",
       "      <td>43.218291</td>\n",
       "      <td>0.325271</td>\n",
       "      <td>0.597884</td>\n",
       "      <td>0.226087</td>\n",
       "      <td>0.149175</td>\n",
       "      <td>0.015442</td>\n",
       "    </tr>\n",
       "    <tr>\n",
       "      <th>std</th>\n",
       "      <td>16.272870</td>\n",
       "      <td>0.468480</td>\n",
       "      <td>0.490329</td>\n",
       "      <td>0.418300</td>\n",
       "      <td>0.356264</td>\n",
       "      <td>0.123305</td>\n",
       "    </tr>\n",
       "    <tr>\n",
       "      <th>min</th>\n",
       "      <td>13.000000</td>\n",
       "      <td>0.000000</td>\n",
       "      <td>0.000000</td>\n",
       "      <td>0.000000</td>\n",
       "      <td>0.000000</td>\n",
       "      <td>0.000000</td>\n",
       "    </tr>\n",
       "    <tr>\n",
       "      <th>25%</th>\n",
       "      <td>30.000000</td>\n",
       "      <td>0.000000</td>\n",
       "      <td>0.000000</td>\n",
       "      <td>0.000000</td>\n",
       "      <td>0.000000</td>\n",
       "      <td>0.000000</td>\n",
       "    </tr>\n",
       "    <tr>\n",
       "      <th>50%</th>\n",
       "      <td>42.000000</td>\n",
       "      <td>0.000000</td>\n",
       "      <td>1.000000</td>\n",
       "      <td>0.000000</td>\n",
       "      <td>0.000000</td>\n",
       "      <td>0.000000</td>\n",
       "    </tr>\n",
       "    <tr>\n",
       "      <th>75%</th>\n",
       "      <td>55.000000</td>\n",
       "      <td>1.000000</td>\n",
       "      <td>1.000000</td>\n",
       "      <td>0.000000</td>\n",
       "      <td>0.000000</td>\n",
       "      <td>0.000000</td>\n",
       "    </tr>\n",
       "    <tr>\n",
       "      <th>max</th>\n",
       "      <td>116.000000</td>\n",
       "      <td>1.000000</td>\n",
       "      <td>1.000000</td>\n",
       "      <td>1.000000</td>\n",
       "      <td>1.000000</td>\n",
       "      <td>1.000000</td>\n",
       "    </tr>\n",
       "  </tbody>\n",
       "</table>\n",
       "</div>"
      ],
      "text/plain": [
       "                age           vag           val           vas           vaq  \\\n",
       "count  60030.000000  60030.000000  60030.000000  60030.000000  60030.000000   \n",
       "mean      43.218291      0.325271      0.597884      0.226087      0.149175   \n",
       "std       16.272870      0.468480      0.490329      0.418300      0.356264   \n",
       "min       13.000000      0.000000      0.000000      0.000000      0.000000   \n",
       "25%       30.000000      0.000000      0.000000      0.000000      0.000000   \n",
       "50%       42.000000      0.000000      1.000000      0.000000      0.000000   \n",
       "75%       55.000000      1.000000      1.000000      0.000000      0.000000   \n",
       "max      116.000000      1.000000      1.000000      1.000000      1.000000   \n",
       "\n",
       "       CPAWallBuyer  \n",
       "count  60030.000000  \n",
       "mean       0.015442  \n",
       "std        0.123305  \n",
       "min        0.000000  \n",
       "25%        0.000000  \n",
       "50%        0.000000  \n",
       "75%        0.000000  \n",
       "max        1.000000  "
      ]
     },
     "execution_count": 38,
     "metadata": {},
     "output_type": "execute_result"
    }
   ],
   "source": [
    "data.describe()"
   ]
  },
  {
   "cell_type": "markdown",
   "metadata": {},
   "source": [
    "### II. Exploratory Data Analysis"
   ]
  },
  {
   "cell_type": "markdown",
   "metadata": {},
   "source": [
    "#### a. Probability of a Buyer"
   ]
  },
  {
   "cell_type": "code",
   "execution_count": 176,
   "metadata": {
    "collapsed": false
   },
   "outputs": [
    {
     "data": {
      "text/plain": [
       "927"
      ]
     },
     "execution_count": 176,
     "metadata": {},
     "output_type": "execute_result"
    }
   ],
   "source": [
    "data[data['CPAWallBuyer']==1]['CPAWallBuyer'].sum() #Ttl converted users"
   ]
  },
  {
   "cell_type": "code",
   "execution_count": 177,
   "metadata": {
    "collapsed": false
   },
   "outputs": [
    {
     "data": {
      "text/plain": [
       "59095"
      ]
     },
     "execution_count": 177,
     "metadata": {},
     "output_type": "execute_result"
    }
   ],
   "source": [
    "data[data['CPAWallBuyer']==0]['CPAWallBuyer'].count() #Ttl of non-converters"
   ]
  },
  {
   "cell_type": "code",
   "execution_count": 178,
   "metadata": {
    "collapsed": false
   },
   "outputs": [
    {
     "data": {
      "text/plain": [
       "0.015442278860569715"
      ]
     },
     "execution_count": 178,
     "metadata": {},
     "output_type": "execute_result"
    }
   ],
   "source": [
    "927.0/(927+59103) #Conversion rate; imbalanced data set"
   ]
  },
  {
   "cell_type": "code",
   "execution_count": 183,
   "metadata": {
    "collapsed": false
   },
   "outputs": [
    {
     "data": {
      "image/png": "[encoded data removed]",
      "text/plain": [
       "<matplotlib.figure.Figure at 0x1171119d0>"
      ]
     },
     "metadata": {},
     "output_type": "display_data"
    }
   ],
   "source": [
    "plt.hist(data['CPAWallBuyer']);"
   ]
  },
  {
   "cell_type": "markdown",
   "metadata": {},
   "source": [
    "#### b. Frequency Tables"
   ]
  },
  {
   "cell_type": "code",
   "execution_count": 42,
   "metadata": {
    "collapsed": false
   },
   "outputs": [
    {
     "data": {
      "text/plain": [
       "CPAWallBuyer  age  \n",
       "0             16.0       1\n",
       "              101.0      1\n",
       "              102.0      1\n",
       "              116.0      1\n",
       "              13.0       2\n",
       "              15.0       2\n",
       "              94.0      10\n",
       "              97.0      10\n",
       "              93.0      12\n",
       "              95.0      13\n",
       "              96.0      24\n",
       "              17.0      25\n",
       "              92.0      34\n",
       "              88.0      39\n",
       "              90.0      50\n",
       "              87.0      58\n",
       "              85.0      61\n",
       "              89.0      64\n",
       "              84.0      72\n",
       "              86.0      72\n",
       "              82.0      77\n",
       "              83.0      79\n",
       "              81.0      88\n",
       "              79.0     121\n",
       "              80.0     126\n",
       "              78.0     141\n",
       "              77.0     157\n",
       "              76.0     195\n",
       "              91.0     210\n",
       "              74.0     225\n",
       "                      ... \n",
       "1             50.0      15\n",
       "              54.0      15\n",
       "              45.0      16\n",
       "              19.0      17\n",
       "              46.0      17\n",
       "              51.0      18\n",
       "              58.0      18\n",
       "              25.0      19\n",
       "              37.0      19\n",
       "              26.0      20\n",
       "              27.0      21\n",
       "              31.0      22\n",
       "              43.0      22\n",
       "              20.0      23\n",
       "              34.0      23\n",
       "              42.0      23\n",
       "              21.0      24\n",
       "              29.0      24\n",
       "              39.0      24\n",
       "              53.0      25\n",
       "              33.0      26\n",
       "              36.0      26\n",
       "              22.0      27\n",
       "              38.0      27\n",
       "              47.0      27\n",
       "              30.0      28\n",
       "              28.0      30\n",
       "              32.0      32\n",
       "              35.0      34\n",
       "              41.0      39\n",
       "Name: age, dtype: int64"
      ]
     },
     "execution_count": 42,
     "metadata": {},
     "output_type": "execute_result"
    }
   ],
   "source": [
    "buyer_sum = data.groupby(['CPAWallBuyer'])\n",
    "buyer_sum['age'].value_counts(ascending=True) #ascending=True because I want to see the ages with highest number of buyers"
   ]
  },
  {
   "cell_type": "code",
   "execution_count": 43,
   "metadata": {
    "collapsed": true
   },
   "outputs": [],
   "source": [
    "#Removing age outliers\n",
    "data = data[(data['age']<101) & (data['age']>16)]"
   ]
  },
  {
   "cell_type": "code",
   "execution_count": 73,
   "metadata": {
    "collapsed": false
   },
   "outputs": [
    {
     "data": {
      "image/png": "[encoded data removed]",
      "text/plain": [
       "<matplotlib.figure.Figure at 0x11acbf510>"
      ]
     },
     "metadata": {},
     "output_type": "display_data"
    }
   ],
   "source": [
    "sns.factorplot(x= 'CPAWallBuyer', y= 'age', data=data, kind='violin', palette='Set3');"
   ]
  },
  {
   "cell_type": "code",
   "execution_count": 74,
   "metadata": {
    "collapsed": false
   },
   "outputs": [
    {
     "data": {
      "image/png": "[encoded data removed]",
      "text/plain": [
       "<matplotlib.figure.Figure at 0x114f8c190>"
      ]
     },
     "metadata": {},
     "output_type": "display_data"
    }
   ],
   "source": [
    "plt.hist(data['age'], color= 'teal')\n",
    "plt.xlabel('Age')\n",
    "plt.ylabel('Frequency')\n",
    "plt.title('Age Distribution');"
   ]
  },
  {
   "cell_type": "markdown",
   "metadata": {},
   "source": [
    "Age is right-skewed distribution"
   ]
  },
  {
   "cell_type": "code",
   "execution_count": 44,
   "metadata": {
    "collapsed": false
   },
   "outputs": [
    {
     "data": {
      "text/plain": [
       "CPAWallBuyer  gender\n",
       "0             Female    35257\n",
       "              Male      23846\n",
       "1             Female      622\n",
       "              Male        305\n",
       "Name: gender, dtype: int64"
      ]
     },
     "execution_count": 44,
     "metadata": {},
     "output_type": "execute_result"
    }
   ],
   "source": [
    "buyer_sum['gender'].value_counts()"
   ]
  },
  {
   "cell_type": "code",
   "execution_count": 45,
   "metadata": {
    "collapsed": false
   },
   "outputs": [
    {
     "data": {
      "text/plain": [
       "0.0176433879843422"
      ]
     },
     "execution_count": 45,
     "metadata": {},
     "output_type": "execute_result"
    }
   ],
   "source": [
    "622.0/35254 #Female conversion odds"
   ]
  },
  {
   "cell_type": "code",
   "execution_count": 46,
   "metadata": {
    "collapsed": false
   },
   "outputs": [
    {
     "data": {
      "text/plain": [
       "0.0127930875382744"
      ]
     },
     "execution_count": 46,
     "metadata": {},
     "output_type": "execute_result"
    }
   ],
   "source": [
    "305.0/23841 #Male conversion odds"
   ]
  },
  {
   "cell_type": "code",
   "execution_count": 48,
   "metadata": {
    "collapsed": false
   },
   "outputs": [
    {
     "data": {
      "image/png": "[encoded data removed]",
      "text/plain": [
       "<matplotlib.figure.Figure at 0x114746c10>"
      ]
     },
     "metadata": {},
     "output_type": "display_data"
    }
   ],
   "source": [
    "sns.factorplot(x= 'gender', y='CPAWallBuyer', data=data, kind='violin');"
   ]
  },
  {
   "cell_type": "code",
   "execution_count": 49,
   "metadata": {
    "collapsed": false
   },
   "outputs": [
    {
     "data": {
      "text/plain": [
       "CPAWallBuyer  state\n",
       "0             GU         1\n",
       "              AP         2\n",
       "              AE         6\n",
       "              VI         6\n",
       "              WY        97\n",
       "              VT        98\n",
       "              ND       115\n",
       "              SD       133\n",
       "              MT       151\n",
       "              PR       151\n",
       "              AK       164\n",
       "              RI       171\n",
       "              NH       181\n",
       "              DE       185\n",
       "              DC       210\n",
       "              HI       227\n",
       "              ME       234\n",
       "              ID       253\n",
       "              NE       259\n",
       "              UT       399\n",
       "              NM       423\n",
       "              WV       442\n",
       "              NV       523\n",
       "              KS       526\n",
       "              IA       540\n",
       "              OR       570\n",
       "              CT       579\n",
       "              MN       749\n",
       "              CO       817\n",
       "              AR       826\n",
       "                      ... \n",
       "1             NJ        11\n",
       "              NV        11\n",
       "              WV        11\n",
       "              UT        12\n",
       "              KY        13\n",
       "              MD        13\n",
       "              MN        13\n",
       "              WA        13\n",
       "              IA        14\n",
       "              OK        14\n",
       "              MS        15\n",
       "              OR        19\n",
       "              SC        19\n",
       "              MO        20\n",
       "              IN        21\n",
       "              IL        24\n",
       "              AL        27\n",
       "              LA        28\n",
       "              NY        28\n",
       "              NC        29\n",
       "              OH        30\n",
       "              AR        31\n",
       "              MI        31\n",
       "              TN        31\n",
       "              GA        35\n",
       "              PA        37\n",
       "              VA        37\n",
       "              FL        57\n",
       "              CA        69\n",
       "              TX       103\n",
       "Name: state, dtype: int64"
      ]
     },
     "execution_count": 49,
     "metadata": {},
     "output_type": "execute_result"
    }
   ],
   "source": [
    "buyer_sum['state'].value_counts(ascending=True)"
   ]
  },
  {
   "cell_type": "code",
   "execution_count": 50,
   "metadata": {
    "collapsed": true
   },
   "outputs": [],
   "source": [
    "#Removing region outliers\n",
    "data = data[(data['region']!='VI') | (data['region']!='AE') | (data['region']!='AP') | (data['region']!='GU')]"
   ]
  },
  {
   "cell_type": "code",
   "execution_count": 51,
   "metadata": {
    "collapsed": false
   },
   "outputs": [
    {
     "data": {
      "text/plain": [
       "CPAWallBuyer  region      \n",
       "0             southeast       18973\n",
       "              midwest         12681\n",
       "              northeast       10131\n",
       "              west             8728\n",
       "              southwest        7823\n",
       "              non_mainland      391\n",
       "              territory         376\n",
       "1             southeast         333\n",
       "              midwest           183\n",
       "              west              141\n",
       "              southwest         136\n",
       "              northeast         122\n",
       "              non_mainland        6\n",
       "              territory           6\n",
       "Name: region, dtype: int64"
      ]
     },
     "execution_count": 51,
     "metadata": {},
     "output_type": "execute_result"
    }
   ],
   "source": [
    "buyer_sum['region'].value_counts()"
   ]
  },
  {
   "cell_type": "code",
   "execution_count": 184,
   "metadata": {
    "collapsed": false
   },
   "outputs": [
    {
     "data": {
      "image/png": "[encoded data removed]",
      "text/plain": [
       "<matplotlib.figure.Figure at 0x11d25dc50>"
      ]
     },
     "metadata": {},
     "output_type": "display_data"
    }
   ],
   "source": [
    "sns.factorplot(x= 'CPAWallBuyer', y= 'region', data=data, kind='violin', palette='Set3');"
   ]
  },
  {
   "cell_type": "code",
   "execution_count": 76,
   "metadata": {
    "collapsed": false
   },
   "outputs": [
    {
     "data": {
      "text/plain": [
       "0.017552182163187855"
      ]
     },
     "execution_count": 76,
     "metadata": {},
     "output_type": "execute_result"
    }
   ],
   "source": [
    "333.0/18972 #southeast conversion odds"
   ]
  },
  {
   "cell_type": "code",
   "execution_count": 77,
   "metadata": {
    "collapsed": false
   },
   "outputs": [
    {
     "data": {
      "text/plain": [
       "0.014433314930199543"
      ]
     },
     "execution_count": 77,
     "metadata": {},
     "output_type": "execute_result"
    }
   ],
   "source": [
    "183.0/12679 #midwest conversion odds"
   ]
  },
  {
   "cell_type": "code",
   "execution_count": 78,
   "metadata": {
    "collapsed": false
   },
   "outputs": [
    {
     "data": {
      "text/plain": [
       "0.016154903758020166"
      ]
     },
     "execution_count": 78,
     "metadata": {},
     "output_type": "execute_result"
    }
   ],
   "source": [
    "141.0/8728 #west conversion odds"
   ]
  },
  {
   "cell_type": "code",
   "execution_count": 79,
   "metadata": {
    "collapsed": false
   },
   "outputs": [
    {
     "data": {
      "text/plain": [
       "0.01738908068021992"
      ]
     },
     "execution_count": 79,
     "metadata": {},
     "output_type": "execute_result"
    }
   ],
   "source": [
    "136.0/7821 #southwest conversion odds"
   ]
  },
  {
   "cell_type": "code",
   "execution_count": 80,
   "metadata": {
    "collapsed": false
   },
   "outputs": [
    {
     "data": {
      "text/plain": [
       "0.012045813586097947"
      ]
     },
     "execution_count": 80,
     "metadata": {},
     "output_type": "execute_result"
    }
   ],
   "source": [
    "122.0/10128 #northeast conversion odds"
   ]
  },
  {
   "cell_type": "code",
   "execution_count": 81,
   "metadata": {
    "collapsed": false
   },
   "outputs": [
    {
     "data": {
      "text/plain": [
       "0.015345268542199489"
      ]
     },
     "execution_count": 81,
     "metadata": {},
     "output_type": "execute_result"
    }
   ],
   "source": [
    "6.0/391 #non_mainland conversion odds"
   ]
  },
  {
   "cell_type": "code",
   "execution_count": 82,
   "metadata": {
    "collapsed": false
   },
   "outputs": [
    {
     "data": {
      "text/plain": [
       "0.015957446808510637"
      ]
     },
     "execution_count": 82,
     "metadata": {},
     "output_type": "execute_result"
    }
   ],
   "source": [
    "6.0/376 #territory conversion odds"
   ]
  },
  {
   "cell_type": "code",
   "execution_count": 83,
   "metadata": {
    "collapsed": false
   },
   "outputs": [
    {
     "data": {
      "text/plain": [
       "CPAWallBuyer  esp                   \n",
       "0             gmail.com                 32170\n",
       "              yahoo.com                 16013\n",
       "              hotmail.com                2477\n",
       "              aol.com                    2316\n",
       "              icloud.com                  663\n",
       "              comcast.net                 558\n",
       "              outlook.com                 435\n",
       "              att.net                     430\n",
       "              live.com                    395\n",
       "              ymail.com                   359\n",
       "              msn.com                     322\n",
       "              sbcglobal.net               234\n",
       "              verizon.net                 185\n",
       "              bellsouth.net               157\n",
       "              rocketmail.com              133\n",
       "              cox.net                     131\n",
       "              charter.net                  96\n",
       "              me.com                       70\n",
       "              mail.com                     69\n",
       "              frontier.com                 46\n",
       "              windstream.net               39\n",
       "              email.com                    36\n",
       "              optonline.net                36\n",
       "              juno.com                     33\n",
       "              roadrunner.com               30\n",
       "              centurylink.net              27\n",
       "              earthlink.net                27\n",
       "              aim.com                      25\n",
       "              embarqmail.com               25\n",
       "              netzero.net                  22\n",
       "                                        ...  \n",
       "1             outlook.com                  15\n",
       "              icloud.com                    8\n",
       "              att.net                       7\n",
       "              comcast.net                   5\n",
       "              frsed.org                     5\n",
       "              charter.net                   4\n",
       "              live.com                      4\n",
       "              msn.com                       3\n",
       "              ymail.com                     3\n",
       "              bellsouth.net                 2\n",
       "              kpunet.net                    2\n",
       "              me.com                        2\n",
       "              watermark.org                 2\n",
       "              bgsu.edu                      1\n",
       "              cfaith.com                    1\n",
       "              cox.net                       1\n",
       "              example.com                   1\n",
       "              goodlittleranch.com           1\n",
       "              googlemail.com                1\n",
       "              kisd.org                      1\n",
       "              little-dixie.lib.mo.us        1\n",
       "              live.com.mx                   1\n",
       "              mail.gvsu.edu                 1\n",
       "              mexicoschools.net             1\n",
       "              mygait.com                    1\n",
       "              netzero.net                   1\n",
       "              no.com                        1\n",
       "              suddenlink.net                1\n",
       "              thelimit.com                  1\n",
       "              windstream.net                1\n",
       "Name: esp, dtype: int64"
      ]
     },
     "execution_count": 83,
     "metadata": {},
     "output_type": "execute_result"
    }
   ],
   "source": [
    "buyer_sum['esp'].value_counts(ascending=False)"
   ]
  },
  {
   "cell_type": "code",
   "execution_count": 84,
   "metadata": {
    "collapsed": false
   },
   "outputs": [
    {
     "data": {
      "text/plain": [
       "CPAWallBuyer  esp_group\n",
       "0             gmail        32170\n",
       "              yahoo        16013\n",
       "              other         3816\n",
       "              hotmail       2477\n",
       "              aol           2316\n",
       "              .net          2311\n",
       "1             gmail          589\n",
       "              yahoo          198\n",
       "              other           54\n",
       "              hotmail         35\n",
       "              aol             26\n",
       "              .net            25\n",
       "Name: esp_group, dtype: int64"
      ]
     },
     "execution_count": 84,
     "metadata": {},
     "output_type": "execute_result"
    }
   ],
   "source": [
    "buyer_sum['esp_group'].value_counts()"
   ]
  },
  {
   "cell_type": "code",
   "execution_count": 189,
   "metadata": {
    "collapsed": false
   },
   "outputs": [
    {
     "data": {
      "text/html": [
       "<div>\n",
       "<table border=\"1\" class=\"dataframe\">\n",
       "  <thead>\n",
       "    <tr style=\"text-align: right;\">\n",
       "      <th></th>\n",
       "      <th></th>\n",
       "      <th>esp_group</th>\n",
       "    </tr>\n",
       "    <tr>\n",
       "      <th>CPAWallBuyer</th>\n",
       "      <th>esp_group</th>\n",
       "      <th></th>\n",
       "    </tr>\n",
       "  </thead>\n",
       "  <tbody>\n",
       "    <tr>\n",
       "      <th rowspan=\"6\" valign=\"top\">0</th>\n",
       "      <th>gmail</th>\n",
       "      <td>32170</td>\n",
       "    </tr>\n",
       "    <tr>\n",
       "      <th>yahoo</th>\n",
       "      <td>16013</td>\n",
       "    </tr>\n",
       "    <tr>\n",
       "      <th>other</th>\n",
       "      <td>3816</td>\n",
       "    </tr>\n",
       "    <tr>\n",
       "      <th>hotmail</th>\n",
       "      <td>2477</td>\n",
       "    </tr>\n",
       "    <tr>\n",
       "      <th>aol</th>\n",
       "      <td>2316</td>\n",
       "    </tr>\n",
       "    <tr>\n",
       "      <th>.net</th>\n",
       "      <td>2311</td>\n",
       "    </tr>\n",
       "    <tr>\n",
       "      <th rowspan=\"6\" valign=\"top\">1</th>\n",
       "      <th>gmail</th>\n",
       "      <td>589</td>\n",
       "    </tr>\n",
       "    <tr>\n",
       "      <th>yahoo</th>\n",
       "      <td>198</td>\n",
       "    </tr>\n",
       "    <tr>\n",
       "      <th>other</th>\n",
       "      <td>54</td>\n",
       "    </tr>\n",
       "    <tr>\n",
       "      <th>hotmail</th>\n",
       "      <td>35</td>\n",
       "    </tr>\n",
       "    <tr>\n",
       "      <th>aol</th>\n",
       "      <td>26</td>\n",
       "    </tr>\n",
       "    <tr>\n",
       "      <th>.net</th>\n",
       "      <td>25</td>\n",
       "    </tr>\n",
       "  </tbody>\n",
       "</table>\n",
       "</div>"
      ],
      "text/plain": [
       "                        esp_group\n",
       "CPAWallBuyer esp_group           \n",
       "0            gmail          32170\n",
       "             yahoo          16013\n",
       "             other           3816\n",
       "             hotmail         2477\n",
       "             aol             2316\n",
       "             .net            2311\n",
       "1            gmail            589\n",
       "             yahoo            198\n",
       "             other             54\n",
       "             hotmail           35\n",
       "             aol               26\n",
       "             .net              25"
      ]
     },
     "execution_count": 189,
     "metadata": {},
     "output_type": "execute_result"
    }
   ],
   "source": [
    "frame = buyer_sum['esp_group'].value_counts()\n",
    "frame = pd.DataFrame(frame)\n",
    "frame"
   ]
  },
  {
   "cell_type": "code",
   "execution_count": 85,
   "metadata": {
    "collapsed": false
   },
   "outputs": [
    {
     "data": {
      "text/plain": [
       "0.01831239895535381"
      ]
     },
     "execution_count": 85,
     "metadata": {},
     "output_type": "execute_result"
    }
   ],
   "source": [
    "589.0/32164 #gmail conversion odds"
   ]
  },
  {
   "cell_type": "code",
   "execution_count": 86,
   "metadata": {
    "collapsed": false
   },
   "outputs": [
    {
     "data": {
      "text/plain": [
       "0.01236572570572071"
      ]
     },
     "execution_count": 86,
     "metadata": {},
     "output_type": "execute_result"
    }
   ],
   "source": [
    "198.0/16012 #yahoo conversion odds"
   ]
  },
  {
   "cell_type": "code",
   "execution_count": 87,
   "metadata": {
    "collapsed": false
   },
   "outputs": [
    {
     "data": {
      "text/plain": [
       "0.014150943396226415"
      ]
     },
     "execution_count": 87,
     "metadata": {},
     "output_type": "execute_result"
    }
   ],
   "source": [
    "54.0/3816 #other conversion odds"
   ]
  },
  {
   "cell_type": "code",
   "execution_count": 88,
   "metadata": {
    "collapsed": false
   },
   "outputs": [
    {
     "data": {
      "text/plain": [
       "0.014129995962858296"
      ]
     },
     "execution_count": 88,
     "metadata": {},
     "output_type": "execute_result"
    }
   ],
   "source": [
    "35.0/2477 #hotmail conversion odds"
   ]
  },
  {
   "cell_type": "code",
   "execution_count": 89,
   "metadata": {
    "collapsed": false
   },
   "outputs": [
    {
     "data": {
      "text/plain": [
       "0.011226252158894647"
      ]
     },
     "execution_count": 89,
     "metadata": {},
     "output_type": "execute_result"
    }
   ],
   "source": [
    "26.0/2316 #aol conversion odds"
   ]
  },
  {
   "cell_type": "code",
   "execution_count": 90,
   "metadata": {
    "collapsed": false
   },
   "outputs": [
    {
     "data": {
      "text/plain": [
       "CPAWallBuyer  vag\n",
       "0             0      39809\n",
       "              1      19294\n",
       "1             0        695\n",
       "              1        232\n",
       "Name: vag, dtype: int64"
      ]
     },
     "execution_count": 90,
     "metadata": {},
     "output_type": "execute_result"
    }
   ],
   "source": [
    "buyer_sum['vag'].value_counts()"
   ]
  },
  {
   "cell_type": "code",
   "execution_count": 91,
   "metadata": {
    "collapsed": false
   },
   "outputs": [
    {
     "data": {
      "text/plain": [
       "0.012025710138917687"
      ]
     },
     "execution_count": 91,
     "metadata": {},
     "output_type": "execute_result"
    }
   ],
   "source": [
    "232.0/19292 # home owner conversion odds"
   ]
  },
  {
   "cell_type": "code",
   "execution_count": 92,
   "metadata": {
    "collapsed": false
   },
   "outputs": [
    {
     "data": {
      "text/plain": [
       "CPAWallBuyer  val\n",
       "0             1      35392\n",
       "              0      23711\n",
       "1             1        499\n",
       "              0        428\n",
       "Name: val, dtype: int64"
      ]
     },
     "execution_count": 92,
     "metadata": {},
     "output_type": "execute_result"
    }
   ],
   "source": [
    "buyer_sum['val'].value_counts()"
   ]
  },
  {
   "cell_type": "code",
   "execution_count": 93,
   "metadata": {
    "collapsed": false
   },
   "outputs": [
    {
     "data": {
      "text/plain": [
       "0.014100426686258442"
      ]
     },
     "execution_count": 93,
     "metadata": {},
     "output_type": "execute_result"
    }
   ],
   "source": [
    "499.0/35389 # Car owner conversion odds"
   ]
  },
  {
   "cell_type": "code",
   "execution_count": 94,
   "metadata": {
    "collapsed": false
   },
   "outputs": [
    {
     "data": {
      "text/plain": [
       "CPAWallBuyer  vas\n",
       "0             0      45716\n",
       "              1      13387\n",
       "1             0        742\n",
       "              1        185\n",
       "Name: vas, dtype: int64"
      ]
     },
     "execution_count": 94,
     "metadata": {},
     "output_type": "execute_result"
    }
   ],
   "source": [
    "buyer_sum['vas'].value_counts()"
   ]
  },
  {
   "cell_type": "code",
   "execution_count": 95,
   "metadata": {
    "collapsed": false
   },
   "outputs": [
    {
     "data": {
      "text/plain": [
       "CPAWallBuyer  vaq\n",
       "0             0      50231\n",
       "              1       8872\n",
       "1             0        844\n",
       "              1         83\n",
       "Name: vaq, dtype: int64"
      ]
     },
     "execution_count": 95,
     "metadata": {},
     "output_type": "execute_result"
    }
   ],
   "source": [
    "buyer_sum['vaq'].value_counts()"
   ]
  },
  {
   "cell_type": "code",
   "execution_count": 96,
   "metadata": {
    "collapsed": false
   },
   "outputs": [
    {
     "data": {
      "text/plain": [
       "0.00935738444193912"
      ]
     },
     "execution_count": 96,
     "metadata": {},
     "output_type": "execute_result"
    }
   ],
   "source": [
    "83.0/8870 # Diabetic conversion odds"
   ]
  },
  {
   "cell_type": "code",
   "execution_count": 97,
   "metadata": {
    "collapsed": false
   },
   "outputs": [
    {
     "data": {
      "text/plain": [
       "gender  CPAWallBuyer  age \n",
       "Female  0             97.0      2\n",
       "                      94.0      3\n",
       "                      95.0      4\n",
       "                      96.0      4\n",
       "                      93.0      6\n",
       "                      92.0      9\n",
       "                      17.0     15\n",
       "                      89.0     16\n",
       "                      90.0     17\n",
       "                      84.0     19\n",
       "                      87.0     19\n",
       "                      88.0     19\n",
       "                      86.0     25\n",
       "                      85.0     27\n",
       "                      82.0     34\n",
       "                      81.0     36\n",
       "                      83.0     41\n",
       "                      80.0     65\n",
       "                      91.0     72\n",
       "                      79.0     76\n",
       "                      78.0     79\n",
       "                      77.0     94\n",
       "                      76.0    113\n",
       "                      74.0    129\n",
       "                      75.0    152\n",
       "                      71.0    162\n",
       "                      73.0    168\n",
       "                      72.0    175\n",
       "                      70.0    237\n",
       "                      69.0    281\n",
       "                             ... \n",
       "Male    1             34.0      4\n",
       "                      45.0      4\n",
       "                      53.0      4\n",
       "                      50.0      5\n",
       "                      54.0      5\n",
       "                      18.0      6\n",
       "                      19.0      6\n",
       "                      24.0      6\n",
       "                      25.0      6\n",
       "                      27.0      6\n",
       "                      36.0      6\n",
       "                      37.0      6\n",
       "                      38.0      6\n",
       "                      42.0      6\n",
       "                      44.0      6\n",
       "                      52.0      6\n",
       "                      31.0      7\n",
       "                      58.0      7\n",
       "                      64.0      7\n",
       "                      47.0      8\n",
       "                      20.0     10\n",
       "                      29.0     10\n",
       "                      39.0     11\n",
       "                      28.0     12\n",
       "                      30.0     12\n",
       "                      32.0     12\n",
       "                      41.0     12\n",
       "                      43.0     12\n",
       "                      21.0     13\n",
       "                      35.0     20\n",
       "Name: age, dtype: int64"
      ]
     },
     "execution_count": 97,
     "metadata": {},
     "output_type": "execute_result"
    }
   ],
   "source": [
    "buyer_gender = data.groupby(['gender', 'CPAWallBuyer'])\n",
    "buyer_gender['age'].value_counts(ascending=True)"
   ]
  },
  {
   "cell_type": "code",
   "execution_count": 98,
   "metadata": {
    "collapsed": false
   },
   "outputs": [
    {
     "data": {
      "text/html": [
       "<div>\n",
       "<table border=\"1\" class=\"dataframe\">\n",
       "  <thead>\n",
       "    <tr style=\"text-align: right;\">\n",
       "      <th></th>\n",
       "      <th>age</th>\n",
       "      <th>vag</th>\n",
       "      <th>val</th>\n",
       "      <th>vas</th>\n",
       "      <th>vaq</th>\n",
       "      <th>CPAWallBuyer</th>\n",
       "    </tr>\n",
       "  </thead>\n",
       "  <tbody>\n",
       "    <tr>\n",
       "      <th>age</th>\n",
       "      <td>1.000000</td>\n",
       "      <td>0.280236</td>\n",
       "      <td>0.215815</td>\n",
       "      <td>0.074370</td>\n",
       "      <td>0.027692</td>\n",
       "      <td>-0.025515</td>\n",
       "    </tr>\n",
       "    <tr>\n",
       "      <th>vag</th>\n",
       "      <td>0.280236</td>\n",
       "      <td>1.000000</td>\n",
       "      <td>0.358396</td>\n",
       "      <td>0.085039</td>\n",
       "      <td>0.078739</td>\n",
       "      <td>-0.020054</td>\n",
       "    </tr>\n",
       "    <tr>\n",
       "      <th>val</th>\n",
       "      <td>0.215815</td>\n",
       "      <td>0.358396</td>\n",
       "      <td>1.000000</td>\n",
       "      <td>0.116165</td>\n",
       "      <td>0.085353</td>\n",
       "      <td>-0.015229</td>\n",
       "    </tr>\n",
       "    <tr>\n",
       "      <th>vas</th>\n",
       "      <td>0.074370</td>\n",
       "      <td>0.085039</td>\n",
       "      <td>0.116165</td>\n",
       "      <td>1.000000</td>\n",
       "      <td>0.293309</td>\n",
       "      <td>-0.007949</td>\n",
       "    </tr>\n",
       "    <tr>\n",
       "      <th>vaq</th>\n",
       "      <td>0.027692</td>\n",
       "      <td>0.078739</td>\n",
       "      <td>0.085353</td>\n",
       "      <td>0.293309</td>\n",
       "      <td>1.000000</td>\n",
       "      <td>-0.020963</td>\n",
       "    </tr>\n",
       "    <tr>\n",
       "      <th>CPAWallBuyer</th>\n",
       "      <td>-0.025515</td>\n",
       "      <td>-0.020054</td>\n",
       "      <td>-0.015229</td>\n",
       "      <td>-0.007949</td>\n",
       "      <td>-0.020963</td>\n",
       "      <td>1.000000</td>\n",
       "    </tr>\n",
       "  </tbody>\n",
       "</table>\n",
       "</div>"
      ],
      "text/plain": [
       "                   age       vag       val       vas       vaq  CPAWallBuyer\n",
       "age           1.000000  0.280236  0.215815  0.074370  0.027692     -0.025515\n",
       "vag           0.280236  1.000000  0.358396  0.085039  0.078739     -0.020054\n",
       "val           0.215815  0.358396  1.000000  0.116165  0.085353     -0.015229\n",
       "vas           0.074370  0.085039  0.116165  1.000000  0.293309     -0.007949\n",
       "vaq           0.027692  0.078739  0.085353  0.293309  1.000000     -0.020963\n",
       "CPAWallBuyer -0.025515 -0.020054 -0.015229 -0.007949 -0.020963      1.000000"
      ]
     },
     "execution_count": 98,
     "metadata": {},
     "output_type": "execute_result"
    }
   ],
   "source": [
    "data.corr()"
   ]
  },
  {
   "cell_type": "code",
   "execution_count": 71,
   "metadata": {
    "collapsed": false,
    "scrolled": true
   },
   "outputs": [
    {
     "data": {
      "image/png": "[encoded data removed]",
      "text/plain": [
       "<matplotlib.figure.Figure at 0x1177d0f50>"
      ]
     },
     "metadata": {},
     "output_type": "display_data"
    }
   ],
   "source": [
    "sns.pairplot(data);"
   ]
  },
  {
   "cell_type": "markdown",
   "metadata": {},
   "source": [
    "#### d. Exploratory Data Analysis Summary\n",
    "- Based on the dataset, the probability that a user buys something from the CPA Wall is ~1.5%; this makes the dataset very imbalanced.\n",
    "- Age seems to be a good indicator for whether or not a user bought something. From the violin plots, it looks like a good amount of buyers are age 20-40\n",
    "- Female conversion odds are higher than Male conversion odds.\n",
    "- Southeast, southwest, and west are the regions that have the highest conversion odds.\n",
    "- gmail is the esp group with the highest conversion odds."
   ]
  },
  {
   "cell_type": "markdown",
   "metadata": {},
   "source": [
    "### III. Feature Engineering"
   ]
  },
  {
   "cell_type": "markdown",
   "metadata": {},
   "source": [
    "Need to one-hot encode region, v2m, gender, and esp_group to have machine-legible dataset"
   ]
  },
  {
   "cell_type": "code",
   "execution_count": 99,
   "metadata": {
    "collapsed": false
   },
   "outputs": [],
   "source": [
    "data2 = data.copy() #Not yet machine-legible"
   ]
  },
  {
   "cell_type": "code",
   "execution_count": 100,
   "metadata": {
    "collapsed": true
   },
   "outputs": [],
   "source": [
    "df2 = pd.get_dummies(data2['region'], prefix= 'region', drop_first= True)\n",
    "data2 = data2.join(df2)"
   ]
  },
  {
   "cell_type": "code",
   "execution_count": 101,
   "metadata": {
    "collapsed": true
   },
   "outputs": [],
   "source": [
    "df3 = pd.get_dummies(data2['v2m'], prefix= 'v2m', drop_first= True)\n",
    "data2 = data2.join(df3)"
   ]
  },
  {
   "cell_type": "code",
   "execution_count": 102,
   "metadata": {
    "collapsed": true
   },
   "outputs": [],
   "source": [
    "df4 = pd.get_dummies(data2['gender'], prefix= 'gender', drop_first= True)\n",
    "data2 = data2.join(df4)"
   ]
  },
  {
   "cell_type": "code",
   "execution_count": 103,
   "metadata": {
    "collapsed": true
   },
   "outputs": [],
   "source": [
    "df5 = pd.get_dummies(data2['esp_group'], prefix= 'esp_group', drop_first= True)\n",
    "data2 = data2.join(df5)"
   ]
  },
  {
   "cell_type": "code",
   "execution_count": 104,
   "metadata": {
    "collapsed": false
   },
   "outputs": [],
   "source": [
    "data2 = data2.drop('esp', axis= 1)\n",
    "data2 = data2.drop('esp_group', axis= 1)\n",
    "data2 = data2.drop('state', axis= 1)\n",
    "data2 = data2.drop('region', axis= 1)\n",
    "data2 = data2.drop('v2m', axis= 1)\n",
    "data2 = data2.drop('gender', axis= 1)"
   ]
  },
  {
   "cell_type": "code",
   "execution_count": 105,
   "metadata": {
    "collapsed": false
   },
   "outputs": [],
   "source": [
    "data2 = data2.dropna()"
   ]
  },
  {
   "cell_type": "code",
   "execution_count": 106,
   "metadata": {
    "collapsed": false
   },
   "outputs": [
    {
     "data": {
      "text/html": [
       "<div>\n",
       "<table border=\"1\" class=\"dataframe\">\n",
       "  <thead>\n",
       "    <tr style=\"text-align: right;\">\n",
       "      <th></th>\n",
       "      <th>age</th>\n",
       "      <th>vag</th>\n",
       "      <th>val</th>\n",
       "      <th>vas</th>\n",
       "      <th>vaq</th>\n",
       "      <th>CPAWallBuyer</th>\n",
       "      <th>region_non_mainland</th>\n",
       "      <th>region_northeast</th>\n",
       "      <th>region_southeast</th>\n",
       "      <th>region_southwest</th>\n",
       "      <th>region_territory</th>\n",
       "      <th>region_west</th>\n",
       "      <th>v2m_independent</th>\n",
       "      <th>v2m_republican</th>\n",
       "      <th>gender_Male</th>\n",
       "      <th>esp_group_aol</th>\n",
       "      <th>esp_group_gmail</th>\n",
       "      <th>esp_group_hotmail</th>\n",
       "      <th>esp_group_other</th>\n",
       "      <th>esp_group_yahoo</th>\n",
       "    </tr>\n",
       "  </thead>\n",
       "  <tbody>\n",
       "    <tr>\n",
       "      <th>1</th>\n",
       "      <td>18.0</td>\n",
       "      <td>0</td>\n",
       "      <td>1</td>\n",
       "      <td>0</td>\n",
       "      <td>0</td>\n",
       "      <td>0</td>\n",
       "      <td>0.0</td>\n",
       "      <td>1.0</td>\n",
       "      <td>0.0</td>\n",
       "      <td>0.0</td>\n",
       "      <td>0.0</td>\n",
       "      <td>0.0</td>\n",
       "      <td>1.0</td>\n",
       "      <td>0.0</td>\n",
       "      <td>0.0</td>\n",
       "      <td>0.0</td>\n",
       "      <td>1.0</td>\n",
       "      <td>0.0</td>\n",
       "      <td>0.0</td>\n",
       "      <td>0.0</td>\n",
       "    </tr>\n",
       "    <tr>\n",
       "      <th>2</th>\n",
       "      <td>18.0</td>\n",
       "      <td>0</td>\n",
       "      <td>0</td>\n",
       "      <td>0</td>\n",
       "      <td>0</td>\n",
       "      <td>0</td>\n",
       "      <td>0.0</td>\n",
       "      <td>1.0</td>\n",
       "      <td>0.0</td>\n",
       "      <td>0.0</td>\n",
       "      <td>0.0</td>\n",
       "      <td>0.0</td>\n",
       "      <td>1.0</td>\n",
       "      <td>0.0</td>\n",
       "      <td>1.0</td>\n",
       "      <td>0.0</td>\n",
       "      <td>1.0</td>\n",
       "      <td>0.0</td>\n",
       "      <td>0.0</td>\n",
       "      <td>0.0</td>\n",
       "    </tr>\n",
       "    <tr>\n",
       "      <th>3</th>\n",
       "      <td>18.0</td>\n",
       "      <td>0</td>\n",
       "      <td>0</td>\n",
       "      <td>0</td>\n",
       "      <td>0</td>\n",
       "      <td>1</td>\n",
       "      <td>0.0</td>\n",
       "      <td>1.0</td>\n",
       "      <td>0.0</td>\n",
       "      <td>0.0</td>\n",
       "      <td>0.0</td>\n",
       "      <td>0.0</td>\n",
       "      <td>1.0</td>\n",
       "      <td>0.0</td>\n",
       "      <td>1.0</td>\n",
       "      <td>0.0</td>\n",
       "      <td>1.0</td>\n",
       "      <td>0.0</td>\n",
       "      <td>0.0</td>\n",
       "      <td>0.0</td>\n",
       "    </tr>\n",
       "    <tr>\n",
       "      <th>4</th>\n",
       "      <td>18.0</td>\n",
       "      <td>0</td>\n",
       "      <td>0</td>\n",
       "      <td>0</td>\n",
       "      <td>0</td>\n",
       "      <td>0</td>\n",
       "      <td>0.0</td>\n",
       "      <td>1.0</td>\n",
       "      <td>0.0</td>\n",
       "      <td>0.0</td>\n",
       "      <td>0.0</td>\n",
       "      <td>0.0</td>\n",
       "      <td>0.0</td>\n",
       "      <td>1.0</td>\n",
       "      <td>1.0</td>\n",
       "      <td>0.0</td>\n",
       "      <td>1.0</td>\n",
       "      <td>0.0</td>\n",
       "      <td>0.0</td>\n",
       "      <td>0.0</td>\n",
       "    </tr>\n",
       "    <tr>\n",
       "      <th>5</th>\n",
       "      <td>18.0</td>\n",
       "      <td>0</td>\n",
       "      <td>0</td>\n",
       "      <td>1</td>\n",
       "      <td>1</td>\n",
       "      <td>0</td>\n",
       "      <td>0.0</td>\n",
       "      <td>1.0</td>\n",
       "      <td>0.0</td>\n",
       "      <td>0.0</td>\n",
       "      <td>0.0</td>\n",
       "      <td>0.0</td>\n",
       "      <td>0.0</td>\n",
       "      <td>0.0</td>\n",
       "      <td>1.0</td>\n",
       "      <td>0.0</td>\n",
       "      <td>1.0</td>\n",
       "      <td>0.0</td>\n",
       "      <td>0.0</td>\n",
       "      <td>0.0</td>\n",
       "    </tr>\n",
       "    <tr>\n",
       "      <th>6</th>\n",
       "      <td>18.0</td>\n",
       "      <td>0</td>\n",
       "      <td>0</td>\n",
       "      <td>0</td>\n",
       "      <td>0</td>\n",
       "      <td>0</td>\n",
       "      <td>0.0</td>\n",
       "      <td>1.0</td>\n",
       "      <td>0.0</td>\n",
       "      <td>0.0</td>\n",
       "      <td>0.0</td>\n",
       "      <td>0.0</td>\n",
       "      <td>0.0</td>\n",
       "      <td>0.0</td>\n",
       "      <td>1.0</td>\n",
       "      <td>0.0</td>\n",
       "      <td>0.0</td>\n",
       "      <td>0.0</td>\n",
       "      <td>0.0</td>\n",
       "      <td>1.0</td>\n",
       "    </tr>\n",
       "    <tr>\n",
       "      <th>7</th>\n",
       "      <td>19.0</td>\n",
       "      <td>1</td>\n",
       "      <td>1</td>\n",
       "      <td>0</td>\n",
       "      <td>0</td>\n",
       "      <td>0</td>\n",
       "      <td>0.0</td>\n",
       "      <td>1.0</td>\n",
       "      <td>0.0</td>\n",
       "      <td>0.0</td>\n",
       "      <td>0.0</td>\n",
       "      <td>0.0</td>\n",
       "      <td>1.0</td>\n",
       "      <td>0.0</td>\n",
       "      <td>0.0</td>\n",
       "      <td>0.0</td>\n",
       "      <td>0.0</td>\n",
       "      <td>0.0</td>\n",
       "      <td>0.0</td>\n",
       "      <td>0.0</td>\n",
       "    </tr>\n",
       "    <tr>\n",
       "      <th>8</th>\n",
       "      <td>19.0</td>\n",
       "      <td>0</td>\n",
       "      <td>0</td>\n",
       "      <td>0</td>\n",
       "      <td>1</td>\n",
       "      <td>0</td>\n",
       "      <td>0.0</td>\n",
       "      <td>1.0</td>\n",
       "      <td>0.0</td>\n",
       "      <td>0.0</td>\n",
       "      <td>0.0</td>\n",
       "      <td>0.0</td>\n",
       "      <td>0.0</td>\n",
       "      <td>0.0</td>\n",
       "      <td>0.0</td>\n",
       "      <td>0.0</td>\n",
       "      <td>1.0</td>\n",
       "      <td>0.0</td>\n",
       "      <td>0.0</td>\n",
       "      <td>0.0</td>\n",
       "    </tr>\n",
       "    <tr>\n",
       "      <th>9</th>\n",
       "      <td>19.0</td>\n",
       "      <td>0</td>\n",
       "      <td>0</td>\n",
       "      <td>0</td>\n",
       "      <td>1</td>\n",
       "      <td>0</td>\n",
       "      <td>0.0</td>\n",
       "      <td>1.0</td>\n",
       "      <td>0.0</td>\n",
       "      <td>0.0</td>\n",
       "      <td>0.0</td>\n",
       "      <td>0.0</td>\n",
       "      <td>0.0</td>\n",
       "      <td>1.0</td>\n",
       "      <td>0.0</td>\n",
       "      <td>0.0</td>\n",
       "      <td>1.0</td>\n",
       "      <td>0.0</td>\n",
       "      <td>0.0</td>\n",
       "      <td>0.0</td>\n",
       "    </tr>\n",
       "    <tr>\n",
       "      <th>10</th>\n",
       "      <td>19.0</td>\n",
       "      <td>0</td>\n",
       "      <td>1</td>\n",
       "      <td>0</td>\n",
       "      <td>1</td>\n",
       "      <td>0</td>\n",
       "      <td>0.0</td>\n",
       "      <td>1.0</td>\n",
       "      <td>0.0</td>\n",
       "      <td>0.0</td>\n",
       "      <td>0.0</td>\n",
       "      <td>0.0</td>\n",
       "      <td>0.0</td>\n",
       "      <td>1.0</td>\n",
       "      <td>0.0</td>\n",
       "      <td>0.0</td>\n",
       "      <td>1.0</td>\n",
       "      <td>0.0</td>\n",
       "      <td>0.0</td>\n",
       "      <td>0.0</td>\n",
       "    </tr>\n",
       "    <tr>\n",
       "      <th>11</th>\n",
       "      <td>19.0</td>\n",
       "      <td>0</td>\n",
       "      <td>0</td>\n",
       "      <td>0</td>\n",
       "      <td>0</td>\n",
       "      <td>0</td>\n",
       "      <td>0.0</td>\n",
       "      <td>1.0</td>\n",
       "      <td>0.0</td>\n",
       "      <td>0.0</td>\n",
       "      <td>0.0</td>\n",
       "      <td>0.0</td>\n",
       "      <td>0.0</td>\n",
       "      <td>0.0</td>\n",
       "      <td>0.0</td>\n",
       "      <td>0.0</td>\n",
       "      <td>0.0</td>\n",
       "      <td>0.0</td>\n",
       "      <td>1.0</td>\n",
       "      <td>0.0</td>\n",
       "    </tr>\n",
       "    <tr>\n",
       "      <th>12</th>\n",
       "      <td>19.0</td>\n",
       "      <td>1</td>\n",
       "      <td>1</td>\n",
       "      <td>0</td>\n",
       "      <td>0</td>\n",
       "      <td>0</td>\n",
       "      <td>0.0</td>\n",
       "      <td>1.0</td>\n",
       "      <td>0.0</td>\n",
       "      <td>0.0</td>\n",
       "      <td>0.0</td>\n",
       "      <td>0.0</td>\n",
       "      <td>0.0</td>\n",
       "      <td>0.0</td>\n",
       "      <td>1.0</td>\n",
       "      <td>0.0</td>\n",
       "      <td>1.0</td>\n",
       "      <td>0.0</td>\n",
       "      <td>0.0</td>\n",
       "      <td>0.0</td>\n",
       "    </tr>\n",
       "    <tr>\n",
       "      <th>13</th>\n",
       "      <td>19.0</td>\n",
       "      <td>1</td>\n",
       "      <td>1</td>\n",
       "      <td>1</td>\n",
       "      <td>1</td>\n",
       "      <td>0</td>\n",
       "      <td>0.0</td>\n",
       "      <td>1.0</td>\n",
       "      <td>0.0</td>\n",
       "      <td>0.0</td>\n",
       "      <td>0.0</td>\n",
       "      <td>0.0</td>\n",
       "      <td>1.0</td>\n",
       "      <td>0.0</td>\n",
       "      <td>1.0</td>\n",
       "      <td>0.0</td>\n",
       "      <td>0.0</td>\n",
       "      <td>1.0</td>\n",
       "      <td>0.0</td>\n",
       "      <td>0.0</td>\n",
       "    </tr>\n",
       "    <tr>\n",
       "      <th>14</th>\n",
       "      <td>19.0</td>\n",
       "      <td>0</td>\n",
       "      <td>1</td>\n",
       "      <td>1</td>\n",
       "      <td>0</td>\n",
       "      <td>0</td>\n",
       "      <td>0.0</td>\n",
       "      <td>1.0</td>\n",
       "      <td>0.0</td>\n",
       "      <td>0.0</td>\n",
       "      <td>0.0</td>\n",
       "      <td>0.0</td>\n",
       "      <td>1.0</td>\n",
       "      <td>0.0</td>\n",
       "      <td>1.0</td>\n",
       "      <td>0.0</td>\n",
       "      <td>0.0</td>\n",
       "      <td>0.0</td>\n",
       "      <td>1.0</td>\n",
       "      <td>0.0</td>\n",
       "    </tr>\n",
       "    <tr>\n",
       "      <th>15</th>\n",
       "      <td>20.0</td>\n",
       "      <td>1</td>\n",
       "      <td>0</td>\n",
       "      <td>0</td>\n",
       "      <td>0</td>\n",
       "      <td>0</td>\n",
       "      <td>0.0</td>\n",
       "      <td>1.0</td>\n",
       "      <td>0.0</td>\n",
       "      <td>0.0</td>\n",
       "      <td>0.0</td>\n",
       "      <td>0.0</td>\n",
       "      <td>0.0</td>\n",
       "      <td>1.0</td>\n",
       "      <td>0.0</td>\n",
       "      <td>0.0</td>\n",
       "      <td>1.0</td>\n",
       "      <td>0.0</td>\n",
       "      <td>0.0</td>\n",
       "      <td>0.0</td>\n",
       "    </tr>\n",
       "    <tr>\n",
       "      <th>16</th>\n",
       "      <td>20.0</td>\n",
       "      <td>0</td>\n",
       "      <td>0</td>\n",
       "      <td>0</td>\n",
       "      <td>0</td>\n",
       "      <td>0</td>\n",
       "      <td>0.0</td>\n",
       "      <td>1.0</td>\n",
       "      <td>0.0</td>\n",
       "      <td>0.0</td>\n",
       "      <td>0.0</td>\n",
       "      <td>0.0</td>\n",
       "      <td>0.0</td>\n",
       "      <td>0.0</td>\n",
       "      <td>1.0</td>\n",
       "      <td>0.0</td>\n",
       "      <td>1.0</td>\n",
       "      <td>0.0</td>\n",
       "      <td>0.0</td>\n",
       "      <td>0.0</td>\n",
       "    </tr>\n",
       "    <tr>\n",
       "      <th>17</th>\n",
       "      <td>20.0</td>\n",
       "      <td>0</td>\n",
       "      <td>0</td>\n",
       "      <td>0</td>\n",
       "      <td>0</td>\n",
       "      <td>0</td>\n",
       "      <td>0.0</td>\n",
       "      <td>1.0</td>\n",
       "      <td>0.0</td>\n",
       "      <td>0.0</td>\n",
       "      <td>0.0</td>\n",
       "      <td>0.0</td>\n",
       "      <td>0.0</td>\n",
       "      <td>0.0</td>\n",
       "      <td>1.0</td>\n",
       "      <td>0.0</td>\n",
       "      <td>1.0</td>\n",
       "      <td>0.0</td>\n",
       "      <td>0.0</td>\n",
       "      <td>0.0</td>\n",
       "    </tr>\n",
       "    <tr>\n",
       "      <th>18</th>\n",
       "      <td>20.0</td>\n",
       "      <td>0</td>\n",
       "      <td>0</td>\n",
       "      <td>0</td>\n",
       "      <td>0</td>\n",
       "      <td>0</td>\n",
       "      <td>0.0</td>\n",
       "      <td>1.0</td>\n",
       "      <td>0.0</td>\n",
       "      <td>0.0</td>\n",
       "      <td>0.0</td>\n",
       "      <td>0.0</td>\n",
       "      <td>1.0</td>\n",
       "      <td>0.0</td>\n",
       "      <td>1.0</td>\n",
       "      <td>0.0</td>\n",
       "      <td>1.0</td>\n",
       "      <td>0.0</td>\n",
       "      <td>0.0</td>\n",
       "      <td>0.0</td>\n",
       "    </tr>\n",
       "    <tr>\n",
       "      <th>19</th>\n",
       "      <td>20.0</td>\n",
       "      <td>0</td>\n",
       "      <td>0</td>\n",
       "      <td>0</td>\n",
       "      <td>0</td>\n",
       "      <td>0</td>\n",
       "      <td>0.0</td>\n",
       "      <td>1.0</td>\n",
       "      <td>0.0</td>\n",
       "      <td>0.0</td>\n",
       "      <td>0.0</td>\n",
       "      <td>0.0</td>\n",
       "      <td>1.0</td>\n",
       "      <td>0.0</td>\n",
       "      <td>1.0</td>\n",
       "      <td>0.0</td>\n",
       "      <td>1.0</td>\n",
       "      <td>0.0</td>\n",
       "      <td>0.0</td>\n",
       "      <td>0.0</td>\n",
       "    </tr>\n",
       "    <tr>\n",
       "      <th>20</th>\n",
       "      <td>20.0</td>\n",
       "      <td>0</td>\n",
       "      <td>0</td>\n",
       "      <td>0</td>\n",
       "      <td>1</td>\n",
       "      <td>0</td>\n",
       "      <td>0.0</td>\n",
       "      <td>1.0</td>\n",
       "      <td>0.0</td>\n",
       "      <td>0.0</td>\n",
       "      <td>0.0</td>\n",
       "      <td>0.0</td>\n",
       "      <td>0.0</td>\n",
       "      <td>1.0</td>\n",
       "      <td>1.0</td>\n",
       "      <td>0.0</td>\n",
       "      <td>1.0</td>\n",
       "      <td>0.0</td>\n",
       "      <td>0.0</td>\n",
       "      <td>0.0</td>\n",
       "    </tr>\n",
       "    <tr>\n",
       "      <th>21</th>\n",
       "      <td>20.0</td>\n",
       "      <td>0</td>\n",
       "      <td>1</td>\n",
       "      <td>0</td>\n",
       "      <td>0</td>\n",
       "      <td>0</td>\n",
       "      <td>0.0</td>\n",
       "      <td>1.0</td>\n",
       "      <td>0.0</td>\n",
       "      <td>0.0</td>\n",
       "      <td>0.0</td>\n",
       "      <td>0.0</td>\n",
       "      <td>0.0</td>\n",
       "      <td>0.0</td>\n",
       "      <td>1.0</td>\n",
       "      <td>0.0</td>\n",
       "      <td>1.0</td>\n",
       "      <td>0.0</td>\n",
       "      <td>0.0</td>\n",
       "      <td>0.0</td>\n",
       "    </tr>\n",
       "    <tr>\n",
       "      <th>22</th>\n",
       "      <td>20.0</td>\n",
       "      <td>0</td>\n",
       "      <td>0</td>\n",
       "      <td>0</td>\n",
       "      <td>0</td>\n",
       "      <td>0</td>\n",
       "      <td>0.0</td>\n",
       "      <td>1.0</td>\n",
       "      <td>0.0</td>\n",
       "      <td>0.0</td>\n",
       "      <td>0.0</td>\n",
       "      <td>0.0</td>\n",
       "      <td>0.0</td>\n",
       "      <td>1.0</td>\n",
       "      <td>1.0</td>\n",
       "      <td>0.0</td>\n",
       "      <td>1.0</td>\n",
       "      <td>0.0</td>\n",
       "      <td>0.0</td>\n",
       "      <td>0.0</td>\n",
       "    </tr>\n",
       "    <tr>\n",
       "      <th>23</th>\n",
       "      <td>20.0</td>\n",
       "      <td>0</td>\n",
       "      <td>1</td>\n",
       "      <td>0</td>\n",
       "      <td>1</td>\n",
       "      <td>0</td>\n",
       "      <td>0.0</td>\n",
       "      <td>1.0</td>\n",
       "      <td>0.0</td>\n",
       "      <td>0.0</td>\n",
       "      <td>0.0</td>\n",
       "      <td>0.0</td>\n",
       "      <td>0.0</td>\n",
       "      <td>1.0</td>\n",
       "      <td>1.0</td>\n",
       "      <td>0.0</td>\n",
       "      <td>0.0</td>\n",
       "      <td>0.0</td>\n",
       "      <td>1.0</td>\n",
       "      <td>0.0</td>\n",
       "    </tr>\n",
       "    <tr>\n",
       "      <th>24</th>\n",
       "      <td>21.0</td>\n",
       "      <td>0</td>\n",
       "      <td>1</td>\n",
       "      <td>0</td>\n",
       "      <td>0</td>\n",
       "      <td>0</td>\n",
       "      <td>0.0</td>\n",
       "      <td>1.0</td>\n",
       "      <td>0.0</td>\n",
       "      <td>0.0</td>\n",
       "      <td>0.0</td>\n",
       "      <td>0.0</td>\n",
       "      <td>1.0</td>\n",
       "      <td>0.0</td>\n",
       "      <td>0.0</td>\n",
       "      <td>0.0</td>\n",
       "      <td>0.0</td>\n",
       "      <td>0.0</td>\n",
       "      <td>0.0</td>\n",
       "      <td>1.0</td>\n",
       "    </tr>\n",
       "    <tr>\n",
       "      <th>25</th>\n",
       "      <td>21.0</td>\n",
       "      <td>0</td>\n",
       "      <td>0</td>\n",
       "      <td>0</td>\n",
       "      <td>0</td>\n",
       "      <td>0</td>\n",
       "      <td>0.0</td>\n",
       "      <td>1.0</td>\n",
       "      <td>0.0</td>\n",
       "      <td>0.0</td>\n",
       "      <td>0.0</td>\n",
       "      <td>0.0</td>\n",
       "      <td>1.0</td>\n",
       "      <td>0.0</td>\n",
       "      <td>1.0</td>\n",
       "      <td>0.0</td>\n",
       "      <td>1.0</td>\n",
       "      <td>0.0</td>\n",
       "      <td>0.0</td>\n",
       "      <td>0.0</td>\n",
       "    </tr>\n",
       "    <tr>\n",
       "      <th>26</th>\n",
       "      <td>21.0</td>\n",
       "      <td>0</td>\n",
       "      <td>1</td>\n",
       "      <td>0</td>\n",
       "      <td>0</td>\n",
       "      <td>0</td>\n",
       "      <td>0.0</td>\n",
       "      <td>1.0</td>\n",
       "      <td>0.0</td>\n",
       "      <td>0.0</td>\n",
       "      <td>0.0</td>\n",
       "      <td>0.0</td>\n",
       "      <td>0.0</td>\n",
       "      <td>0.0</td>\n",
       "      <td>1.0</td>\n",
       "      <td>0.0</td>\n",
       "      <td>1.0</td>\n",
       "      <td>0.0</td>\n",
       "      <td>0.0</td>\n",
       "      <td>0.0</td>\n",
       "    </tr>\n",
       "    <tr>\n",
       "      <th>27</th>\n",
       "      <td>22.0</td>\n",
       "      <td>0</td>\n",
       "      <td>0</td>\n",
       "      <td>0</td>\n",
       "      <td>0</td>\n",
       "      <td>0</td>\n",
       "      <td>0.0</td>\n",
       "      <td>1.0</td>\n",
       "      <td>0.0</td>\n",
       "      <td>0.0</td>\n",
       "      <td>0.0</td>\n",
       "      <td>0.0</td>\n",
       "      <td>0.0</td>\n",
       "      <td>0.0</td>\n",
       "      <td>0.0</td>\n",
       "      <td>0.0</td>\n",
       "      <td>1.0</td>\n",
       "      <td>0.0</td>\n",
       "      <td>0.0</td>\n",
       "      <td>0.0</td>\n",
       "    </tr>\n",
       "    <tr>\n",
       "      <th>28</th>\n",
       "      <td>22.0</td>\n",
       "      <td>0</td>\n",
       "      <td>1</td>\n",
       "      <td>0</td>\n",
       "      <td>0</td>\n",
       "      <td>0</td>\n",
       "      <td>0.0</td>\n",
       "      <td>1.0</td>\n",
       "      <td>0.0</td>\n",
       "      <td>0.0</td>\n",
       "      <td>0.0</td>\n",
       "      <td>0.0</td>\n",
       "      <td>0.0</td>\n",
       "      <td>0.0</td>\n",
       "      <td>0.0</td>\n",
       "      <td>0.0</td>\n",
       "      <td>1.0</td>\n",
       "      <td>0.0</td>\n",
       "      <td>0.0</td>\n",
       "      <td>0.0</td>\n",
       "    </tr>\n",
       "    <tr>\n",
       "      <th>29</th>\n",
       "      <td>22.0</td>\n",
       "      <td>1</td>\n",
       "      <td>1</td>\n",
       "      <td>0</td>\n",
       "      <td>0</td>\n",
       "      <td>0</td>\n",
       "      <td>0.0</td>\n",
       "      <td>1.0</td>\n",
       "      <td>0.0</td>\n",
       "      <td>0.0</td>\n",
       "      <td>0.0</td>\n",
       "      <td>0.0</td>\n",
       "      <td>1.0</td>\n",
       "      <td>0.0</td>\n",
       "      <td>0.0</td>\n",
       "      <td>0.0</td>\n",
       "      <td>0.0</td>\n",
       "      <td>1.0</td>\n",
       "      <td>0.0</td>\n",
       "      <td>0.0</td>\n",
       "    </tr>\n",
       "    <tr>\n",
       "      <th>30</th>\n",
       "      <td>22.0</td>\n",
       "      <td>0</td>\n",
       "      <td>0</td>\n",
       "      <td>0</td>\n",
       "      <td>0</td>\n",
       "      <td>0</td>\n",
       "      <td>0.0</td>\n",
       "      <td>1.0</td>\n",
       "      <td>0.0</td>\n",
       "      <td>0.0</td>\n",
       "      <td>0.0</td>\n",
       "      <td>0.0</td>\n",
       "      <td>1.0</td>\n",
       "      <td>0.0</td>\n",
       "      <td>1.0</td>\n",
       "      <td>0.0</td>\n",
       "      <td>0.0</td>\n",
       "      <td>0.0</td>\n",
       "      <td>1.0</td>\n",
       "      <td>0.0</td>\n",
       "    </tr>\n",
       "    <tr>\n",
       "      <th>...</th>\n",
       "      <td>...</td>\n",
       "      <td>...</td>\n",
       "      <td>...</td>\n",
       "      <td>...</td>\n",
       "      <td>...</td>\n",
       "      <td>...</td>\n",
       "      <td>...</td>\n",
       "      <td>...</td>\n",
       "      <td>...</td>\n",
       "      <td>...</td>\n",
       "      <td>...</td>\n",
       "      <td>...</td>\n",
       "      <td>...</td>\n",
       "      <td>...</td>\n",
       "      <td>...</td>\n",
       "      <td>...</td>\n",
       "      <td>...</td>\n",
       "      <td>...</td>\n",
       "      <td>...</td>\n",
       "      <td>...</td>\n",
       "    </tr>\n",
       "    <tr>\n",
       "      <th>60000</th>\n",
       "      <td>57.0</td>\n",
       "      <td>1</td>\n",
       "      <td>1</td>\n",
       "      <td>0</td>\n",
       "      <td>0</td>\n",
       "      <td>0</td>\n",
       "      <td>0.0</td>\n",
       "      <td>0.0</td>\n",
       "      <td>0.0</td>\n",
       "      <td>0.0</td>\n",
       "      <td>0.0</td>\n",
       "      <td>1.0</td>\n",
       "      <td>1.0</td>\n",
       "      <td>0.0</td>\n",
       "      <td>0.0</td>\n",
       "      <td>0.0</td>\n",
       "      <td>1.0</td>\n",
       "      <td>0.0</td>\n",
       "      <td>0.0</td>\n",
       "      <td>0.0</td>\n",
       "    </tr>\n",
       "    <tr>\n",
       "      <th>60001</th>\n",
       "      <td>57.0</td>\n",
       "      <td>0</td>\n",
       "      <td>1</td>\n",
       "      <td>1</td>\n",
       "      <td>0</td>\n",
       "      <td>0</td>\n",
       "      <td>0.0</td>\n",
       "      <td>0.0</td>\n",
       "      <td>0.0</td>\n",
       "      <td>0.0</td>\n",
       "      <td>0.0</td>\n",
       "      <td>1.0</td>\n",
       "      <td>0.0</td>\n",
       "      <td>1.0</td>\n",
       "      <td>0.0</td>\n",
       "      <td>0.0</td>\n",
       "      <td>0.0</td>\n",
       "      <td>0.0</td>\n",
       "      <td>0.0</td>\n",
       "      <td>1.0</td>\n",
       "    </tr>\n",
       "    <tr>\n",
       "      <th>60002</th>\n",
       "      <td>57.0</td>\n",
       "      <td>0</td>\n",
       "      <td>1</td>\n",
       "      <td>0</td>\n",
       "      <td>0</td>\n",
       "      <td>0</td>\n",
       "      <td>0.0</td>\n",
       "      <td>0.0</td>\n",
       "      <td>0.0</td>\n",
       "      <td>0.0</td>\n",
       "      <td>0.0</td>\n",
       "      <td>1.0</td>\n",
       "      <td>0.0</td>\n",
       "      <td>1.0</td>\n",
       "      <td>1.0</td>\n",
       "      <td>0.0</td>\n",
       "      <td>1.0</td>\n",
       "      <td>0.0</td>\n",
       "      <td>0.0</td>\n",
       "      <td>0.0</td>\n",
       "    </tr>\n",
       "    <tr>\n",
       "      <th>60003</th>\n",
       "      <td>58.0</td>\n",
       "      <td>0</td>\n",
       "      <td>1</td>\n",
       "      <td>0</td>\n",
       "      <td>0</td>\n",
       "      <td>0</td>\n",
       "      <td>0.0</td>\n",
       "      <td>0.0</td>\n",
       "      <td>0.0</td>\n",
       "      <td>0.0</td>\n",
       "      <td>0.0</td>\n",
       "      <td>1.0</td>\n",
       "      <td>1.0</td>\n",
       "      <td>0.0</td>\n",
       "      <td>0.0</td>\n",
       "      <td>0.0</td>\n",
       "      <td>0.0</td>\n",
       "      <td>0.0</td>\n",
       "      <td>1.0</td>\n",
       "      <td>0.0</td>\n",
       "    </tr>\n",
       "    <tr>\n",
       "      <th>60004</th>\n",
       "      <td>59.0</td>\n",
       "      <td>0</td>\n",
       "      <td>1</td>\n",
       "      <td>0</td>\n",
       "      <td>0</td>\n",
       "      <td>0</td>\n",
       "      <td>0.0</td>\n",
       "      <td>0.0</td>\n",
       "      <td>0.0</td>\n",
       "      <td>0.0</td>\n",
       "      <td>0.0</td>\n",
       "      <td>1.0</td>\n",
       "      <td>0.0</td>\n",
       "      <td>0.0</td>\n",
       "      <td>1.0</td>\n",
       "      <td>0.0</td>\n",
       "      <td>0.0</td>\n",
       "      <td>0.0</td>\n",
       "      <td>0.0</td>\n",
       "      <td>0.0</td>\n",
       "    </tr>\n",
       "    <tr>\n",
       "      <th>60005</th>\n",
       "      <td>59.0</td>\n",
       "      <td>1</td>\n",
       "      <td>1</td>\n",
       "      <td>0</td>\n",
       "      <td>0</td>\n",
       "      <td>0</td>\n",
       "      <td>0.0</td>\n",
       "      <td>0.0</td>\n",
       "      <td>0.0</td>\n",
       "      <td>0.0</td>\n",
       "      <td>0.0</td>\n",
       "      <td>1.0</td>\n",
       "      <td>0.0</td>\n",
       "      <td>1.0</td>\n",
       "      <td>1.0</td>\n",
       "      <td>0.0</td>\n",
       "      <td>1.0</td>\n",
       "      <td>0.0</td>\n",
       "      <td>0.0</td>\n",
       "      <td>0.0</td>\n",
       "    </tr>\n",
       "    <tr>\n",
       "      <th>60006</th>\n",
       "      <td>60.0</td>\n",
       "      <td>0</td>\n",
       "      <td>1</td>\n",
       "      <td>0</td>\n",
       "      <td>0</td>\n",
       "      <td>0</td>\n",
       "      <td>0.0</td>\n",
       "      <td>0.0</td>\n",
       "      <td>0.0</td>\n",
       "      <td>0.0</td>\n",
       "      <td>0.0</td>\n",
       "      <td>1.0</td>\n",
       "      <td>0.0</td>\n",
       "      <td>1.0</td>\n",
       "      <td>0.0</td>\n",
       "      <td>0.0</td>\n",
       "      <td>0.0</td>\n",
       "      <td>0.0</td>\n",
       "      <td>0.0</td>\n",
       "      <td>1.0</td>\n",
       "    </tr>\n",
       "    <tr>\n",
       "      <th>60007</th>\n",
       "      <td>61.0</td>\n",
       "      <td>0</td>\n",
       "      <td>1</td>\n",
       "      <td>1</td>\n",
       "      <td>1</td>\n",
       "      <td>0</td>\n",
       "      <td>0.0</td>\n",
       "      <td>0.0</td>\n",
       "      <td>0.0</td>\n",
       "      <td>0.0</td>\n",
       "      <td>0.0</td>\n",
       "      <td>1.0</td>\n",
       "      <td>1.0</td>\n",
       "      <td>0.0</td>\n",
       "      <td>0.0</td>\n",
       "      <td>0.0</td>\n",
       "      <td>0.0</td>\n",
       "      <td>0.0</td>\n",
       "      <td>0.0</td>\n",
       "      <td>1.0</td>\n",
       "    </tr>\n",
       "    <tr>\n",
       "      <th>60008</th>\n",
       "      <td>62.0</td>\n",
       "      <td>0</td>\n",
       "      <td>1</td>\n",
       "      <td>0</td>\n",
       "      <td>0</td>\n",
       "      <td>0</td>\n",
       "      <td>0.0</td>\n",
       "      <td>0.0</td>\n",
       "      <td>0.0</td>\n",
       "      <td>0.0</td>\n",
       "      <td>0.0</td>\n",
       "      <td>1.0</td>\n",
       "      <td>1.0</td>\n",
       "      <td>0.0</td>\n",
       "      <td>0.0</td>\n",
       "      <td>0.0</td>\n",
       "      <td>0.0</td>\n",
       "      <td>0.0</td>\n",
       "      <td>1.0</td>\n",
       "      <td>0.0</td>\n",
       "    </tr>\n",
       "    <tr>\n",
       "      <th>60009</th>\n",
       "      <td>64.0</td>\n",
       "      <td>1</td>\n",
       "      <td>1</td>\n",
       "      <td>0</td>\n",
       "      <td>0</td>\n",
       "      <td>0</td>\n",
       "      <td>0.0</td>\n",
       "      <td>0.0</td>\n",
       "      <td>0.0</td>\n",
       "      <td>0.0</td>\n",
       "      <td>0.0</td>\n",
       "      <td>1.0</td>\n",
       "      <td>0.0</td>\n",
       "      <td>0.0</td>\n",
       "      <td>0.0</td>\n",
       "      <td>0.0</td>\n",
       "      <td>0.0</td>\n",
       "      <td>0.0</td>\n",
       "      <td>1.0</td>\n",
       "      <td>0.0</td>\n",
       "    </tr>\n",
       "    <tr>\n",
       "      <th>60010</th>\n",
       "      <td>64.0</td>\n",
       "      <td>1</td>\n",
       "      <td>1</td>\n",
       "      <td>1</td>\n",
       "      <td>0</td>\n",
       "      <td>0</td>\n",
       "      <td>0.0</td>\n",
       "      <td>0.0</td>\n",
       "      <td>0.0</td>\n",
       "      <td>0.0</td>\n",
       "      <td>0.0</td>\n",
       "      <td>1.0</td>\n",
       "      <td>0.0</td>\n",
       "      <td>1.0</td>\n",
       "      <td>1.0</td>\n",
       "      <td>0.0</td>\n",
       "      <td>0.0</td>\n",
       "      <td>0.0</td>\n",
       "      <td>1.0</td>\n",
       "      <td>0.0</td>\n",
       "    </tr>\n",
       "    <tr>\n",
       "      <th>60011</th>\n",
       "      <td>66.0</td>\n",
       "      <td>0</td>\n",
       "      <td>0</td>\n",
       "      <td>0</td>\n",
       "      <td>0</td>\n",
       "      <td>0</td>\n",
       "      <td>0.0</td>\n",
       "      <td>0.0</td>\n",
       "      <td>0.0</td>\n",
       "      <td>0.0</td>\n",
       "      <td>0.0</td>\n",
       "      <td>1.0</td>\n",
       "      <td>1.0</td>\n",
       "      <td>0.0</td>\n",
       "      <td>0.0</td>\n",
       "      <td>0.0</td>\n",
       "      <td>1.0</td>\n",
       "      <td>0.0</td>\n",
       "      <td>0.0</td>\n",
       "      <td>0.0</td>\n",
       "    </tr>\n",
       "    <tr>\n",
       "      <th>60012</th>\n",
       "      <td>66.0</td>\n",
       "      <td>0</td>\n",
       "      <td>0</td>\n",
       "      <td>0</td>\n",
       "      <td>0</td>\n",
       "      <td>0</td>\n",
       "      <td>0.0</td>\n",
       "      <td>0.0</td>\n",
       "      <td>0.0</td>\n",
       "      <td>0.0</td>\n",
       "      <td>0.0</td>\n",
       "      <td>1.0</td>\n",
       "      <td>0.0</td>\n",
       "      <td>1.0</td>\n",
       "      <td>1.0</td>\n",
       "      <td>0.0</td>\n",
       "      <td>1.0</td>\n",
       "      <td>0.0</td>\n",
       "      <td>0.0</td>\n",
       "      <td>0.0</td>\n",
       "    </tr>\n",
       "    <tr>\n",
       "      <th>60013</th>\n",
       "      <td>67.0</td>\n",
       "      <td>1</td>\n",
       "      <td>1</td>\n",
       "      <td>0</td>\n",
       "      <td>0</td>\n",
       "      <td>0</td>\n",
       "      <td>0.0</td>\n",
       "      <td>0.0</td>\n",
       "      <td>0.0</td>\n",
       "      <td>0.0</td>\n",
       "      <td>0.0</td>\n",
       "      <td>1.0</td>\n",
       "      <td>0.0</td>\n",
       "      <td>1.0</td>\n",
       "      <td>0.0</td>\n",
       "      <td>0.0</td>\n",
       "      <td>0.0</td>\n",
       "      <td>0.0</td>\n",
       "      <td>0.0</td>\n",
       "      <td>1.0</td>\n",
       "    </tr>\n",
       "    <tr>\n",
       "      <th>60014</th>\n",
       "      <td>68.0</td>\n",
       "      <td>1</td>\n",
       "      <td>1</td>\n",
       "      <td>1</td>\n",
       "      <td>0</td>\n",
       "      <td>0</td>\n",
       "      <td>0.0</td>\n",
       "      <td>0.0</td>\n",
       "      <td>0.0</td>\n",
       "      <td>0.0</td>\n",
       "      <td>0.0</td>\n",
       "      <td>1.0</td>\n",
       "      <td>0.0</td>\n",
       "      <td>0.0</td>\n",
       "      <td>0.0</td>\n",
       "      <td>0.0</td>\n",
       "      <td>0.0</td>\n",
       "      <td>0.0</td>\n",
       "      <td>0.0</td>\n",
       "      <td>0.0</td>\n",
       "    </tr>\n",
       "    <tr>\n",
       "      <th>60015</th>\n",
       "      <td>69.0</td>\n",
       "      <td>1</td>\n",
       "      <td>1</td>\n",
       "      <td>1</td>\n",
       "      <td>0</td>\n",
       "      <td>0</td>\n",
       "      <td>0.0</td>\n",
       "      <td>0.0</td>\n",
       "      <td>0.0</td>\n",
       "      <td>0.0</td>\n",
       "      <td>0.0</td>\n",
       "      <td>1.0</td>\n",
       "      <td>0.0</td>\n",
       "      <td>0.0</td>\n",
       "      <td>0.0</td>\n",
       "      <td>0.0</td>\n",
       "      <td>1.0</td>\n",
       "      <td>0.0</td>\n",
       "      <td>0.0</td>\n",
       "      <td>0.0</td>\n",
       "    </tr>\n",
       "    <tr>\n",
       "      <th>60016</th>\n",
       "      <td>71.0</td>\n",
       "      <td>0</td>\n",
       "      <td>1</td>\n",
       "      <td>1</td>\n",
       "      <td>1</td>\n",
       "      <td>0</td>\n",
       "      <td>0.0</td>\n",
       "      <td>0.0</td>\n",
       "      <td>0.0</td>\n",
       "      <td>0.0</td>\n",
       "      <td>0.0</td>\n",
       "      <td>1.0</td>\n",
       "      <td>0.0</td>\n",
       "      <td>0.0</td>\n",
       "      <td>0.0</td>\n",
       "      <td>0.0</td>\n",
       "      <td>0.0</td>\n",
       "      <td>0.0</td>\n",
       "      <td>0.0</td>\n",
       "      <td>1.0</td>\n",
       "    </tr>\n",
       "    <tr>\n",
       "      <th>60017</th>\n",
       "      <td>75.0</td>\n",
       "      <td>1</td>\n",
       "      <td>1</td>\n",
       "      <td>0</td>\n",
       "      <td>1</td>\n",
       "      <td>0</td>\n",
       "      <td>0.0</td>\n",
       "      <td>0.0</td>\n",
       "      <td>0.0</td>\n",
       "      <td>0.0</td>\n",
       "      <td>0.0</td>\n",
       "      <td>1.0</td>\n",
       "      <td>0.0</td>\n",
       "      <td>1.0</td>\n",
       "      <td>0.0</td>\n",
       "      <td>0.0</td>\n",
       "      <td>0.0</td>\n",
       "      <td>0.0</td>\n",
       "      <td>0.0</td>\n",
       "      <td>0.0</td>\n",
       "    </tr>\n",
       "    <tr>\n",
       "      <th>60018</th>\n",
       "      <td>86.0</td>\n",
       "      <td>0</td>\n",
       "      <td>0</td>\n",
       "      <td>0</td>\n",
       "      <td>0</td>\n",
       "      <td>0</td>\n",
       "      <td>0.0</td>\n",
       "      <td>0.0</td>\n",
       "      <td>0.0</td>\n",
       "      <td>0.0</td>\n",
       "      <td>0.0</td>\n",
       "      <td>1.0</td>\n",
       "      <td>0.0</td>\n",
       "      <td>1.0</td>\n",
       "      <td>1.0</td>\n",
       "      <td>0.0</td>\n",
       "      <td>1.0</td>\n",
       "      <td>0.0</td>\n",
       "      <td>0.0</td>\n",
       "      <td>0.0</td>\n",
       "    </tr>\n",
       "    <tr>\n",
       "      <th>60019</th>\n",
       "      <td>91.0</td>\n",
       "      <td>0</td>\n",
       "      <td>0</td>\n",
       "      <td>0</td>\n",
       "      <td>0</td>\n",
       "      <td>0</td>\n",
       "      <td>0.0</td>\n",
       "      <td>0.0</td>\n",
       "      <td>0.0</td>\n",
       "      <td>0.0</td>\n",
       "      <td>0.0</td>\n",
       "      <td>1.0</td>\n",
       "      <td>1.0</td>\n",
       "      <td>0.0</td>\n",
       "      <td>0.0</td>\n",
       "      <td>0.0</td>\n",
       "      <td>0.0</td>\n",
       "      <td>0.0</td>\n",
       "      <td>1.0</td>\n",
       "      <td>0.0</td>\n",
       "    </tr>\n",
       "    <tr>\n",
       "      <th>60020</th>\n",
       "      <td>91.0</td>\n",
       "      <td>1</td>\n",
       "      <td>0</td>\n",
       "      <td>1</td>\n",
       "      <td>1</td>\n",
       "      <td>0</td>\n",
       "      <td>0.0</td>\n",
       "      <td>0.0</td>\n",
       "      <td>0.0</td>\n",
       "      <td>0.0</td>\n",
       "      <td>0.0</td>\n",
       "      <td>1.0</td>\n",
       "      <td>1.0</td>\n",
       "      <td>0.0</td>\n",
       "      <td>1.0</td>\n",
       "      <td>0.0</td>\n",
       "      <td>1.0</td>\n",
       "      <td>0.0</td>\n",
       "      <td>0.0</td>\n",
       "      <td>0.0</td>\n",
       "    </tr>\n",
       "    <tr>\n",
       "      <th>60021</th>\n",
       "      <td>21.0</td>\n",
       "      <td>0</td>\n",
       "      <td>0</td>\n",
       "      <td>0</td>\n",
       "      <td>0</td>\n",
       "      <td>0</td>\n",
       "      <td>0.0</td>\n",
       "      <td>0.0</td>\n",
       "      <td>0.0</td>\n",
       "      <td>0.0</td>\n",
       "      <td>1.0</td>\n",
       "      <td>0.0</td>\n",
       "      <td>0.0</td>\n",
       "      <td>0.0</td>\n",
       "      <td>1.0</td>\n",
       "      <td>0.0</td>\n",
       "      <td>1.0</td>\n",
       "      <td>0.0</td>\n",
       "      <td>0.0</td>\n",
       "      <td>0.0</td>\n",
       "    </tr>\n",
       "    <tr>\n",
       "      <th>60022</th>\n",
       "      <td>22.0</td>\n",
       "      <td>0</td>\n",
       "      <td>1</td>\n",
       "      <td>0</td>\n",
       "      <td>0</td>\n",
       "      <td>0</td>\n",
       "      <td>0.0</td>\n",
       "      <td>0.0</td>\n",
       "      <td>0.0</td>\n",
       "      <td>0.0</td>\n",
       "      <td>1.0</td>\n",
       "      <td>0.0</td>\n",
       "      <td>0.0</td>\n",
       "      <td>0.0</td>\n",
       "      <td>1.0</td>\n",
       "      <td>0.0</td>\n",
       "      <td>0.0</td>\n",
       "      <td>0.0</td>\n",
       "      <td>0.0</td>\n",
       "      <td>1.0</td>\n",
       "    </tr>\n",
       "    <tr>\n",
       "      <th>60023</th>\n",
       "      <td>38.0</td>\n",
       "      <td>0</td>\n",
       "      <td>0</td>\n",
       "      <td>0</td>\n",
       "      <td>0</td>\n",
       "      <td>0</td>\n",
       "      <td>0.0</td>\n",
       "      <td>0.0</td>\n",
       "      <td>0.0</td>\n",
       "      <td>0.0</td>\n",
       "      <td>1.0</td>\n",
       "      <td>0.0</td>\n",
       "      <td>0.0</td>\n",
       "      <td>1.0</td>\n",
       "      <td>0.0</td>\n",
       "      <td>0.0</td>\n",
       "      <td>0.0</td>\n",
       "      <td>0.0</td>\n",
       "      <td>0.0</td>\n",
       "      <td>1.0</td>\n",
       "    </tr>\n",
       "    <tr>\n",
       "      <th>60024</th>\n",
       "      <td>40.0</td>\n",
       "      <td>1</td>\n",
       "      <td>0</td>\n",
       "      <td>0</td>\n",
       "      <td>0</td>\n",
       "      <td>0</td>\n",
       "      <td>0.0</td>\n",
       "      <td>0.0</td>\n",
       "      <td>0.0</td>\n",
       "      <td>0.0</td>\n",
       "      <td>1.0</td>\n",
       "      <td>0.0</td>\n",
       "      <td>0.0</td>\n",
       "      <td>0.0</td>\n",
       "      <td>1.0</td>\n",
       "      <td>0.0</td>\n",
       "      <td>0.0</td>\n",
       "      <td>0.0</td>\n",
       "      <td>0.0</td>\n",
       "      <td>1.0</td>\n",
       "    </tr>\n",
       "    <tr>\n",
       "      <th>60025</th>\n",
       "      <td>44.0</td>\n",
       "      <td>0</td>\n",
       "      <td>1</td>\n",
       "      <td>0</td>\n",
       "      <td>0</td>\n",
       "      <td>0</td>\n",
       "      <td>0.0</td>\n",
       "      <td>0.0</td>\n",
       "      <td>0.0</td>\n",
       "      <td>0.0</td>\n",
       "      <td>1.0</td>\n",
       "      <td>0.0</td>\n",
       "      <td>1.0</td>\n",
       "      <td>0.0</td>\n",
       "      <td>1.0</td>\n",
       "      <td>0.0</td>\n",
       "      <td>1.0</td>\n",
       "      <td>0.0</td>\n",
       "      <td>0.0</td>\n",
       "      <td>0.0</td>\n",
       "    </tr>\n",
       "    <tr>\n",
       "      <th>60026</th>\n",
       "      <td>47.0</td>\n",
       "      <td>1</td>\n",
       "      <td>1</td>\n",
       "      <td>0</td>\n",
       "      <td>0</td>\n",
       "      <td>0</td>\n",
       "      <td>0.0</td>\n",
       "      <td>0.0</td>\n",
       "      <td>0.0</td>\n",
       "      <td>0.0</td>\n",
       "      <td>1.0</td>\n",
       "      <td>0.0</td>\n",
       "      <td>0.0</td>\n",
       "      <td>0.0</td>\n",
       "      <td>0.0</td>\n",
       "      <td>0.0</td>\n",
       "      <td>0.0</td>\n",
       "      <td>0.0</td>\n",
       "      <td>0.0</td>\n",
       "      <td>1.0</td>\n",
       "    </tr>\n",
       "    <tr>\n",
       "      <th>60027</th>\n",
       "      <td>33.0</td>\n",
       "      <td>1</td>\n",
       "      <td>0</td>\n",
       "      <td>0</td>\n",
       "      <td>0</td>\n",
       "      <td>0</td>\n",
       "      <td>0.0</td>\n",
       "      <td>0.0</td>\n",
       "      <td>0.0</td>\n",
       "      <td>0.0</td>\n",
       "      <td>1.0</td>\n",
       "      <td>0.0</td>\n",
       "      <td>0.0</td>\n",
       "      <td>0.0</td>\n",
       "      <td>0.0</td>\n",
       "      <td>0.0</td>\n",
       "      <td>1.0</td>\n",
       "      <td>0.0</td>\n",
       "      <td>0.0</td>\n",
       "      <td>0.0</td>\n",
       "    </tr>\n",
       "    <tr>\n",
       "      <th>60028</th>\n",
       "      <td>94.0</td>\n",
       "      <td>1</td>\n",
       "      <td>1</td>\n",
       "      <td>0</td>\n",
       "      <td>1</td>\n",
       "      <td>0</td>\n",
       "      <td>0.0</td>\n",
       "      <td>0.0</td>\n",
       "      <td>0.0</td>\n",
       "      <td>0.0</td>\n",
       "      <td>1.0</td>\n",
       "      <td>0.0</td>\n",
       "      <td>0.0</td>\n",
       "      <td>1.0</td>\n",
       "      <td>1.0</td>\n",
       "      <td>0.0</td>\n",
       "      <td>1.0</td>\n",
       "      <td>0.0</td>\n",
       "      <td>0.0</td>\n",
       "      <td>0.0</td>\n",
       "    </tr>\n",
       "    <tr>\n",
       "      <th>60029</th>\n",
       "      <td>96.0</td>\n",
       "      <td>0</td>\n",
       "      <td>0</td>\n",
       "      <td>0</td>\n",
       "      <td>0</td>\n",
       "      <td>0</td>\n",
       "      <td>0.0</td>\n",
       "      <td>0.0</td>\n",
       "      <td>0.0</td>\n",
       "      <td>0.0</td>\n",
       "      <td>1.0</td>\n",
       "      <td>0.0</td>\n",
       "      <td>0.0</td>\n",
       "      <td>1.0</td>\n",
       "      <td>1.0</td>\n",
       "      <td>0.0</td>\n",
       "      <td>1.0</td>\n",
       "      <td>0.0</td>\n",
       "      <td>0.0</td>\n",
       "      <td>0.0</td>\n",
       "    </tr>\n",
       "  </tbody>\n",
       "</table>\n",
       "<p>60022 rows × 20 columns</p>\n",
       "</div>"
      ],
      "text/plain": [
       "        age  vag  val  vas  vaq  CPAWallBuyer  region_non_mainland  \\\n",
       "1      18.0    0    1    0    0             0                  0.0   \n",
       "2      18.0    0    0    0    0             0                  0.0   \n",
       "3      18.0    0    0    0    0             1                  0.0   \n",
       "4      18.0    0    0    0    0             0                  0.0   \n",
       "5      18.0    0    0    1    1             0                  0.0   \n",
       "6      18.0    0    0    0    0             0                  0.0   \n",
       "7      19.0    1    1    0    0             0                  0.0   \n",
       "8      19.0    0    0    0    1             0                  0.0   \n",
       "9      19.0    0    0    0    1             0                  0.0   \n",
       "10     19.0    0    1    0    1             0                  0.0   \n",
       "11     19.0    0    0    0    0             0                  0.0   \n",
       "12     19.0    1    1    0    0             0                  0.0   \n",
       "13     19.0    1    1    1    1             0                  0.0   \n",
       "14     19.0    0    1    1    0             0                  0.0   \n",
       "15     20.0    1    0    0    0             0                  0.0   \n",
       "16     20.0    0    0    0    0             0                  0.0   \n",
       "17     20.0    0    0    0    0             0                  0.0   \n",
       "18     20.0    0    0    0    0             0                  0.0   \n",
       "19     20.0    0    0    0    0             0                  0.0   \n",
       "20     20.0    0    0    0    1             0                  0.0   \n",
       "21     20.0    0    1    0    0             0                  0.0   \n",
       "22     20.0    0    0    0    0             0                  0.0   \n",
       "23     20.0    0    1    0    1             0                  0.0   \n",
       "24     21.0    0    1    0    0             0                  0.0   \n",
       "25     21.0    0    0    0    0             0                  0.0   \n",
       "26     21.0    0    1    0    0             0                  0.0   \n",
       "27     22.0    0    0    0    0             0                  0.0   \n",
       "28     22.0    0    1    0    0             0                  0.0   \n",
       "29     22.0    1    1    0    0             0                  0.0   \n",
       "30     22.0    0    0    0    0             0                  0.0   \n",
       "...     ...  ...  ...  ...  ...           ...                  ...   \n",
       "60000  57.0    1    1    0    0             0                  0.0   \n",
       "60001  57.0    0    1    1    0             0                  0.0   \n",
       "60002  57.0    0    1    0    0             0                  0.0   \n",
       "60003  58.0    0    1    0    0             0                  0.0   \n",
       "60004  59.0    0    1    0    0             0                  0.0   \n",
       "60005  59.0    1    1    0    0             0                  0.0   \n",
       "60006  60.0    0    1    0    0             0                  0.0   \n",
       "60007  61.0    0    1    1    1             0                  0.0   \n",
       "60008  62.0    0    1    0    0             0                  0.0   \n",
       "60009  64.0    1    1    0    0             0                  0.0   \n",
       "60010  64.0    1    1    1    0             0                  0.0   \n",
       "60011  66.0    0    0    0    0             0                  0.0   \n",
       "60012  66.0    0    0    0    0             0                  0.0   \n",
       "60013  67.0    1    1    0    0             0                  0.0   \n",
       "60014  68.0    1    1    1    0             0                  0.0   \n",
       "60015  69.0    1    1    1    0             0                  0.0   \n",
       "60016  71.0    0    1    1    1             0                  0.0   \n",
       "60017  75.0    1    1    0    1             0                  0.0   \n",
       "60018  86.0    0    0    0    0             0                  0.0   \n",
       "60019  91.0    0    0    0    0             0                  0.0   \n",
       "60020  91.0    1    0    1    1             0                  0.0   \n",
       "60021  21.0    0    0    0    0             0                  0.0   \n",
       "60022  22.0    0    1    0    0             0                  0.0   \n",
       "60023  38.0    0    0    0    0             0                  0.0   \n",
       "60024  40.0    1    0    0    0             0                  0.0   \n",
       "60025  44.0    0    1    0    0             0                  0.0   \n",
       "60026  47.0    1    1    0    0             0                  0.0   \n",
       "60027  33.0    1    0    0    0             0                  0.0   \n",
       "60028  94.0    1    1    0    1             0                  0.0   \n",
       "60029  96.0    0    0    0    0             0                  0.0   \n",
       "\n",
       "       region_northeast  region_southeast  region_southwest  region_territory  \\\n",
       "1                   1.0               0.0               0.0               0.0   \n",
       "2                   1.0               0.0               0.0               0.0   \n",
       "3                   1.0               0.0               0.0               0.0   \n",
       "4                   1.0               0.0               0.0               0.0   \n",
       "5                   1.0               0.0               0.0               0.0   \n",
       "6                   1.0               0.0               0.0               0.0   \n",
       "7                   1.0               0.0               0.0               0.0   \n",
       "8                   1.0               0.0               0.0               0.0   \n",
       "9                   1.0               0.0               0.0               0.0   \n",
       "10                  1.0               0.0               0.0               0.0   \n",
       "11                  1.0               0.0               0.0               0.0   \n",
       "12                  1.0               0.0               0.0               0.0   \n",
       "13                  1.0               0.0               0.0               0.0   \n",
       "14                  1.0               0.0               0.0               0.0   \n",
       "15                  1.0               0.0               0.0               0.0   \n",
       "16                  1.0               0.0               0.0               0.0   \n",
       "17                  1.0               0.0               0.0               0.0   \n",
       "18                  1.0               0.0               0.0               0.0   \n",
       "19                  1.0               0.0               0.0               0.0   \n",
       "20                  1.0               0.0               0.0               0.0   \n",
       "21                  1.0               0.0               0.0               0.0   \n",
       "22                  1.0               0.0               0.0               0.0   \n",
       "23                  1.0               0.0               0.0               0.0   \n",
       "24                  1.0               0.0               0.0               0.0   \n",
       "25                  1.0               0.0               0.0               0.0   \n",
       "26                  1.0               0.0               0.0               0.0   \n",
       "27                  1.0               0.0               0.0               0.0   \n",
       "28                  1.0               0.0               0.0               0.0   \n",
       "29                  1.0               0.0               0.0               0.0   \n",
       "30                  1.0               0.0               0.0               0.0   \n",
       "...                 ...               ...               ...               ...   \n",
       "60000               0.0               0.0               0.0               0.0   \n",
       "60001               0.0               0.0               0.0               0.0   \n",
       "60002               0.0               0.0               0.0               0.0   \n",
       "60003               0.0               0.0               0.0               0.0   \n",
       "60004               0.0               0.0               0.0               0.0   \n",
       "60005               0.0               0.0               0.0               0.0   \n",
       "60006               0.0               0.0               0.0               0.0   \n",
       "60007               0.0               0.0               0.0               0.0   \n",
       "60008               0.0               0.0               0.0               0.0   \n",
       "60009               0.0               0.0               0.0               0.0   \n",
       "60010               0.0               0.0               0.0               0.0   \n",
       "60011               0.0               0.0               0.0               0.0   \n",
       "60012               0.0               0.0               0.0               0.0   \n",
       "60013               0.0               0.0               0.0               0.0   \n",
       "60014               0.0               0.0               0.0               0.0   \n",
       "60015               0.0               0.0               0.0               0.0   \n",
       "60016               0.0               0.0               0.0               0.0   \n",
       "60017               0.0               0.0               0.0               0.0   \n",
       "60018               0.0               0.0               0.0               0.0   \n",
       "60019               0.0               0.0               0.0               0.0   \n",
       "60020               0.0               0.0               0.0               0.0   \n",
       "60021               0.0               0.0               0.0               1.0   \n",
       "60022               0.0               0.0               0.0               1.0   \n",
       "60023               0.0               0.0               0.0               1.0   \n",
       "60024               0.0               0.0               0.0               1.0   \n",
       "60025               0.0               0.0               0.0               1.0   \n",
       "60026               0.0               0.0               0.0               1.0   \n",
       "60027               0.0               0.0               0.0               1.0   \n",
       "60028               0.0               0.0               0.0               1.0   \n",
       "60029               0.0               0.0               0.0               1.0   \n",
       "\n",
       "       region_west  v2m_independent  v2m_republican  gender_Male  \\\n",
       "1              0.0              1.0             0.0          0.0   \n",
       "2              0.0              1.0             0.0          1.0   \n",
       "3              0.0              1.0             0.0          1.0   \n",
       "4              0.0              0.0             1.0          1.0   \n",
       "5              0.0              0.0             0.0          1.0   \n",
       "6              0.0              0.0             0.0          1.0   \n",
       "7              0.0              1.0             0.0          0.0   \n",
       "8              0.0              0.0             0.0          0.0   \n",
       "9              0.0              0.0             1.0          0.0   \n",
       "10             0.0              0.0             1.0          0.0   \n",
       "11             0.0              0.0             0.0          0.0   \n",
       "12             0.0              0.0             0.0          1.0   \n",
       "13             0.0              1.0             0.0          1.0   \n",
       "14             0.0              1.0             0.0          1.0   \n",
       "15             0.0              0.0             1.0          0.0   \n",
       "16             0.0              0.0             0.0          1.0   \n",
       "17             0.0              0.0             0.0          1.0   \n",
       "18             0.0              1.0             0.0          1.0   \n",
       "19             0.0              1.0             0.0          1.0   \n",
       "20             0.0              0.0             1.0          1.0   \n",
       "21             0.0              0.0             0.0          1.0   \n",
       "22             0.0              0.0             1.0          1.0   \n",
       "23             0.0              0.0             1.0          1.0   \n",
       "24             0.0              1.0             0.0          0.0   \n",
       "25             0.0              1.0             0.0          1.0   \n",
       "26             0.0              0.0             0.0          1.0   \n",
       "27             0.0              0.0             0.0          0.0   \n",
       "28             0.0              0.0             0.0          0.0   \n",
       "29             0.0              1.0             0.0          0.0   \n",
       "30             0.0              1.0             0.0          1.0   \n",
       "...            ...              ...             ...          ...   \n",
       "60000          1.0              1.0             0.0          0.0   \n",
       "60001          1.0              0.0             1.0          0.0   \n",
       "60002          1.0              0.0             1.0          1.0   \n",
       "60003          1.0              1.0             0.0          0.0   \n",
       "60004          1.0              0.0             0.0          1.0   \n",
       "60005          1.0              0.0             1.0          1.0   \n",
       "60006          1.0              0.0             1.0          0.0   \n",
       "60007          1.0              1.0             0.0          0.0   \n",
       "60008          1.0              1.0             0.0          0.0   \n",
       "60009          1.0              0.0             0.0          0.0   \n",
       "60010          1.0              0.0             1.0          1.0   \n",
       "60011          1.0              1.0             0.0          0.0   \n",
       "60012          1.0              0.0             1.0          1.0   \n",
       "60013          1.0              0.0             1.0          0.0   \n",
       "60014          1.0              0.0             0.0          0.0   \n",
       "60015          1.0              0.0             0.0          0.0   \n",
       "60016          1.0              0.0             0.0          0.0   \n",
       "60017          1.0              0.0             1.0          0.0   \n",
       "60018          1.0              0.0             1.0          1.0   \n",
       "60019          1.0              1.0             0.0          0.0   \n",
       "60020          1.0              1.0             0.0          1.0   \n",
       "60021          0.0              0.0             0.0          1.0   \n",
       "60022          0.0              0.0             0.0          1.0   \n",
       "60023          0.0              0.0             1.0          0.0   \n",
       "60024          0.0              0.0             0.0          1.0   \n",
       "60025          0.0              1.0             0.0          1.0   \n",
       "60026          0.0              0.0             0.0          0.0   \n",
       "60027          0.0              0.0             0.0          0.0   \n",
       "60028          0.0              0.0             1.0          1.0   \n",
       "60029          0.0              0.0             1.0          1.0   \n",
       "\n",
       "       esp_group_aol  esp_group_gmail  esp_group_hotmail  esp_group_other  \\\n",
       "1                0.0              1.0                0.0              0.0   \n",
       "2                0.0              1.0                0.0              0.0   \n",
       "3                0.0              1.0                0.0              0.0   \n",
       "4                0.0              1.0                0.0              0.0   \n",
       "5                0.0              1.0                0.0              0.0   \n",
       "6                0.0              0.0                0.0              0.0   \n",
       "7                0.0              0.0                0.0              0.0   \n",
       "8                0.0              1.0                0.0              0.0   \n",
       "9                0.0              1.0                0.0              0.0   \n",
       "10               0.0              1.0                0.0              0.0   \n",
       "11               0.0              0.0                0.0              1.0   \n",
       "12               0.0              1.0                0.0              0.0   \n",
       "13               0.0              0.0                1.0              0.0   \n",
       "14               0.0              0.0                0.0              1.0   \n",
       "15               0.0              1.0                0.0              0.0   \n",
       "16               0.0              1.0                0.0              0.0   \n",
       "17               0.0              1.0                0.0              0.0   \n",
       "18               0.0              1.0                0.0              0.0   \n",
       "19               0.0              1.0                0.0              0.0   \n",
       "20               0.0              1.0                0.0              0.0   \n",
       "21               0.0              1.0                0.0              0.0   \n",
       "22               0.0              1.0                0.0              0.0   \n",
       "23               0.0              0.0                0.0              1.0   \n",
       "24               0.0              0.0                0.0              0.0   \n",
       "25               0.0              1.0                0.0              0.0   \n",
       "26               0.0              1.0                0.0              0.0   \n",
       "27               0.0              1.0                0.0              0.0   \n",
       "28               0.0              1.0                0.0              0.0   \n",
       "29               0.0              0.0                1.0              0.0   \n",
       "30               0.0              0.0                0.0              1.0   \n",
       "...              ...              ...                ...              ...   \n",
       "60000            0.0              1.0                0.0              0.0   \n",
       "60001            0.0              0.0                0.0              0.0   \n",
       "60002            0.0              1.0                0.0              0.0   \n",
       "60003            0.0              0.0                0.0              1.0   \n",
       "60004            0.0              0.0                0.0              0.0   \n",
       "60005            0.0              1.0                0.0              0.0   \n",
       "60006            0.0              0.0                0.0              0.0   \n",
       "60007            0.0              0.0                0.0              0.0   \n",
       "60008            0.0              0.0                0.0              1.0   \n",
       "60009            0.0              0.0                0.0              1.0   \n",
       "60010            0.0              0.0                0.0              1.0   \n",
       "60011            0.0              1.0                0.0              0.0   \n",
       "60012            0.0              1.0                0.0              0.0   \n",
       "60013            0.0              0.0                0.0              0.0   \n",
       "60014            0.0              0.0                0.0              0.0   \n",
       "60015            0.0              1.0                0.0              0.0   \n",
       "60016            0.0              0.0                0.0              0.0   \n",
       "60017            0.0              0.0                0.0              0.0   \n",
       "60018            0.0              1.0                0.0              0.0   \n",
       "60019            0.0              0.0                0.0              1.0   \n",
       "60020            0.0              1.0                0.0              0.0   \n",
       "60021            0.0              1.0                0.0              0.0   \n",
       "60022            0.0              0.0                0.0              0.0   \n",
       "60023            0.0              0.0                0.0              0.0   \n",
       "60024            0.0              0.0                0.0              0.0   \n",
       "60025            0.0              1.0                0.0              0.0   \n",
       "60026            0.0              0.0                0.0              0.0   \n",
       "60027            0.0              1.0                0.0              0.0   \n",
       "60028            0.0              1.0                0.0              0.0   \n",
       "60029            0.0              1.0                0.0              0.0   \n",
       "\n",
       "       esp_group_yahoo  \n",
       "1                  0.0  \n",
       "2                  0.0  \n",
       "3                  0.0  \n",
       "4                  0.0  \n",
       "5                  0.0  \n",
       "6                  1.0  \n",
       "7                  0.0  \n",
       "8                  0.0  \n",
       "9                  0.0  \n",
       "10                 0.0  \n",
       "11                 0.0  \n",
       "12                 0.0  \n",
       "13                 0.0  \n",
       "14                 0.0  \n",
       "15                 0.0  \n",
       "16                 0.0  \n",
       "17                 0.0  \n",
       "18                 0.0  \n",
       "19                 0.0  \n",
       "20                 0.0  \n",
       "21                 0.0  \n",
       "22                 0.0  \n",
       "23                 0.0  \n",
       "24                 1.0  \n",
       "25                 0.0  \n",
       "26                 0.0  \n",
       "27                 0.0  \n",
       "28                 0.0  \n",
       "29                 0.0  \n",
       "30                 0.0  \n",
       "...                ...  \n",
       "60000              0.0  \n",
       "60001              1.0  \n",
       "60002              0.0  \n",
       "60003              0.0  \n",
       "60004              0.0  \n",
       "60005              0.0  \n",
       "60006              1.0  \n",
       "60007              1.0  \n",
       "60008              0.0  \n",
       "60009              0.0  \n",
       "60010              0.0  \n",
       "60011              0.0  \n",
       "60012              0.0  \n",
       "60013              1.0  \n",
       "60014              0.0  \n",
       "60015              0.0  \n",
       "60016              1.0  \n",
       "60017              0.0  \n",
       "60018              0.0  \n",
       "60019              0.0  \n",
       "60020              0.0  \n",
       "60021              0.0  \n",
       "60022              1.0  \n",
       "60023              1.0  \n",
       "60024              1.0  \n",
       "60025              0.0  \n",
       "60026              1.0  \n",
       "60027              0.0  \n",
       "60028              0.0  \n",
       "60029              0.0  \n",
       "\n",
       "[60022 rows x 20 columns]"
      ]
     },
     "execution_count": 106,
     "metadata": {},
     "output_type": "execute_result"
    }
   ],
   "source": [
    "data2 #Machine-legible"
   ]
  },
  {
   "cell_type": "markdown",
   "metadata": {},
   "source": [
    "### IV. Modelling"
   ]
  },
  {
   "cell_type": "markdown",
   "metadata": {},
   "source": [
    "#### a. Kitchen-sink strategy"
   ]
  },
  {
   "cell_type": "markdown",
   "metadata": {},
   "source": [
    "- Will start out by putting in all the features into the model\n",
    "- Since 1.5% probability of a user being a buyer, need model to be above 98.5% accuracy"
   ]
  },
  {
   "cell_type": "code",
   "execution_count": 107,
   "metadata": {
    "collapsed": true
   },
   "outputs": [],
   "source": [
    "from sklearn.ensemble import RandomForestClassifier\n",
    "from sklearn.model_selection import train_test_split\n",
    "from sklearn.model_selection import cross_val_score\n",
    "from sklearn.metrics import f1_score\n",
    "from sklearn.model_selection import ShuffleSplit\n",
    "from sklearn.model_selection import GridSearchCV\n",
    "from sk_modelcurves.learning_curve import draw_learning_curve"
   ]
  },
  {
   "cell_type": "code",
   "execution_count": 108,
   "metadata": {
    "collapsed": true
   },
   "outputs": [],
   "source": [
    "X= data2.drop('CPAWallBuyer', axis=1)\n",
    "y= data2['CPAWallBuyer']"
   ]
  },
  {
   "cell_type": "code",
   "execution_count": 109,
   "metadata": {
    "collapsed": true
   },
   "outputs": [],
   "source": [
    "X_train, X_test, y_train, y_test = train_test_split(X, y)"
   ]
  },
  {
   "cell_type": "code",
   "execution_count": 110,
   "metadata": {
    "collapsed": true
   },
   "outputs": [],
   "source": [
    "cv = ShuffleSplit(n_splits=10, test_size=0.2, random_state=0)"
   ]
  },
  {
   "cell_type": "code",
   "execution_count": 111,
   "metadata": {
    "collapsed": true
   },
   "outputs": [],
   "source": [
    "parameters = {'max_features': ('auto', 'sqrt', 'log2')}\n",
    "model = RandomForestClassifier()\n",
    "clf = GridSearchCV(model, parameters, cv=cv)"
   ]
  },
  {
   "cell_type": "code",
   "execution_count": 112,
   "metadata": {
    "collapsed": false
   },
   "outputs": [
    {
     "data": {
      "text/plain": [
       "GridSearchCV(cv=ShuffleSplit(n_splits=10, random_state=0, test_size=0.2, train_size=None),\n",
       "       error_score='raise',\n",
       "       estimator=RandomForestClassifier(bootstrap=True, class_weight=None, criterion='gini',\n",
       "            max_depth=None, max_features='auto', max_leaf_nodes=None,\n",
       "            min_impurity_split=1e-07, min_samples_leaf=1,\n",
       "            min_samples_split=2, min_weight_fraction_leaf=0.0,\n",
       "            n_estimators=10, n_jobs=1, oob_score=False, random_state=None,\n",
       "            verbose=0, warm_start=False),\n",
       "       fit_params={}, iid=True, n_jobs=1,\n",
       "       param_grid={'max_features': ('auto', 'sqrt', 'log2')},\n",
       "       pre_dispatch='2*n_jobs', refit=True, return_train_score=True,\n",
       "       scoring=None, verbose=0)"
      ]
     },
     "execution_count": 112,
     "metadata": {},
     "output_type": "execute_result"
    }
   ],
   "source": [
    "clf.fit(X_train, y_train)"
   ]
  },
  {
   "cell_type": "code",
   "execution_count": 113,
   "metadata": {
    "collapsed": false
   },
   "outputs": [
    {
     "data": {
      "text/plain": [
       "{'max_features': 'log2'}"
      ]
     },
     "execution_count": 113,
     "metadata": {},
     "output_type": "execute_result"
    }
   ],
   "source": [
    "clf.best_params_"
   ]
  },
  {
   "cell_type": "code",
   "execution_count": 114,
   "metadata": {
    "collapsed": true
   },
   "outputs": [],
   "source": [
    "best_model = clf.best_estimator_"
   ]
  },
  {
   "cell_type": "code",
   "execution_count": 115,
   "metadata": {
    "collapsed": false
   },
   "outputs": [
    {
     "data": {
      "text/plain": [
       "0.98782655055980095"
      ]
     },
     "execution_count": 115,
     "metadata": {},
     "output_type": "execute_result"
    }
   ],
   "source": [
    "best_model.score(X_train, y_train)"
   ]
  },
  {
   "cell_type": "code",
   "execution_count": 116,
   "metadata": {
    "collapsed": false
   },
   "outputs": [
    {
     "data": {
      "text/plain": [
       "RandomForestClassifier(bootstrap=True, class_weight=None, criterion='gini',\n",
       "            max_depth=None, max_features='log2', max_leaf_nodes=None,\n",
       "            min_impurity_split=1e-07, min_samples_leaf=1,\n",
       "            min_samples_split=2, min_weight_fraction_leaf=0.0,\n",
       "            n_estimators=10, n_jobs=1, oob_score=False, random_state=None,\n",
       "            verbose=0, warm_start=False)"
      ]
     },
     "execution_count": 116,
     "metadata": {},
     "output_type": "execute_result"
    }
   ],
   "source": [
    "best_model.fit(X_train, y_train)"
   ]
  },
  {
   "cell_type": "code",
   "execution_count": 175,
   "metadata": {
    "collapsed": false
   },
   "outputs": [
    {
     "name": "stdout",
     "output_type": "stream",
     "text": [
      "CV accuracy [ 0.11320755  0.10526316  0.08080808  0.125       0.12631579  0.12371134\n",
      "  0.19607843  0.14583333  0.19148936  0.1       ], Average accuracy 0.130770704196\n"
     ]
    }
   ],
   "source": [
    "#Will use f1 score, mean of precision and recall, due to imbalanced dataset\n",
    "scores = cross_val_score(best_model, X_train, y_train, cv=10, scoring= 'f1')\n",
    "print('CV accuracy {}, Average accuracy {}'.format(scores, scores.mean()))"
   ]
  },
  {
   "cell_type": "code",
   "execution_count": 206,
   "metadata": {
    "collapsed": false
   },
   "outputs": [],
   "source": [
    "cv = range(1,11)\n",
    "cross_val = pd.DataFrame({'F1 score': scores, 'Folds': cv})"
   ]
  },
  {
   "cell_type": "code",
   "execution_count": 207,
   "metadata": {
    "collapsed": false
   },
   "outputs": [
    {
     "data": {
      "image/png": "[encoded data removed]",
      "text/plain": [
       "<matplotlib.figure.Figure at 0x121d9f910>"
      ]
     },
     "metadata": {},
     "output_type": "display_data"
    }
   ],
   "source": [
    "sns.pointplot(x= 'Folds', y= 'F1 score', data=cross_val);"
   ]
  },
  {
   "cell_type": "code",
   "execution_count": 118,
   "metadata": {
    "collapsed": false
   },
   "outputs": [
    {
     "data": {
      "text/plain": [
       "0.47347740667976418"
      ]
     },
     "execution_count": 118,
     "metadata": {},
     "output_type": "execute_result"
    }
   ],
   "source": [
    "y_predict = best_model.predict(X_train)\n",
    "f1_score(y_train, y_predict)"
   ]
  },
  {
   "cell_type": "code",
   "execution_count": 119,
   "metadata": {
    "collapsed": false
   },
   "outputs": [
    {
     "data": {
      "text/plain": [
       "0.18505338078291816"
      ]
     },
     "execution_count": 119,
     "metadata": {},
     "output_type": "execute_result"
    }
   ],
   "source": [
    "y1_predict = best_model.predict(X_test)\n",
    "f1_score(y_test, y1_predict)"
   ]
  },
  {
   "cell_type": "code",
   "execution_count": 120,
   "metadata": {
    "collapsed": false
   },
   "outputs": [
    {
     "data": {
      "text/plain": [
       "0.98473943755831006"
      ]
     },
     "execution_count": 120,
     "metadata": {},
     "output_type": "execute_result"
    }
   ],
   "source": [
    "best_model.score(X_test, y_test)"
   ]
  },
  {
   "cell_type": "code",
   "execution_count": 121,
   "metadata": {
    "collapsed": false,
    "scrolled": false
   },
   "outputs": [
    {
     "data": {
      "text/html": [
       "<div>\n",
       "<table border=\"1\" class=\"dataframe\">\n",
       "  <thead>\n",
       "    <tr style=\"text-align: right;\">\n",
       "      <th></th>\n",
       "      <th>Features</th>\n",
       "      <th>Importance Score</th>\n",
       "    </tr>\n",
       "  </thead>\n",
       "  <tbody>\n",
       "    <tr>\n",
       "      <th>0</th>\n",
       "      <td>age</td>\n",
       "      <td>0.574786</td>\n",
       "    </tr>\n",
       "    <tr>\n",
       "      <th>3</th>\n",
       "      <td>vas</td>\n",
       "      <td>0.049863</td>\n",
       "    </tr>\n",
       "    <tr>\n",
       "      <th>2</th>\n",
       "      <td>val</td>\n",
       "      <td>0.045931</td>\n",
       "    </tr>\n",
       "    <tr>\n",
       "      <th>13</th>\n",
       "      <td>gender_Male</td>\n",
       "      <td>0.042454</td>\n",
       "    </tr>\n",
       "    <tr>\n",
       "      <th>7</th>\n",
       "      <td>region_southeast</td>\n",
       "      <td>0.035327</td>\n",
       "    </tr>\n",
       "    <tr>\n",
       "      <th>12</th>\n",
       "      <td>v2m_republican</td>\n",
       "      <td>0.034021</td>\n",
       "    </tr>\n",
       "    <tr>\n",
       "      <th>11</th>\n",
       "      <td>v2m_independent</td>\n",
       "      <td>0.033741</td>\n",
       "    </tr>\n",
       "    <tr>\n",
       "      <th>1</th>\n",
       "      <td>vag</td>\n",
       "      <td>0.031916</td>\n",
       "    </tr>\n",
       "    <tr>\n",
       "      <th>10</th>\n",
       "      <td>region_west</td>\n",
       "      <td>0.027622</td>\n",
       "    </tr>\n",
       "    <tr>\n",
       "      <th>4</th>\n",
       "      <td>vaq</td>\n",
       "      <td>0.025022</td>\n",
       "    </tr>\n",
       "    <tr>\n",
       "      <th>8</th>\n",
       "      <td>region_southwest</td>\n",
       "      <td>0.022919</td>\n",
       "    </tr>\n",
       "    <tr>\n",
       "      <th>15</th>\n",
       "      <td>esp_group_gmail</td>\n",
       "      <td>0.017819</td>\n",
       "    </tr>\n",
       "    <tr>\n",
       "      <th>6</th>\n",
       "      <td>region_northeast</td>\n",
       "      <td>0.016475</td>\n",
       "    </tr>\n",
       "    <tr>\n",
       "      <th>18</th>\n",
       "      <td>esp_group_yahoo</td>\n",
       "      <td>0.013034</td>\n",
       "    </tr>\n",
       "    <tr>\n",
       "      <th>17</th>\n",
       "      <td>esp_group_other</td>\n",
       "      <td>0.010214</td>\n",
       "    </tr>\n",
       "    <tr>\n",
       "      <th>16</th>\n",
       "      <td>esp_group_hotmail</td>\n",
       "      <td>0.007796</td>\n",
       "    </tr>\n",
       "    <tr>\n",
       "      <th>14</th>\n",
       "      <td>esp_group_aol</td>\n",
       "      <td>0.006221</td>\n",
       "    </tr>\n",
       "    <tr>\n",
       "      <th>5</th>\n",
       "      <td>region_non_mainland</td>\n",
       "      <td>0.002478</td>\n",
       "    </tr>\n",
       "    <tr>\n",
       "      <th>9</th>\n",
       "      <td>region_territory</td>\n",
       "      <td>0.002362</td>\n",
       "    </tr>\n",
       "  </tbody>\n",
       "</table>\n",
       "</div>"
      ],
      "text/plain": [
       "               Features  Importance Score\n",
       "0                   age          0.574786\n",
       "3                   vas          0.049863\n",
       "2                   val          0.045931\n",
       "13          gender_Male          0.042454\n",
       "7      region_southeast          0.035327\n",
       "12       v2m_republican          0.034021\n",
       "11      v2m_independent          0.033741\n",
       "1                   vag          0.031916\n",
       "10          region_west          0.027622\n",
       "4                   vaq          0.025022\n",
       "8      region_southwest          0.022919\n",
       "15      esp_group_gmail          0.017819\n",
       "6      region_northeast          0.016475\n",
       "18      esp_group_yahoo          0.013034\n",
       "17      esp_group_other          0.010214\n",
       "16    esp_group_hotmail          0.007796\n",
       "14        esp_group_aol          0.006221\n",
       "5   region_non_mainland          0.002478\n",
       "9      region_territory          0.002362"
      ]
     },
     "execution_count": 121,
     "metadata": {},
     "output_type": "execute_result"
    }
   ],
   "source": [
    "features = X.columns\n",
    "feature_importances = best_model.feature_importances_\n",
    "features_df = pd.DataFrame({'Features': features, 'Importance Score': feature_importances})\n",
    "features_df.sort_values('Importance Score', inplace=True, ascending=False)\n",
    "features_df"
   ]
  },
  {
   "cell_type": "code",
   "execution_count": 193,
   "metadata": {
    "collapsed": false,
    "scrolled": true
   },
   "outputs": [
    {
     "data": {
      "image/png": "[encoded data removed]",
      "text/plain": [
       "<matplotlib.figure.Figure at 0x11c108510>"
      ]
     },
     "metadata": {},
     "output_type": "display_data"
    }
   ],
   "source": [
    "sns.barplot(x='Importance Score', y='Features', data=features_df);"
   ]
  },
  {
   "cell_type": "code",
   "execution_count": 122,
   "metadata": {
    "collapsed": false
   },
   "outputs": [
    {
     "data": {
      "image/png": "[encoded data removed]",
      "text/plain": [
       "<matplotlib.figure.Figure at 0x11ad38110>"
      ]
     },
     "metadata": {},
     "output_type": "display_data"
    }
   ],
   "source": [
    "draw_learning_curve(best_model, X_train, y_train, scoring='f1', cv=cv);"
   ]
  },
  {
   "cell_type": "markdown",
   "metadata": {},
   "source": [
    "#### Model has high bias; will need to obtain more powerful and descriminatory features"
   ]
  },
  {
   "cell_type": "code",
   "execution_count": 123,
   "metadata": {
    "collapsed": false
   },
   "outputs": [],
   "source": [
    "from sklearn.linear_model import LogisticRegression\n",
    "logit = LogisticRegression(penalty = 'l1')"
   ]
  },
  {
   "cell_type": "code",
   "execution_count": 124,
   "metadata": {
    "collapsed": false
   },
   "outputs": [
    {
     "data": {
      "text/plain": [
       "LogisticRegression(C=1.0, class_weight=None, dual=False, fit_intercept=True,\n",
       "          intercept_scaling=1, max_iter=100, multi_class='ovr', n_jobs=1,\n",
       "          penalty='l1', random_state=None, solver='liblinear', tol=0.0001,\n",
       "          verbose=0, warm_start=False)"
      ]
     },
     "execution_count": 124,
     "metadata": {},
     "output_type": "execute_result"
    }
   ],
   "source": [
    "logit.fit(X_train, y_train)"
   ]
  },
  {
   "cell_type": "code",
   "execution_count": 125,
   "metadata": {
    "collapsed": false
   },
   "outputs": [],
   "source": [
    "view = pd.DataFrame(X.columns)\n",
    "coeff = logit.coef_\n",
    "odds = np.exp(coeff)\n",
    "coeff = pd.DataFrame(coeff)\n",
    "odds = pd.DataFrame(odds)"
   ]
  },
  {
   "cell_type": "code",
   "execution_count": 126,
   "metadata": {
    "collapsed": false
   },
   "outputs": [],
   "source": [
    "coeff = coeff.transpose()\n",
    "odds = odds.transpose()"
   ]
  },
  {
   "cell_type": "code",
   "execution_count": 127,
   "metadata": {
    "collapsed": false
   },
   "outputs": [
    {
     "data": {
      "text/html": [
       "<div>\n",
       "<table border=\"1\" class=\"dataframe\">\n",
       "  <thead>\n",
       "    <tr style=\"text-align: right;\">\n",
       "      <th></th>\n",
       "      <th>0</th>\n",
       "      <th>coef</th>\n",
       "      <th>odds</th>\n",
       "    </tr>\n",
       "  </thead>\n",
       "  <tbody>\n",
       "    <tr>\n",
       "      <th>0</th>\n",
       "      <td>age</td>\n",
       "      <td>-0.009371</td>\n",
       "      <td>0.990673</td>\n",
       "    </tr>\n",
       "    <tr>\n",
       "      <th>1</th>\n",
       "      <td>vag</td>\n",
       "      <td>-0.148700</td>\n",
       "      <td>0.861828</td>\n",
       "    </tr>\n",
       "    <tr>\n",
       "      <th>2</th>\n",
       "      <td>val</td>\n",
       "      <td>-0.104619</td>\n",
       "      <td>0.900668</td>\n",
       "    </tr>\n",
       "    <tr>\n",
       "      <th>3</th>\n",
       "      <td>vas</td>\n",
       "      <td>0.000000</td>\n",
       "      <td>1.000000</td>\n",
       "    </tr>\n",
       "    <tr>\n",
       "      <th>4</th>\n",
       "      <td>vaq</td>\n",
       "      <td>-0.546070</td>\n",
       "      <td>0.579222</td>\n",
       "    </tr>\n",
       "    <tr>\n",
       "      <th>5</th>\n",
       "      <td>region_non_mainland</td>\n",
       "      <td>0.000000</td>\n",
       "      <td>1.000000</td>\n",
       "    </tr>\n",
       "    <tr>\n",
       "      <th>6</th>\n",
       "      <td>region_northeast</td>\n",
       "      <td>-0.156298</td>\n",
       "      <td>0.855304</td>\n",
       "    </tr>\n",
       "    <tr>\n",
       "      <th>7</th>\n",
       "      <td>region_southeast</td>\n",
       "      <td>0.118115</td>\n",
       "      <td>1.125373</td>\n",
       "    </tr>\n",
       "    <tr>\n",
       "      <th>8</th>\n",
       "      <td>region_southwest</td>\n",
       "      <td>0.118508</td>\n",
       "      <td>1.125816</td>\n",
       "    </tr>\n",
       "    <tr>\n",
       "      <th>9</th>\n",
       "      <td>region_territory</td>\n",
       "      <td>0.000000</td>\n",
       "      <td>1.000000</td>\n",
       "    </tr>\n",
       "    <tr>\n",
       "      <th>10</th>\n",
       "      <td>region_west</td>\n",
       "      <td>0.168834</td>\n",
       "      <td>1.183923</td>\n",
       "    </tr>\n",
       "    <tr>\n",
       "      <th>11</th>\n",
       "      <td>v2m_independent</td>\n",
       "      <td>-0.066587</td>\n",
       "      <td>0.935581</td>\n",
       "    </tr>\n",
       "    <tr>\n",
       "      <th>12</th>\n",
       "      <td>v2m_republican</td>\n",
       "      <td>-0.084395</td>\n",
       "      <td>0.919068</td>\n",
       "    </tr>\n",
       "    <tr>\n",
       "      <th>13</th>\n",
       "      <td>gender_Male</td>\n",
       "      <td>-0.304626</td>\n",
       "      <td>0.737399</td>\n",
       "    </tr>\n",
       "    <tr>\n",
       "      <th>14</th>\n",
       "      <td>esp_group_aol</td>\n",
       "      <td>-0.151627</td>\n",
       "      <td>0.859309</td>\n",
       "    </tr>\n",
       "    <tr>\n",
       "      <th>15</th>\n",
       "      <td>esp_group_gmail</td>\n",
       "      <td>0.185459</td>\n",
       "      <td>1.203771</td>\n",
       "    </tr>\n",
       "    <tr>\n",
       "      <th>16</th>\n",
       "      <td>esp_group_hotmail</td>\n",
       "      <td>0.017068</td>\n",
       "      <td>1.017215</td>\n",
       "    </tr>\n",
       "    <tr>\n",
       "      <th>17</th>\n",
       "      <td>esp_group_other</td>\n",
       "      <td>-0.033142</td>\n",
       "      <td>0.967401</td>\n",
       "    </tr>\n",
       "    <tr>\n",
       "      <th>18</th>\n",
       "      <td>esp_group_yahoo</td>\n",
       "      <td>-0.144190</td>\n",
       "      <td>0.865723</td>\n",
       "    </tr>\n",
       "  </tbody>\n",
       "</table>\n",
       "</div>"
      ],
      "text/plain": [
       "                      0      coef      odds\n",
       "0                   age -0.009371  0.990673\n",
       "1                   vag -0.148700  0.861828\n",
       "2                   val -0.104619  0.900668\n",
       "3                   vas  0.000000  1.000000\n",
       "4                   vaq -0.546070  0.579222\n",
       "5   region_non_mainland  0.000000  1.000000\n",
       "6      region_northeast -0.156298  0.855304\n",
       "7      region_southeast  0.118115  1.125373\n",
       "8      region_southwest  0.118508  1.125816\n",
       "9      region_territory  0.000000  1.000000\n",
       "10          region_west  0.168834  1.183923\n",
       "11      v2m_independent -0.066587  0.935581\n",
       "12       v2m_republican -0.084395  0.919068\n",
       "13          gender_Male -0.304626  0.737399\n",
       "14        esp_group_aol -0.151627  0.859309\n",
       "15      esp_group_gmail  0.185459  1.203771\n",
       "16    esp_group_hotmail  0.017068  1.017215\n",
       "17      esp_group_other -0.033142  0.967401\n",
       "18      esp_group_yahoo -0.144190  0.865723"
      ]
     },
     "execution_count": 127,
     "metadata": {},
     "output_type": "execute_result"
    }
   ],
   "source": [
    "view['coef'] = coeff\n",
    "view['odds'] = odds\n",
    "view"
   ]
  },
  {
   "cell_type": "markdown",
   "metadata": {},
   "source": [
    "##### Both Random Forest and logistic regression are identifying esp_group as an unimportant feature"
   ]
  },
  {
   "cell_type": "markdown",
   "metadata": {},
   "source": [
    "#### b. Dropping esp_group feature"
   ]
  },
  {
   "cell_type": "markdown",
   "metadata": {},
   "source": [
    "Will use the same steps as before to model the dataset without the feature esp_group"
   ]
  },
  {
   "cell_type": "code",
   "execution_count": 128,
   "metadata": {
    "collapsed": true
   },
   "outputs": [],
   "source": [
    "data3 = data.copy()"
   ]
  },
  {
   "cell_type": "code",
   "execution_count": 129,
   "metadata": {
    "collapsed": true
   },
   "outputs": [],
   "source": [
    "a = pd.get_dummies(data3['gender'], prefix= 'gender', drop_first= True)\n",
    "data3 = data3.join(a)"
   ]
  },
  {
   "cell_type": "code",
   "execution_count": 130,
   "metadata": {
    "collapsed": true
   },
   "outputs": [],
   "source": [
    "b = pd.get_dummies(data3['region'], prefix= 'region', drop_first= True)\n",
    "data3 = data3.join(b)"
   ]
  },
  {
   "cell_type": "code",
   "execution_count": 131,
   "metadata": {
    "collapsed": true
   },
   "outputs": [],
   "source": [
    "c = pd.get_dummies(data3['v2m'], prefix= 'v2m', drop_first= True)\n",
    "data3 = data3.join(c)"
   ]
  },
  {
   "cell_type": "code",
   "execution_count": 132,
   "metadata": {
    "collapsed": true
   },
   "outputs": [],
   "source": [
    "data3 = data3.drop('esp', axis= 1)\n",
    "data3 = data3.drop('esp_group', axis= 1)\n",
    "data3 = data3.drop('state', axis= 1)\n",
    "data3 = data3.drop('region', axis= 1)\n",
    "data3 = data3.drop('v2m', axis= 1)\n",
    "data3 = data3.drop('gender', axis= 1)"
   ]
  },
  {
   "cell_type": "code",
   "execution_count": 133,
   "metadata": {
    "collapsed": true
   },
   "outputs": [],
   "source": [
    "X3= data3.drop('CPAWallBuyer', axis=1)\n",
    "y3= data3['CPAWallBuyer']"
   ]
  },
  {
   "cell_type": "code",
   "execution_count": 134,
   "metadata": {
    "collapsed": true
   },
   "outputs": [],
   "source": [
    "X3_train, X3_test, y3_train, y3_test = train_test_split(X3, y3)"
   ]
  },
  {
   "cell_type": "code",
   "execution_count": 135,
   "metadata": {
    "collapsed": true
   },
   "outputs": [],
   "source": [
    "cv = ShuffleSplit(n_splits=10, test_size=0.2, random_state=0)\n",
    "parameters = {'max_features': ('auto', 'sqrt', 'log2')}\n",
    "model3 = RandomForestClassifier()\n",
    "clf3 = GridSearchCV(model3, parameters, cv=cv)"
   ]
  },
  {
   "cell_type": "code",
   "execution_count": 136,
   "metadata": {
    "collapsed": false
   },
   "outputs": [
    {
     "data": {
      "text/plain": [
       "{'max_features': 'auto'}"
      ]
     },
     "execution_count": 136,
     "metadata": {},
     "output_type": "execute_result"
    }
   ],
   "source": [
    "clf3.fit(X3_train, y3_train)\n",
    "clf3.best_params_"
   ]
  },
  {
   "cell_type": "code",
   "execution_count": 137,
   "metadata": {
    "collapsed": false
   },
   "outputs": [],
   "source": [
    "best_model3 = clf3.best_estimator_"
   ]
  },
  {
   "cell_type": "code",
   "execution_count": 138,
   "metadata": {
    "collapsed": false
   },
   "outputs": [
    {
     "data": {
      "text/plain": [
       "RandomForestClassifier(bootstrap=True, class_weight=None, criterion='gini',\n",
       "            max_depth=None, max_features='auto', max_leaf_nodes=None,\n",
       "            min_impurity_split=1e-07, min_samples_leaf=1,\n",
       "            min_samples_split=2, min_weight_fraction_leaf=0.0,\n",
       "            n_estimators=10, n_jobs=1, oob_score=False, random_state=None,\n",
       "            verbose=0, warm_start=False)"
      ]
     },
     "execution_count": 138,
     "metadata": {},
     "output_type": "execute_result"
    }
   ],
   "source": [
    "best_model3.fit(X3_train, y3_train)"
   ]
  },
  {
   "cell_type": "code",
   "execution_count": 139,
   "metadata": {
    "collapsed": false
   },
   "outputs": [
    {
     "name": "stdout",
     "output_type": "stream",
     "text": [
      "CV accuracy [ 0.04819277  0.07142857  0.08988764  0.08791209  0.13953488  0.11494253\n",
      "  0.06976744  0.04761905  0.06976744  0.11363636], Average accuracy 0.0852688778307\n"
     ]
    }
   ],
   "source": [
    "scores3 = cross_val_score(best_model3, X3_train, y3_train, cv=10, scoring= 'f1')\n",
    "print('CV accuracy {}, Average accuracy {}'.format(scores3, scores3.mean()))"
   ]
  },
  {
   "cell_type": "code",
   "execution_count": 140,
   "metadata": {
    "collapsed": false
   },
   "outputs": [
    {
     "data": {
      "text/plain": [
       "0.27674418604651163"
      ]
     },
     "execution_count": 140,
     "metadata": {},
     "output_type": "execute_result"
    }
   ],
   "source": [
    "y3_predict = best_model3.predict(X3_train)\n",
    "f1_score(y3_train, y3_predict)"
   ]
  },
  {
   "cell_type": "code",
   "execution_count": 179,
   "metadata": {
    "collapsed": false
   },
   "outputs": [
    {
     "data": {
      "text/plain": [
       "0.12500000000000003"
      ]
     },
     "execution_count": 179,
     "metadata": {},
     "output_type": "execute_result"
    }
   ],
   "source": [
    "y3_predict = best_model3.predict(X3_test)\n",
    "f1_score(y3_test, y3_predict)"
   ]
  },
  {
   "cell_type": "code",
   "execution_count": 142,
   "metadata": {
    "collapsed": false
   },
   "outputs": [
    {
     "data": {
      "text/plain": [
       "0.98320671731307474"
      ]
     },
     "execution_count": 142,
     "metadata": {},
     "output_type": "execute_result"
    }
   ],
   "source": [
    "best_model3.score(X3_test, y3_test)"
   ]
  },
  {
   "cell_type": "code",
   "execution_count": 143,
   "metadata": {
    "collapsed": false
   },
   "outputs": [
    {
     "data": {
      "text/html": [
       "<div>\n",
       "<table border=\"1\" class=\"dataframe\">\n",
       "  <thead>\n",
       "    <tr style=\"text-align: right;\">\n",
       "      <th></th>\n",
       "      <th>Features</th>\n",
       "      <th>Importance Score</th>\n",
       "    </tr>\n",
       "  </thead>\n",
       "  <tbody>\n",
       "    <tr>\n",
       "      <th>0</th>\n",
       "      <td>age</td>\n",
       "      <td>0.663249</td>\n",
       "    </tr>\n",
       "    <tr>\n",
       "      <th>3</th>\n",
       "      <td>vas</td>\n",
       "      <td>0.048745</td>\n",
       "    </tr>\n",
       "    <tr>\n",
       "      <th>13</th>\n",
       "      <td>v2m_republican</td>\n",
       "      <td>0.045821</td>\n",
       "    </tr>\n",
       "    <tr>\n",
       "      <th>12</th>\n",
       "      <td>v2m_independent</td>\n",
       "      <td>0.040454</td>\n",
       "    </tr>\n",
       "    <tr>\n",
       "      <th>5</th>\n",
       "      <td>gender_Male</td>\n",
       "      <td>0.038386</td>\n",
       "    </tr>\n",
       "    <tr>\n",
       "      <th>1</th>\n",
       "      <td>vag</td>\n",
       "      <td>0.036325</td>\n",
       "    </tr>\n",
       "    <tr>\n",
       "      <th>2</th>\n",
       "      <td>val</td>\n",
       "      <td>0.026142</td>\n",
       "    </tr>\n",
       "    <tr>\n",
       "      <th>11</th>\n",
       "      <td>region_west</td>\n",
       "      <td>0.023475</td>\n",
       "    </tr>\n",
       "    <tr>\n",
       "      <th>8</th>\n",
       "      <td>region_southeast</td>\n",
       "      <td>0.020486</td>\n",
       "    </tr>\n",
       "    <tr>\n",
       "      <th>4</th>\n",
       "      <td>vaq</td>\n",
       "      <td>0.018066</td>\n",
       "    </tr>\n",
       "    <tr>\n",
       "      <th>9</th>\n",
       "      <td>region_southwest</td>\n",
       "      <td>0.018062</td>\n",
       "    </tr>\n",
       "    <tr>\n",
       "      <th>7</th>\n",
       "      <td>region_northeast</td>\n",
       "      <td>0.015777</td>\n",
       "    </tr>\n",
       "    <tr>\n",
       "      <th>10</th>\n",
       "      <td>region_territory</td>\n",
       "      <td>0.002848</td>\n",
       "    </tr>\n",
       "    <tr>\n",
       "      <th>6</th>\n",
       "      <td>region_non_mainland</td>\n",
       "      <td>0.002165</td>\n",
       "    </tr>\n",
       "  </tbody>\n",
       "</table>\n",
       "</div>"
      ],
      "text/plain": [
       "               Features  Importance Score\n",
       "0                   age          0.663249\n",
       "3                   vas          0.048745\n",
       "13       v2m_republican          0.045821\n",
       "12      v2m_independent          0.040454\n",
       "5           gender_Male          0.038386\n",
       "1                   vag          0.036325\n",
       "2                   val          0.026142\n",
       "11          region_west          0.023475\n",
       "8      region_southeast          0.020486\n",
       "4                   vaq          0.018066\n",
       "9      region_southwest          0.018062\n",
       "7      region_northeast          0.015777\n",
       "10     region_territory          0.002848\n",
       "6   region_non_mainland          0.002165"
      ]
     },
     "execution_count": 143,
     "metadata": {},
     "output_type": "execute_result"
    }
   ],
   "source": [
    "features3 = X3.columns\n",
    "feature_importances3 = best_model3.feature_importances_\n",
    "features_df3 = pd.DataFrame({'Features': features3, 'Importance Score': feature_importances3})\n",
    "features_df3.sort_values('Importance Score', inplace=True, ascending=False)\n",
    "features_df3"
   ]
  },
  {
   "cell_type": "markdown",
   "metadata": {},
   "source": [
    "##### Removing esp_group resulted in worse performance than including it"
   ]
  },
  {
   "cell_type": "code",
   "execution_count": 144,
   "metadata": {
    "collapsed": false
   },
   "outputs": [
    {
     "data": {
      "image/png": "[encoded data removed]",
      "text/plain": [
       "<matplotlib.figure.Figure at 0x115fb99d0>"
      ]
     },
     "metadata": {},
     "output_type": "display_data"
    }
   ],
   "source": [
    "draw_learning_curve(best_model3, X3_train, y3_train, scoring='f1', cv=cv);"
   ]
  },
  {
   "cell_type": "markdown",
   "metadata": {},
   "source": [
    "Learning curve is showing high bias and underfitting"
   ]
  },
  {
   "cell_type": "markdown",
   "metadata": {},
   "source": [
    "#### c. Dropping region and esp_group features"
   ]
  },
  {
   "cell_type": "code",
   "execution_count": 145,
   "metadata": {
    "collapsed": true
   },
   "outputs": [],
   "source": [
    "data4 = data.copy()"
   ]
  },
  {
   "cell_type": "code",
   "execution_count": 146,
   "metadata": {
    "collapsed": false
   },
   "outputs": [
    {
     "data": {
      "text/plain": [
       "Index([u'age', u'gender', u'state', u'esp', u'vag', u'val', u'vas', u'vaq',\n",
       "       u'v2m', u'CPAWallBuyer', u'region', u'esp_group'],\n",
       "      dtype='object')"
      ]
     },
     "execution_count": 146,
     "metadata": {},
     "output_type": "execute_result"
    }
   ],
   "source": [
    "data4.columns"
   ]
  },
  {
   "cell_type": "code",
   "execution_count": 147,
   "metadata": {
    "collapsed": true
   },
   "outputs": [],
   "source": [
    "a2 = pd.get_dummies(data4['gender'], prefix= 'gender', drop_first= True)\n",
    "data4 = data4.join(a2)"
   ]
  },
  {
   "cell_type": "code",
   "execution_count": 148,
   "metadata": {
    "collapsed": true
   },
   "outputs": [],
   "source": [
    "c2 = pd.get_dummies(data4['v2m'], prefix= 'v2m', drop_first= True)\n",
    "data4 = data4.join(c2)"
   ]
  },
  {
   "cell_type": "code",
   "execution_count": 149,
   "metadata": {
    "collapsed": false
   },
   "outputs": [],
   "source": [
    "data4 = data4.drop('esp', axis= 1)\n",
    "data4 = data4.drop('esp_group', axis= 1)\n",
    "data4 = data4.drop('state', axis= 1)\n",
    "data4 = data4.drop('region', axis= 1)\n",
    "data4 = data4.drop('v2m', axis= 1)\n",
    "data4 = data4.drop('gender', axis= 1)"
   ]
  },
  {
   "cell_type": "code",
   "execution_count": 150,
   "metadata": {
    "collapsed": true
   },
   "outputs": [],
   "source": [
    "X4= data4.drop('CPAWallBuyer', axis=1)\n",
    "y4= data4['CPAWallBuyer']"
   ]
  },
  {
   "cell_type": "code",
   "execution_count": 151,
   "metadata": {
    "collapsed": true
   },
   "outputs": [],
   "source": [
    "X4_train, X4_test, y4_train, y4_test = train_test_split(X4, y4)"
   ]
  },
  {
   "cell_type": "code",
   "execution_count": 152,
   "metadata": {
    "collapsed": true
   },
   "outputs": [],
   "source": [
    "cv = ShuffleSplit(n_splits=10, test_size=0.2, random_state=0)\n",
    "parameters = {'max_features': ('auto', 'sqrt', 'log2')}\n",
    "model4 = RandomForestClassifier()\n",
    "clf4 = GridSearchCV(model4, parameters, cv=cv)"
   ]
  },
  {
   "cell_type": "code",
   "execution_count": 153,
   "metadata": {
    "collapsed": false
   },
   "outputs": [
    {
     "data": {
      "text/plain": [
       "{'max_features': 'sqrt'}"
      ]
     },
     "execution_count": 153,
     "metadata": {},
     "output_type": "execute_result"
    }
   ],
   "source": [
    "clf4.fit(X4_train, y4_train)\n",
    "clf4.best_params_"
   ]
  },
  {
   "cell_type": "code",
   "execution_count": 154,
   "metadata": {
    "collapsed": true
   },
   "outputs": [],
   "source": [
    "best_model4 = clf4.best_estimator_"
   ]
  },
  {
   "cell_type": "code",
   "execution_count": 155,
   "metadata": {
    "collapsed": false
   },
   "outputs": [
    {
     "data": {
      "text/plain": [
       "RandomForestClassifier(bootstrap=True, class_weight=None, criterion='gini',\n",
       "            max_depth=None, max_features='sqrt', max_leaf_nodes=None,\n",
       "            min_impurity_split=1e-07, min_samples_leaf=1,\n",
       "            min_samples_split=2, min_weight_fraction_leaf=0.0,\n",
       "            n_estimators=10, n_jobs=1, oob_score=False, random_state=None,\n",
       "            verbose=0, warm_start=False)"
      ]
     },
     "execution_count": 155,
     "metadata": {},
     "output_type": "execute_result"
    }
   ],
   "source": [
    "best_model4.fit(X4_train, y4_train)"
   ]
  },
  {
   "cell_type": "code",
   "execution_count": 156,
   "metadata": {
    "collapsed": false
   },
   "outputs": [
    {
     "name": "stderr",
     "output_type": "stream",
     "text": [
      "/Users/otaveras/anaconda/lib/python2.7/site-packages/sklearn/metrics/classification.py:1113: UndefinedMetricWarning: F-score is ill-defined and being set to 0.0 due to no predicted samples.\n",
      "  'precision', 'predicted', average, warn_for)\n"
     ]
    },
    {
     "name": "stdout",
     "output_type": "stream",
     "text": [
      "CV accuracy [ 0.08108108  0.          0.02631579  0.          0.05333333  0.\n",
      "  0.02739726  0.07792208  0.          0.        ], Average accuracy 0.0266049542084\n"
     ]
    }
   ],
   "source": [
    "scores4 = cross_val_score(best_model4, X4_train, y4_train, cv=10, scoring= 'f1')\n",
    "print('CV accuracy {}, Average accuracy {}'.format(scores4, scores4.mean()))"
   ]
  },
  {
   "cell_type": "code",
   "execution_count": 157,
   "metadata": {
    "collapsed": false
   },
   "outputs": [
    {
     "data": {
      "text/plain": [
       "0.050919377652050915"
      ]
     },
     "execution_count": 157,
     "metadata": {},
     "output_type": "execute_result"
    }
   ],
   "source": [
    "y4_predict = best_model4.predict(X4_train)\n",
    "f1_score(y4_train, y4_predict)"
   ]
  },
  {
   "cell_type": "code",
   "execution_count": 158,
   "metadata": {
    "collapsed": false
   },
   "outputs": [
    {
     "data": {
      "text/plain": [
       "0.031496062992125991"
      ]
     },
     "execution_count": 158,
     "metadata": {},
     "output_type": "execute_result"
    }
   ],
   "source": [
    "y4_predict_test = best_model4.predict(X4_test)\n",
    "f1_score(y4_test, y4_predict_test)"
   ]
  },
  {
   "cell_type": "code",
   "execution_count": 159,
   "metadata": {
    "collapsed": false
   },
   "outputs": [
    {
     "data": {
      "text/html": [
       "<div>\n",
       "<table border=\"1\" class=\"dataframe\">\n",
       "  <thead>\n",
       "    <tr style=\"text-align: right;\">\n",
       "      <th></th>\n",
       "      <th>Features</th>\n",
       "      <th>Importance Score</th>\n",
       "    </tr>\n",
       "  </thead>\n",
       "  <tbody>\n",
       "    <tr>\n",
       "      <th>0</th>\n",
       "      <td>age</td>\n",
       "      <td>0.789376</td>\n",
       "    </tr>\n",
       "    <tr>\n",
       "      <th>3</th>\n",
       "      <td>vas</td>\n",
       "      <td>0.033208</td>\n",
       "    </tr>\n",
       "    <tr>\n",
       "      <th>1</th>\n",
       "      <td>vag</td>\n",
       "      <td>0.032766</td>\n",
       "    </tr>\n",
       "    <tr>\n",
       "      <th>4</th>\n",
       "      <td>vaq</td>\n",
       "      <td>0.032416</td>\n",
       "    </tr>\n",
       "    <tr>\n",
       "      <th>5</th>\n",
       "      <td>gender_Male</td>\n",
       "      <td>0.031909</td>\n",
       "    </tr>\n",
       "    <tr>\n",
       "      <th>2</th>\n",
       "      <td>val</td>\n",
       "      <td>0.031216</td>\n",
       "    </tr>\n",
       "    <tr>\n",
       "      <th>7</th>\n",
       "      <td>v2m_republican</td>\n",
       "      <td>0.025976</td>\n",
       "    </tr>\n",
       "    <tr>\n",
       "      <th>6</th>\n",
       "      <td>v2m_independent</td>\n",
       "      <td>0.023133</td>\n",
       "    </tr>\n",
       "  </tbody>\n",
       "</table>\n",
       "</div>"
      ],
      "text/plain": [
       "          Features  Importance Score\n",
       "0              age          0.789376\n",
       "3              vas          0.033208\n",
       "1              vag          0.032766\n",
       "4              vaq          0.032416\n",
       "5      gender_Male          0.031909\n",
       "2              val          0.031216\n",
       "7   v2m_republican          0.025976\n",
       "6  v2m_independent          0.023133"
      ]
     },
     "execution_count": 159,
     "metadata": {},
     "output_type": "execute_result"
    }
   ],
   "source": [
    "features4 = X4.columns\n",
    "feature_importances4 = best_model4.feature_importances_\n",
    "features_df4 = pd.DataFrame({'Features': features4, 'Importance Score': feature_importances4})\n",
    "features_df4.sort_values('Importance Score', inplace=True, ascending=False)\n",
    "features_df4"
   ]
  },
  {
   "cell_type": "markdown",
   "metadata": {},
   "source": [
    "##### Dropping both region and esp_group resulted in even worse performance"
   ]
  },
  {
   "cell_type": "code",
   "execution_count": 180,
   "metadata": {
    "collapsed": false
   },
   "outputs": [
    {
     "data": {
      "image/png": "[encoded data removed]",
      "text/plain": [
       "<matplotlib.figure.Figure at 0x115360750>"
      ]
     },
     "metadata": {},
     "output_type": "display_data"
    }
   ],
   "source": [
    "#Dropping region and esp_group\n",
    "draw_learning_curve(best_model4, X4_train, y4_train, scoring='f1', cv=cv);"
   ]
  },
  {
   "cell_type": "markdown",
   "metadata": {},
   "source": [
    "Learning curves are still showing high bias; simplest way to deal with bias is to get new features"
   ]
  },
  {
   "cell_type": "markdown",
   "metadata": {
    "collapsed": true
   },
   "source": [
    "#### d. Dropping region, esp_group, and v2m"
   ]
  },
  {
   "cell_type": "code",
   "execution_count": 161,
   "metadata": {
    "collapsed": true
   },
   "outputs": [],
   "source": [
    "data5 = data.copy()"
   ]
  },
  {
   "cell_type": "code",
   "execution_count": 193,
   "metadata": {
    "collapsed": true
   },
   "outputs": [],
   "source": [
    "a5 = pd.get_dummies(data5['gender'], prefix= 'gender', drop_first= True)\n",
    "data5 = data5.join(a5)"
   ]
  },
  {
   "cell_type": "code",
   "execution_count": 162,
   "metadata": {
    "collapsed": true
   },
   "outputs": [],
   "source": [
    "data5 = data5.drop('esp', axis= 1)\n",
    "data5 = data5.drop('esp_group', axis= 1)\n",
    "data5 = data5.drop('state', axis= 1)\n",
    "data5 = data5.drop('region', axis= 1)\n",
    "data5 = data5.drop('v2m', axis= 1)\n",
    "data5 = data5.drop('gender', axis= 1)"
   ]
  },
  {
   "cell_type": "code",
   "execution_count": 163,
   "metadata": {
    "collapsed": true
   },
   "outputs": [],
   "source": [
    "X5= data5.drop('CPAWallBuyer', axis=1)\n",
    "y5= data5['CPAWallBuyer']"
   ]
  },
  {
   "cell_type": "code",
   "execution_count": 164,
   "metadata": {
    "collapsed": true
   },
   "outputs": [],
   "source": [
    "X5_train, X5_test, y5_train, y5_test = train_test_split(X5, y5)"
   ]
  },
  {
   "cell_type": "code",
   "execution_count": 165,
   "metadata": {
    "collapsed": true
   },
   "outputs": [],
   "source": [
    "cv = ShuffleSplit(n_splits=10, test_size=0.2, random_state=0)\n",
    "parameters = {'max_features': ('auto', 'sqrt', 'log2')}\n",
    "model5 = RandomForestClassifier()\n",
    "clf5 = GridSearchCV(model5, parameters, cv=cv)"
   ]
  },
  {
   "cell_type": "code",
   "execution_count": 166,
   "metadata": {
    "collapsed": false
   },
   "outputs": [
    {
     "data": {
      "text/plain": [
       "{'max_features': 'auto'}"
      ]
     },
     "execution_count": 166,
     "metadata": {},
     "output_type": "execute_result"
    }
   ],
   "source": [
    "clf5.fit(X5_train, y5_train)\n",
    "clf5.best_params_"
   ]
  },
  {
   "cell_type": "code",
   "execution_count": 167,
   "metadata": {
    "collapsed": true
   },
   "outputs": [],
   "source": [
    "best_model5 = clf5.best_estimator_"
   ]
  },
  {
   "cell_type": "code",
   "execution_count": 168,
   "metadata": {
    "collapsed": false
   },
   "outputs": [
    {
     "data": {
      "text/plain": [
       "RandomForestClassifier(bootstrap=True, class_weight=None, criterion='gini',\n",
       "            max_depth=None, max_features='auto', max_leaf_nodes=None,\n",
       "            min_impurity_split=1e-07, min_samples_leaf=1,\n",
       "            min_samples_split=2, min_weight_fraction_leaf=0.0,\n",
       "            n_estimators=10, n_jobs=1, oob_score=False, random_state=None,\n",
       "            verbose=0, warm_start=False)"
      ]
     },
     "execution_count": 168,
     "metadata": {},
     "output_type": "execute_result"
    }
   ],
   "source": [
    "best_model5.fit(X5_train, y5_train)"
   ]
  },
  {
   "cell_type": "code",
   "execution_count": 169,
   "metadata": {
    "collapsed": false
   },
   "outputs": [
    {
     "name": "stdout",
     "output_type": "stream",
     "text": [
      "CV accuracy [ 0.  0.  0.  0.  0.  0.  0.  0.  0.  0.], Average accuracy 0.0\n"
     ]
    }
   ],
   "source": [
    "scores5 = cross_val_score(best_model5, X5_train, y5_train, cv=10, scoring= 'f1')\n",
    "print('CV accuracy {}, Average accuracy {}'.format(scores5, scores5.mean()))"
   ]
  },
  {
   "cell_type": "code",
   "execution_count": 170,
   "metadata": {
    "collapsed": false
   },
   "outputs": [
    {
     "data": {
      "text/plain": [
       "0.0028248587570621473"
      ]
     },
     "execution_count": 170,
     "metadata": {},
     "output_type": "execute_result"
    }
   ],
   "source": [
    "y5_predict = best_model5.predict(X5_train)\n",
    "f1_score(y5_train, y5_predict)"
   ]
  },
  {
   "cell_type": "code",
   "execution_count": 171,
   "metadata": {
    "collapsed": false
   },
   "outputs": [
    {
     "data": {
      "text/plain": [
       "0.0"
      ]
     },
     "execution_count": 171,
     "metadata": {},
     "output_type": "execute_result"
    }
   ],
   "source": [
    "y5_predict_test = best_model5.predict(X5_test)\n",
    "f1_score(y5_test, y5_predict_test)"
   ]
  },
  {
   "cell_type": "code",
   "execution_count": 172,
   "metadata": {
    "collapsed": false
   },
   "outputs": [
    {
     "data": {
      "text/html": [
       "<div>\n",
       "<table border=\"1\" class=\"dataframe\">\n",
       "  <thead>\n",
       "    <tr style=\"text-align: right;\">\n",
       "      <th></th>\n",
       "      <th>Features</th>\n",
       "      <th>Importance Score</th>\n",
       "    </tr>\n",
       "  </thead>\n",
       "  <tbody>\n",
       "    <tr>\n",
       "      <th>0</th>\n",
       "      <td>age</td>\n",
       "      <td>0.850276</td>\n",
       "    </tr>\n",
       "    <tr>\n",
       "      <th>3</th>\n",
       "      <td>vas</td>\n",
       "      <td>0.045091</td>\n",
       "    </tr>\n",
       "    <tr>\n",
       "      <th>4</th>\n",
       "      <td>vaq</td>\n",
       "      <td>0.042107</td>\n",
       "    </tr>\n",
       "    <tr>\n",
       "      <th>2</th>\n",
       "      <td>val</td>\n",
       "      <td>0.039252</td>\n",
       "    </tr>\n",
       "    <tr>\n",
       "      <th>1</th>\n",
       "      <td>vag</td>\n",
       "      <td>0.023274</td>\n",
       "    </tr>\n",
       "  </tbody>\n",
       "</table>\n",
       "</div>"
      ],
      "text/plain": [
       "  Features  Importance Score\n",
       "0      age          0.850276\n",
       "3      vas          0.045091\n",
       "4      vaq          0.042107\n",
       "2      val          0.039252\n",
       "1      vag          0.023274"
      ]
     },
     "execution_count": 172,
     "metadata": {},
     "output_type": "execute_result"
    }
   ],
   "source": [
    "features5 = X5.columns\n",
    "feature_importances5 = best_model5.feature_importances_\n",
    "features_df5 = pd.DataFrame({'Features': features5, 'Importance Score': feature_importances5})\n",
    "features_df5.sort_values('Importance Score', inplace=True, ascending=False)\n",
    "features_df5"
   ]
  },
  {
   "cell_type": "code",
   "execution_count": 173,
   "metadata": {
    "collapsed": false,
    "scrolled": true
   },
   "outputs": [
    {
     "data": {
      "image/png": "[encoded data removed]",
      "text/plain": [
       "<matplotlib.figure.Figure at 0x115fc7ad0>"
      ]
     },
     "metadata": {},
     "output_type": "display_data"
    }
   ],
   "source": [
    "#Dropping region and esp_group\n",
    "draw_learning_curve(best_model5, X5_train, y5_train, scoring='f1', cv=cv);"
   ]
  },
  {
   "cell_type": "markdown",
   "metadata": {},
   "source": [
    "##### Dropping region, esp_group, and v2m resulted in a model incapable of making a prediction"
   ]
  },
  {
   "cell_type": "markdown",
   "metadata": {},
   "source": [
    "#### e. Modelling Summary"
   ]
  },
  {
   "cell_type": "markdown",
   "metadata": {},
   "source": [
    "The random forest model with all the features (kitchen sink) did not beat the dummy model that would achieve 98.5% accuracy by predicting that every user will not be a buyer. The kitchen sink model, however, was the highest performing model with an f1 score of ~0.185 on the test dataset. After creating learning curves, I learned that the model had high bias and was suffering from underfitting. The simplest way to combat high bias is to get new features- perhaps median household income and employment status. My company's database has user responses to employment status. As for MHI, I can obtain the zipcode of each user and then use U.S. Census data to acquire Median Household Income by zip code."
   ]
  },
  {
   "cell_type": "code",
   "execution_count": null,
   "metadata": {
    "collapsed": true
   },
   "outputs": [],
   "source": []
  }
 ],
 "metadata": {
  "anaconda-cloud": {},
  "kernelspec": {
   "display_name": "Python [conda root]",
   "language": "python",
   "name": "conda-root-py"
  },
  "language_info": {
   "codemirror_mode": {
    "name": "ipython",
    "version": 2
   },
   "file_extension": ".py",
   "mimetype": "text/x-python",
   "name": "python",
   "nbconvert_exporter": "python",
   "pygments_lexer": "ipython2",
   "version": "2.7.12"
  }
 },
 "nbformat": 4,
 "nbformat_minor": 1
}
