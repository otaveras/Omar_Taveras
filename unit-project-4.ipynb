{
 "cells": [
  {
   "cell_type": "markdown",
   "metadata": {},
   "source": [
    "# DS-NYC-45 | Unit Project 4: Notebook with Executive Summary\n",
    "\n",
    "In this project, you will summarize and present your analysis from Unit Projects 1-3."
   ]
  },
  {
   "cell_type": "markdown",
   "metadata": {},
   "source": [
    "> ## Question 1.  Introduction\n",
    "> Write a problem statement for this project."
   ]
  },
  {
   "cell_type": "markdown",
   "metadata": {},
   "source": [
    "Using UCLA's graduate school admissions data, determine the influence gre score, gpa score, and alma mater prestige has on admission into UCLA's graduate school."
   ]
  },
  {
   "cell_type": "markdown",
   "metadata": {},
   "source": [
    "> ## Question 2.  Dataset\n",
    "> Write up a description of your data and any cleaning that was completed."
   ]
  },
  {
   "cell_type": "markdown",
   "metadata": {},
   "source": [
    "The data has three predictors gre, gpa, and prestige, and one dependent variable admit. Both gre and gpa are continuous variables while admit and prestige are categorical. Admit is a binary variable that denotes whether an applicant was accpeted in UCLA's graduate school or not (accepted = 1, not accepted = 0). gre is the score that an applicant scored on the Graduate Record Examination (range 200-800, mean of ~588), gpa is that applicant's Grade Point Average (max of 4.0, mean of ~3.39), and prestige is the prestige of the applicant's alma mater with 1 as the highest tier and 4 as the lowest tier. gpa is normally distributed while gre is left-skewed; admit and prestige are categorical values so they have Bernoulli distributions. The cleaning required for this dataset was removing the null values, and, for modelling purposes, creating dummy variables from prestige.  "
   ]
  },
  {
   "cell_type": "markdown",
   "metadata": {
    "collapsed": true
   },
   "source": [
    "> ## Question 3.  Demo\n",
    "> Provide a table that explains the data by admission status."
   ]
  },
  {
   "cell_type": "code",
   "execution_count": 2,
   "metadata": {
    "collapsed": true
   },
   "outputs": [],
   "source": [
    "import os\n",
    "import numpy as np\n",
    "import pandas as pd\n",
    "import matplotlib.pyplot as plt\n",
    "import seaborn as sns\n",
    "%matplotlib inline"
   ]
  },
  {
   "cell_type": "code",
   "execution_count": 3,
   "metadata": {
    "collapsed": true
   },
   "outputs": [],
   "source": [
    "data = pd.read_csv(os.path.join('..', 'DAT-NYC-45','unit-project', 'dataset', 'ucla-admissions.csv'))"
   ]
  },
  {
   "cell_type": "code",
   "execution_count": 4,
   "metadata": {
    "collapsed": false
   },
   "outputs": [],
   "source": [
    "admit_sum = data.groupby(['admit', 'gre', 'gpa', 'prestige'])"
   ]
  },
  {
   "cell_type": "code",
   "execution_count": 7,
   "metadata": {
    "collapsed": false,
    "scrolled": false
   },
   "outputs": [
    {
     "data": {
      "text/plain": [
       "admit  gre    gpa   prestige  admit\n",
       "0      220.0  2.83  3.0       0        1\n",
       "       300.0  2.92  4.0       0        1\n",
       "              3.01  3.0       0        1\n",
       "       340.0  2.90  1.0       0        1\n",
       "              2.92  3.0       0        1\n",
       "              3.15  3.0       0        1\n",
       "       360.0  2.56  3.0       0        1\n",
       "              3.00  3.0       0        1\n",
       "              3.14  1.0       0        1\n",
       "              3.27  3.0       0        1\n",
       "       380.0  2.91  4.0       0        1\n",
       "              2.94  3.0       0        1\n",
       "              3.33  4.0       0        1\n",
       "              3.34  3.0       0        1\n",
       "              3.38  2.0       0        1\n",
       "              3.43  3.0       0        1\n",
       "              3.59  4.0       0        1\n",
       "              3.61  3.0       0        1\n",
       "       400.0  2.93  3.0       0        1\n",
       "              3.05  2.0       0        1\n",
       "              3.08  2.0       0        1\n",
       "              3.31  3.0       0        1\n",
       "              3.35  3.0       0        1\n",
       "              3.36  2.0       0        1\n",
       "              3.38  2.0       0        1\n",
       "              3.51  3.0       0        1\n",
       "              3.65  2.0       0        1\n",
       "       420.0  2.26  4.0       0        1\n",
       "              2.67  3.0       0        1\n",
       "              2.69  2.0       0        1\n",
       "                                      ..\n",
       "1      680.0  3.98  2.0       1        1\n",
       "       700.0  3.52  4.0       1        1\n",
       "              3.56  1.0       1        1\n",
       "                    2.0       1        1\n",
       "              4.00  1.0       1        2\n",
       "       720.0  3.42  2.0       1        1\n",
       "              3.50  3.0       1        1\n",
       "              3.64  1.0       1        1\n",
       "       740.0  2.97  2.0       1        1\n",
       "              3.52  4.0       1        1\n",
       "              3.86  2.0       1        1\n",
       "              4.00  3.0       1        1\n",
       "       760.0  2.81  1.0       1        1\n",
       "              3.00  2.0       1        1\n",
       "              3.35  2.0       1        1\n",
       "              4.00  1.0       1        1\n",
       "       780.0  3.22  2.0       1        1\n",
       "              3.63  4.0       1        1\n",
       "              3.80  3.0       1        1\n",
       "              4.00  2.0       1        1\n",
       "       800.0  3.05  2.0       1        1\n",
       "              3.22  1.0       1        1\n",
       "              3.43  2.0       1        1\n",
       "              3.53  1.0       1        1\n",
       "              3.66  1.0       1        1\n",
       "              3.70  1.0       1        1\n",
       "              3.74  1.0       1        1\n",
       "              4.00  1.0       1        1\n",
       "                    2.0       1        1\n",
       "                    3.0       1        2\n",
       "Name: admit, dtype: int64"
      ]
     },
     "execution_count": 7,
     "metadata": {},
     "output_type": "execute_result"
    }
   ],
   "source": [
    "admit_sum['admit'].value_counts()"
   ]
  },
  {
   "cell_type": "markdown",
   "metadata": {},
   "source": [
    "> ## Question 4. Methods\n",
    "> Write up the methods used in your analysis."
   ]
  },
  {
   "cell_type": "markdown",
   "metadata": {},
   "source": [
    "First, dropped \"na\" observations from the dataset- did not want those null values affecting exploratory analysis or modelling. Before fitting the logistic regression models, I one hot encoded the feature \"prestige\", thus creating three more binary variables. One-hot encoded 'prestige' to make the feature machine legible; many learning algorithms either learn a single weight per feature, or they use distances between samples (for example, linear models such as logistic regression). If the observations within 'prestige' are not made into binary variables, incorrect distances and weights will be applied by our algorithm. Also, I dropped one of the binary variables created from one-hot encoding to avoid multi-collinearity between dummy variables. \n",
    "\n",
    "Used Logistic regression from Stats Models and Scikit learn in order to be able to classify potential future applicants as accepted or not accepted. Both models use maximum likelihood estimation."
   ]
  },
  {
   "cell_type": "markdown",
   "metadata": {},
   "source": [
    "> ## Question 5. Results\n",
    "> Write up your results."
   ]
  },
  {
   "cell_type": "markdown",
   "metadata": {},
   "source": [
    "Answer: Stats Models calculated the following log coefficients: gre = 0.0014, gpa = -0.1323, prestige of 2.0 = -0.9562, prestige of 3.0 = -1.5375, and prestige of 4.0 = -1.8699.\n",
    "\n",
    "These coefficients translate to odds ratios of: gre = 1.001368, gpa = 0.876073, prestige of 2.0 = 0.384342, prestige of 3.0 = 0.214918, and prestige of 4.0 = 0.154135.\n",
    "\n",
    "Thus, an increase of 1 for gre results in about an 100% increase to the odds of admittance. An increase of 1 for gpa results in about an 88% reduction to the odds of admittance. And regarding prestige, odds of an applicant from a prestige = 2.0 undergraduate school to be admitted into UCLA are 61% lower than an applicant from prestige = 1 undergraduate school; for prestige = 3.0 applicants the odds are 78% lower than an applicant from prestige = 1 undergraduate school; for prestige = 4.0 applicants the odds are 84% lower than an applicant from prestige = 1 undergraduate school."
   ]
  },
  {
   "cell_type": "markdown",
   "metadata": {},
   "source": [
    "> ## Question 6. Visuals\n",
    "> Provide a table or visualization of these results."
   ]
  },
  {
   "cell_type": "markdown",
   "metadata": {},
   "source": [
    "Feature | coeff | Odds Ratio\n",
    "---| ---| ---\n",
    "gre |  0.0014 | 1.001368\n",
    "gpa | -0.1323| 0.876073\n",
    "prestige_2.0 | -0.9562 | 0.384342\n",
    "prestige_3.0 | -1.5375 | 0.214918\n",
    "prestige_4.0 | -1.8699 | 0.154135\n"
   ]
  },
  {
   "cell_type": "markdown",
   "metadata": {},
   "source": [
    "> ## Question 7.  Discussion\n",
    "> Write up your discussion and future steps."
   ]
  },
  {
   "cell_type": "markdown",
   "metadata": {},
   "source": [
    "Answer: Overall, it seems like gre is the most important feature when determining the likelihood of whether an applicant will be admitted to UCLA's graduate school.  While the results give us insight to the likelihood that an applicant will get admitted, we have yet to evaluate the model itself. Next step would be to evaluate the accuracy of the model on a training set and then a test set. After judging if the accuracy results are acceptable, then the model can be used for production. If the accuracy results are not acceptable, then further feature engineering might be necessary, or it might be necessary to introduce new features. Without scoring the model, it is difficult to understand how meaningful the log coefficients and Odds Ratios are. \n",
    "\n",
    "The biggest risk with the data and the model is that there is no stated timeframe. The values of the variables are affected by the timeframe of the data, especially since past admission is not necessarily indicative of future admission. Also, the prestige score variable brings inherent risk. Assigning prestige is subjective, so it would be best if we had the rubric that was used to assign prestige score. Finally, one must question if all GPAs are created equal. Is there a difference in GPA mean/max/min amongst applicants across different Majors and/or different colleges?"
   ]
  },
  {
   "cell_type": "code",
   "execution_count": null,
   "metadata": {
    "collapsed": true
   },
   "outputs": [],
   "source": []
  }
 ],
 "metadata": {
  "anaconda-cloud": {},
  "kernelspec": {
   "display_name": "Python [conda root]",
   "language": "python",
   "name": "conda-root-py"
  },
  "language_info": {
   "codemirror_mode": {
    "name": "ipython",
    "version": 2
   },
   "file_extension": ".py",
   "mimetype": "text/x-python",
   "name": "python",
   "nbconvert_exporter": "python",
   "pygments_lexer": "ipython2",
   "version": "2.7.12"
  }
 },
 "nbformat": 4,
 "nbformat_minor": 0
}
