{
 "cells": [
  {
   "cell_type": "code",
   "execution_count": 1,
   "metadata": {
    "collapsed": true
   },
   "outputs": [],
   "source": [
    "import os\n",
    "import numpy as np\n",
    "import pandas as pd\n",
    "import matplotlib.pyplot as plt\n",
    "%matplotlib inline\n",
    "import seaborn as sns"
   ]
  },
  {
   "cell_type": "code",
   "execution_count": 2,
   "metadata": {
    "collapsed": false
   },
   "outputs": [],
   "source": [
    "data = pd.read_csv('CPAWallBuyers_Q3_2016.csv')"
   ]
  },
  {
   "cell_type": "markdown",
   "metadata": {},
   "source": [
    "Variable | Description | Type of Variable\n",
    "---| ---| ---\n",
    "age | integer 13-116; 13 lowest and 116 highest | continuous\n",
    "gender| male, female| categorical\n",
    "state | denotes state of home address | categorical\n",
    "esp | email service provider | categorical\n",
    "vag | “64% of Americans own their homes. Do you own or rent yours?”; own = TRUE, rent = FALSE | categorical\n",
    "val | \"Do you have a car?\"; yes = TRUE, no = FALSE| categorical\n",
    "vas | “Do you or a loved one have Arthritis?”; yes = TRUE, no = FALSE, arthritis = TRUE| categorical\n",
    "vaq | “Do you or a loved one have Diabetes?”; yes = TRUE, no = FALSE, diabetes = TRUE | categorical\n",
    "v2m | “The 2016 Presidential Election is over. How do you identify politically?”; democrat, republican, or independent | categorical\n",
    "CPAWallBuyer | Identifies buyers and non-buyers on CPA Wall; yes or no | categorical\n",
    "count(0) | integer count of users that meet observations across other columns in the same row; 1 - 15 | continuous "
   ]
  },
  {
   "cell_type": "code",
   "execution_count": 3,
   "metadata": {
    "collapsed": false
   },
   "outputs": [
    {
     "data": {
      "text/html": [
       "<div>\n",
       "<table border=\"1\" class=\"dataframe\">\n",
       "  <thead>\n",
       "    <tr style=\"text-align: right;\">\n",
       "      <th></th>\n",
       "      <th>age</th>\n",
       "      <th>gender</th>\n",
       "      <th>state</th>\n",
       "      <th>esp</th>\n",
       "      <th>vag</th>\n",
       "      <th>val</th>\n",
       "      <th>vas</th>\n",
       "      <th>vaq</th>\n",
       "      <th>v2m</th>\n",
       "      <th>CPAWallBuyer</th>\n",
       "      <th>count(0)</th>\n",
       "    </tr>\n",
       "  </thead>\n",
       "  <tbody>\n",
       "    <tr>\n",
       "      <th>0</th>\n",
       "      <td>13</td>\n",
       "      <td>Male</td>\n",
       "      <td>DE</td>\n",
       "      <td>gmail.com</td>\n",
       "      <td>rent</td>\n",
       "      <td>no</td>\n",
       "      <td>no</td>\n",
       "      <td>no</td>\n",
       "      <td>independent</td>\n",
       "      <td>No</td>\n",
       "      <td>1.0</td>\n",
       "    </tr>\n",
       "    <tr>\n",
       "      <th>1</th>\n",
       "      <td>13</td>\n",
       "      <td>Male</td>\n",
       "      <td>MD</td>\n",
       "      <td>yahoo.com</td>\n",
       "      <td>rent</td>\n",
       "      <td>no</td>\n",
       "      <td>no</td>\n",
       "      <td>no</td>\n",
       "      <td>republican</td>\n",
       "      <td>No</td>\n",
       "      <td>1.0</td>\n",
       "    </tr>\n",
       "    <tr>\n",
       "      <th>2</th>\n",
       "      <td>15</td>\n",
       "      <td>Female</td>\n",
       "      <td>MN</td>\n",
       "      <td>gmail.com</td>\n",
       "      <td>rent</td>\n",
       "      <td>yes</td>\n",
       "      <td>no</td>\n",
       "      <td>no</td>\n",
       "      <td>democrat</td>\n",
       "      <td>No</td>\n",
       "      <td>1.0</td>\n",
       "    </tr>\n",
       "    <tr>\n",
       "      <th>3</th>\n",
       "      <td>15</td>\n",
       "      <td>Male</td>\n",
       "      <td>LA</td>\n",
       "      <td>gmail.com</td>\n",
       "      <td>rent</td>\n",
       "      <td>no</td>\n",
       "      <td>no</td>\n",
       "      <td>no</td>\n",
       "      <td>republican</td>\n",
       "      <td>No</td>\n",
       "      <td>1.0</td>\n",
       "    </tr>\n",
       "    <tr>\n",
       "      <th>4</th>\n",
       "      <td>16</td>\n",
       "      <td>Female</td>\n",
       "      <td>MD</td>\n",
       "      <td>verizon.net</td>\n",
       "      <td>own</td>\n",
       "      <td>TRUE</td>\n",
       "      <td>FALSE</td>\n",
       "      <td>yes</td>\n",
       "      <td>democrat</td>\n",
       "      <td>No</td>\n",
       "      <td>1.0</td>\n",
       "    </tr>\n",
       "  </tbody>\n",
       "</table>\n",
       "</div>"
      ],
      "text/plain": [
       "  age  gender state          esp   vag   val    vas  vaq          v2m  \\\n",
       "0  13    Male    DE    gmail.com  rent    no     no   no  independent   \n",
       "1  13    Male    MD    yahoo.com  rent    no     no   no   republican   \n",
       "2  15  Female    MN    gmail.com  rent   yes     no   no     democrat   \n",
       "3  15    Male    LA    gmail.com  rent    no     no   no   republican   \n",
       "4  16  Female    MD  verizon.net   own  TRUE  FALSE  yes     democrat   \n",
       "\n",
       "  CPAWallBuyer  count(0)  \n",
       "0           No       1.0  \n",
       "1           No       1.0  \n",
       "2           No       1.0  \n",
       "3           No       1.0  \n",
       "4           No       1.0  "
      ]
     },
     "execution_count": 3,
     "metadata": {},
     "output_type": "execute_result"
    }
   ],
   "source": [
    "data.head()"
   ]
  },
  {
   "cell_type": "code",
   "execution_count": 4,
   "metadata": {
    "collapsed": false
   },
   "outputs": [
    {
     "name": "stdout",
     "output_type": "stream",
     "text": [
      "<class 'pandas.core.frame.DataFrame'>\n",
      "RangeIndex: 54685 entries, 0 to 54684\n",
      "Data columns (total 11 columns):\n",
      "age             54685 non-null object\n",
      "gender          54685 non-null object\n",
      "state           54679 non-null object\n",
      "esp             54685 non-null object\n",
      "vag             54358 non-null object\n",
      "val             54335 non-null object\n",
      "vas             51828 non-null object\n",
      "vaq             53943 non-null object\n",
      "v2m             51951 non-null object\n",
      "CPAWallBuyer    54682 non-null object\n",
      "count(0)        54682 non-null float64\n",
      "dtypes: float64(1), object(10)\n",
      "memory usage: 4.6+ MB\n"
     ]
    }
   ],
   "source": [
    "data.info()"
   ]
  },
  {
   "cell_type": "code",
   "execution_count": 5,
   "metadata": {
    "collapsed": false
   },
   "outputs": [],
   "source": [
    "data.rename(columns={'count(0)':'count'}, inplace= True)"
   ]
  },
  {
   "cell_type": "code",
   "execution_count": 6,
   "metadata": {
    "collapsed": false
   },
   "outputs": [],
   "source": [
    "data = data.dropna()"
   ]
  },
  {
   "cell_type": "code",
   "execution_count": 7,
   "metadata": {
    "collapsed": false
   },
   "outputs": [
    {
     "name": "stdout",
     "output_type": "stream",
     "text": [
      "<class 'pandas.core.frame.DataFrame'>\n",
      "Int64Index: 50086 entries, 0 to 54683\n",
      "Data columns (total 11 columns):\n",
      "age             50086 non-null object\n",
      "gender          50086 non-null object\n",
      "state           50086 non-null object\n",
      "esp             50086 non-null object\n",
      "vag             50086 non-null object\n",
      "val             50086 non-null object\n",
      "vas             50086 non-null object\n",
      "vaq             50086 non-null object\n",
      "v2m             50086 non-null object\n",
      "CPAWallBuyer    50086 non-null object\n",
      "count           50086 non-null float64\n",
      "dtypes: float64(1), object(10)\n",
      "memory usage: 4.6+ MB\n"
     ]
    }
   ],
   "source": [
    "data.info()"
   ]
  },
  {
   "cell_type": "code",
   "execution_count": 8,
   "metadata": {
    "collapsed": false
   },
   "outputs": [],
   "source": [
    "data['age'] = data['age'].astype('int') # changing dtype"
   ]
  },
  {
   "cell_type": "code",
   "execution_count": 9,
   "metadata": {
    "collapsed": false
   },
   "outputs": [],
   "source": [
    "data['gender'] = pd.Categorical(data['gender'])\n",
    "data['state'] = pd.Categorical(data['state'])\n",
    "data['esp'] = pd.Categorical(data['esp'])\n",
    "data['vag'] = pd.Categorical(data['vag'])\n",
    "data['val'] = pd.Categorical(data['val'])\n",
    "data['vas'] = pd.Categorical(data['vas'])\n",
    "data['vaq'] = pd.Categorical(data['vaq'])\n",
    "data['v2m'] = pd.Categorical(data['v2m'])\n",
    "data['CPAWallBuyer'] = pd.Categorical(data['CPAWallBuyer'])"
   ]
  },
  {
   "cell_type": "code",
   "execution_count": 10,
   "metadata": {
    "collapsed": false
   },
   "outputs": [
    {
     "data": {
      "text/plain": [
       "age                int64\n",
       "gender          category\n",
       "state           category\n",
       "esp             category\n",
       "vag             category\n",
       "val             category\n",
       "vas             category\n",
       "vaq             category\n",
       "v2m             category\n",
       "CPAWallBuyer    category\n",
       "count            float64\n",
       "dtype: object"
      ]
     },
     "execution_count": 10,
     "metadata": {},
     "output_type": "execute_result"
    }
   ],
   "source": [
    "data.dtypes"
   ]
  },
  {
   "cell_type": "code",
   "execution_count": 11,
   "metadata": {
    "collapsed": false
   },
   "outputs": [],
   "source": [
    "states = data.groupby(['state'])"
   ]
  },
  {
   "cell_type": "code",
   "execution_count": 12,
   "metadata": {
    "collapsed": false
   },
   "outputs": [
    {
     "data": {
      "text/plain": [
       "state       state     \n",
       "TX          TX            3905\n",
       "CA          CA            3561\n",
       "FL          FL            3206\n",
       "NY          NY            2363\n",
       "PA          PA            2023\n",
       "GA          GA            2010\n",
       "OH          OH            1955\n",
       "IL          IL            1900\n",
       "NC          NC            1772\n",
       "MI          MI            1671\n",
       "TN          TN            1346\n",
       "AL          AL            1300\n",
       "MO          MO            1245\n",
       "VA          VA            1243\n",
       "IN          IN            1232\n",
       "LA          LA            1208\n",
       "NJ          NJ            1128\n",
       "SC          SC            1075\n",
       "AZ          AZ             961\n",
       "MD          MD             937\n",
       "KY          KY             917\n",
       "MS          MS             914\n",
       "WI          WI             890\n",
       "OK          OK             858\n",
       "MA          MA             855\n",
       "WA          WA             823\n",
       "AR          AR             774\n",
       "CO          CO             751\n",
       "MN          MN             721\n",
       "CT          CT             547\n",
       "                          ... \n",
       "Missouri    Missouri         4\n",
       "Kentucky    Kentucky         3\n",
       "Pennsylvan  Pennsylvan       3\n",
       "Louisiana   Louisiana        3\n",
       "Virginia    Virginia         3\n",
       "Tennessee   Tennessee        3\n",
       "New Jersey  New Jersey       2\n",
       "Kansas      Kansas           2\n",
       "Minnesota   Minnesota        2\n",
       "Alabama     Alabama          2\n",
       "AP          AP               2\n",
       "Connecticu  Connecticu       2\n",
       "South Dako  South Dako       1\n",
       "Oregon      Oregon           1\n",
       "WL          WL               1\n",
       "Wisconsin   Wisconsin        1\n",
       "5           5                1\n",
       "Nevada      Nevada           1\n",
       "Florida     Florida          1\n",
       "GU          GU               1\n",
       "Georgia     Georgia          1\n",
       "Mississipp  Mississipp       1\n",
       "Michigan    Michigan         1\n",
       "[state]     [state]          1\n",
       "Maryland    Maryland         1\n",
       "Idaho       Idaho            1\n",
       "Illinois    Illinois         1\n",
       "Indiana     Indiana          1\n",
       "MISSING     MISSING          1\n",
       "Massachuse  Massachuse       1\n",
       "Name: state, dtype: int64"
      ]
     },
     "execution_count": 12,
     "metadata": {},
     "output_type": "execute_result"
    }
   ],
   "source": [
    "states['state'].value_counts().sort_values(ascending = False)"
   ]
  },
  {
   "cell_type": "code",
   "execution_count": 13,
   "metadata": {
    "collapsed": false
   },
   "outputs": [],
   "source": [
    "# Removing rows with States length > 2\n",
    "data = data[data['state'].str.len() <= 2]"
   ]
  },
  {
   "cell_type": "code",
   "execution_count": 14,
   "metadata": {
    "collapsed": false
   },
   "outputs": [
    {
     "data": {
      "text/plain": [
       "[DE, MD, MN, LA, CT, ..., --, AE, WL, AP, GU]\n",
       "Length: 60\n",
       "Categories (60, object): [DE, MD, MN, LA, ..., AE, WL, AP, GU]"
      ]
     },
     "execution_count": 14,
     "metadata": {},
     "output_type": "execute_result"
    }
   ],
   "source": [
    "data['state'].unique()"
   ]
  },
  {
   "cell_type": "code",
   "execution_count": 15,
   "metadata": {
    "collapsed": false
   },
   "outputs": [
    {
     "data": {
      "text/plain": [
       "array(['DE', 'MD', 'MN', 'LA', 'CT', 'GA', 'HI', 'IL', 'MA', 'NV', 'NY',\n",
       "       'OH', 'OK', 'PA', 'SC', 'TN', 'TX', 'FL', 'KY', 'SD', 'VA', 'AK',\n",
       "       'AL', 'AR', 'AZ', 'CA', 'CO', 'DC', 'IA', 'ID', 'IN', 'KS', 'ME',\n",
       "       'MI', 'MO', 'MS', 'MT', 'NC', 'ND', 'NE', 'NH', 'NJ', 'NM', 'OR',\n",
       "       'PR', 'RI', 'UT', 'VI', 'VT', 'WA', 'WI', 'WV', 'WY', '5', 'XX',\n",
       "       '--', 'AE', 'WL', 'AP', 'GU'], dtype=object)"
      ]
     },
     "execution_count": 15,
     "metadata": {},
     "output_type": "execute_result"
    }
   ],
   "source": [
    "# Checking why 60 unique States\n",
    "pd.unique(data['state'].ravel())"
   ]
  },
  {
   "cell_type": "code",
   "execution_count": 16,
   "metadata": {
    "collapsed": false
   },
   "outputs": [],
   "source": [
    "state_list = ['AK', 'AZ', 'AR', 'CA', 'CO', 'CT', 'DE', 'FL', 'GA', 'HI', 'ID', \n",
    "              'IL', 'IN', 'IA', 'KS', 'KY', 'LA', 'ME', 'MD', 'MA', 'MI', 'MN', 'MS',\n",
    "              'MO', 'MT', 'NE', 'NV', 'NH', 'NJ', 'NM', 'NY', 'NC', 'ND', 'OH', 'OK', 'OR',\n",
    "              'PA', 'RI', 'SC', 'SD', 'TN', 'TX', 'UT', 'VT', 'VA', 'WA', 'WV', 'WI', 'WY',\n",
    "              'AS', 'DC', 'FM', 'GU', 'MH', 'MP', 'PW', 'PR', 'VI', 'AE', 'AA', 'AP']"
   ]
  },
  {
   "cell_type": "code",
   "execution_count": 17,
   "metadata": {
    "collapsed": false
   },
   "outputs": [],
   "source": [
    "# Removing States not in state_list\n",
    "data = data[data['state'] != 'WL']\n",
    "data = data[data['state'] != '5']\n",
    "data = data[data['state'] != 'XX']\n",
    "data = data[data['state'] != '--']"
   ]
  },
  {
   "cell_type": "code",
   "execution_count": 18,
   "metadata": {
    "collapsed": false
   },
   "outputs": [
    {
     "name": "stdout",
     "output_type": "stream",
     "text": [
      "<class 'pandas.core.frame.DataFrame'>\n",
      "Int64Index: 49967 entries, 0 to 54683\n",
      "Data columns (total 11 columns):\n",
      "age             49967 non-null int64\n",
      "gender          49967 non-null category\n",
      "state           49967 non-null category\n",
      "esp             49967 non-null category\n",
      "vag             49967 non-null category\n",
      "val             49967 non-null category\n",
      "vas             49967 non-null category\n",
      "vaq             49967 non-null category\n",
      "v2m             49967 non-null category\n",
      "CPAWallBuyer    49967 non-null category\n",
      "count           49967 non-null float64\n",
      "dtypes: category(9), float64(1), int64(1)\n",
      "memory usage: 1.6 MB\n"
     ]
    }
   ],
   "source": [
    "data.info()"
   ]
  },
  {
   "cell_type": "code",
   "execution_count": 19,
   "metadata": {
    "collapsed": false,
    "scrolled": true
   },
   "outputs": [
    {
     "data": {
      "text/plain": [
       "[DE, MD, MN, LA, CT, ..., WV, WY, AE, AP, GU]\n",
       "Length: 56\n",
       "Categories (56, object): [DE, MD, MN, LA, ..., WY, AE, AP, GU]"
      ]
     },
     "execution_count": 19,
     "metadata": {},
     "output_type": "execute_result"
    }
   ],
   "source": [
    "data['state'].unique()"
   ]
  },
  {
   "cell_type": "code",
   "execution_count": 20,
   "metadata": {
    "collapsed": true
   },
   "outputs": [],
   "source": [
    "# Confirmed with tech team that responses to survey questions are \n",
    "# saved as binary TRUE, FALSE; will change responses to 1 or 0"
   ]
  },
  {
   "cell_type": "code",
   "execution_count": 21,
   "metadata": {
    "collapsed": false
   },
   "outputs": [
    {
     "data": {
      "text/plain": [
       "[no, yes, TRUE, FALSE, diabetes]\n",
       "Categories (5, object): [no, yes, TRUE, FALSE, diabetes]"
      ]
     },
     "execution_count": 21,
     "metadata": {},
     "output_type": "execute_result"
    }
   ],
   "source": [
    "data['vaq'].unique()"
   ]
  },
  {
   "cell_type": "code",
   "execution_count": 22,
   "metadata": {
    "collapsed": false
   },
   "outputs": [],
   "source": [
    "data['vaq'].replace(to_replace= 'TRUE', value = 1, inplace = True)\n",
    "data['vaq'].replace(to_replace= 'diabetes', value = 0, inplace = True)\n",
    "data['vaq'].replace(to_replace= 'yes', value = 1, inplace = True)\n",
    "data['vaq'].replace(to_replace= 'FALSE', value = 0, inplace = True)\n",
    "data['vaq'].replace(to_replace= 'no', value = 0, inplace = True)"
   ]
  },
  {
   "cell_type": "code",
   "execution_count": 23,
   "metadata": {
    "collapsed": false
   },
   "outputs": [
    {
     "data": {
      "text/plain": [
       "[no, yes, TRUE, FALSE, own]\n",
       "Categories (5, object): [no, yes, TRUE, FALSE, own]"
      ]
     },
     "execution_count": 23,
     "metadata": {},
     "output_type": "execute_result"
    }
   ],
   "source": [
    "data['val'].unique()"
   ]
  },
  {
   "cell_type": "code",
   "execution_count": 24,
   "metadata": {
    "collapsed": true
   },
   "outputs": [],
   "source": [
    "data['val'].replace(to_replace= 'TRUE', value = 1, inplace = True)\n",
    "data['val'].replace(to_replace= 'own', value = 1, inplace = True)\n",
    "data['val'].replace(to_replace= 'yes', value = 1, inplace = True)\n",
    "data['val'].replace(to_replace= 'FALSE', value = 0, inplace = True)\n",
    "data['val'].replace(to_replace= 'no', value = 0, inplace = True)"
   ]
  },
  {
   "cell_type": "code",
   "execution_count": 25,
   "metadata": {
    "collapsed": false
   },
   "outputs": [
    {
     "data": {
      "text/plain": [
       "[no, FALSE, yes, TRUE, arthritis]\n",
       "Categories (5, object): [no, FALSE, yes, TRUE, arthritis]"
      ]
     },
     "execution_count": 25,
     "metadata": {},
     "output_type": "execute_result"
    }
   ],
   "source": [
    "data['vas'].unique()"
   ]
  },
  {
   "cell_type": "code",
   "execution_count": 26,
   "metadata": {
    "collapsed": true
   },
   "outputs": [],
   "source": [
    "data['vas'].replace(to_replace= 'TRUE', value = 1, inplace = True)\n",
    "data['vas'].replace(to_replace= 'arthritis', value = 1, inplace = True)\n",
    "data['vas'].replace(to_replace= 'yes', value = 1, inplace = True)\n",
    "data['vas'].replace(to_replace= 'FALSE', value = 0, inplace = True)\n",
    "data['vas'].replace(to_replace= 'no', value = 0, inplace = True)"
   ]
  },
  {
   "cell_type": "code",
   "execution_count": 27,
   "metadata": {
    "collapsed": false
   },
   "outputs": [
    {
     "data": {
      "text/plain": [
       "[rent, own, FALSE, TRUE, iownmyhome]\n",
       "Categories (5, object): [rent, own, FALSE, TRUE, iownmyhome]"
      ]
     },
     "execution_count": 27,
     "metadata": {},
     "output_type": "execute_result"
    }
   ],
   "source": [
    "data['vag'].unique()"
   ]
  },
  {
   "cell_type": "code",
   "execution_count": 28,
   "metadata": {
    "collapsed": true
   },
   "outputs": [],
   "source": [
    "data['vag'].replace(to_replace= 'TRUE', value = 1, inplace = True)\n",
    "data['vag'].replace(to_replace= 'iownmyhome', value = 1, inplace = True)\n",
    "data['vag'].replace(to_replace= 'own', value = 1, inplace = True)\n",
    "data['vag'].replace(to_replace= 'FALSE', value = 0, inplace = True)\n",
    "data['vag'].replace(to_replace= 'rent', value = 0, inplace = True)"
   ]
  },
  {
   "cell_type": "code",
   "execution_count": 29,
   "metadata": {
    "collapsed": false
   },
   "outputs": [
    {
     "data": {
      "text/plain": [
       "[independent, republican, democrat]\n",
       "Categories (3, object): [independent, republican, democrat]"
      ]
     },
     "execution_count": 29,
     "metadata": {},
     "output_type": "execute_result"
    }
   ],
   "source": [
    "data['v2m'].unique()"
   ]
  },
  {
   "cell_type": "code",
   "execution_count": 30,
   "metadata": {
    "collapsed": false
   },
   "outputs": [
    {
     "data": {
      "text/plain": [
       "[No, Yes]\n",
       "Categories (2, object): [No, Yes]"
      ]
     },
     "execution_count": 30,
     "metadata": {},
     "output_type": "execute_result"
    }
   ],
   "source": [
    "data['CPAWallBuyer'].unique()"
   ]
  },
  {
   "cell_type": "code",
   "execution_count": 31,
   "metadata": {
    "collapsed": true
   },
   "outputs": [],
   "source": [
    "data['CPAWallBuyer'].replace(to_replace= 'Yes', value = 1, inplace = True)\n",
    "data['CPAWallBuyer'].replace(to_replace= 'No', value = 0, inplace = True)"
   ]
  },
  {
   "cell_type": "code",
   "execution_count": 32,
   "metadata": {
    "collapsed": true
   },
   "outputs": [],
   "source": [
    "data['CPABuyerWeight'] = data['CPAWallBuyer']*data['count']"
   ]
  },
  {
   "cell_type": "code",
   "execution_count": 33,
   "metadata": {
    "collapsed": false
   },
   "outputs": [
    {
     "data": {
      "text/plain": [
       "[Male, Female]\n",
       "Categories (2, object): [Male, Female]"
      ]
     },
     "execution_count": 33,
     "metadata": {},
     "output_type": "execute_result"
    }
   ],
   "source": [
    "data['gender'].unique()"
   ]
  },
  {
   "cell_type": "code",
   "execution_count": 34,
   "metadata": {
    "collapsed": false
   },
   "outputs": [
    {
     "data": {
      "text/html": [
       "<div>\n",
       "<table border=\"1\" class=\"dataframe\">\n",
       "  <thead>\n",
       "    <tr style=\"text-align: right;\">\n",
       "      <th></th>\n",
       "      <th>age</th>\n",
       "      <th>gender</th>\n",
       "      <th>state</th>\n",
       "      <th>esp</th>\n",
       "      <th>vag</th>\n",
       "      <th>val</th>\n",
       "      <th>vas</th>\n",
       "      <th>vaq</th>\n",
       "      <th>v2m</th>\n",
       "      <th>CPAWallBuyer</th>\n",
       "      <th>count</th>\n",
       "      <th>CPABuyerWeight</th>\n",
       "    </tr>\n",
       "  </thead>\n",
       "  <tbody>\n",
       "    <tr>\n",
       "      <th>13458</th>\n",
       "      <td>30</td>\n",
       "      <td>Female</td>\n",
       "      <td>NJ</td>\n",
       "      <td>gmail.com</td>\n",
       "      <td>0</td>\n",
       "      <td>1</td>\n",
       "      <td>0</td>\n",
       "      <td>0</td>\n",
       "      <td>independent</td>\n",
       "      <td>0</td>\n",
       "      <td>1.0</td>\n",
       "      <td>0.0</td>\n",
       "    </tr>\n",
       "    <tr>\n",
       "      <th>35537</th>\n",
       "      <td>51</td>\n",
       "      <td>Female</td>\n",
       "      <td>OH</td>\n",
       "      <td>hotmail.com</td>\n",
       "      <td>1</td>\n",
       "      <td>1</td>\n",
       "      <td>0</td>\n",
       "      <td>0</td>\n",
       "      <td>republican</td>\n",
       "      <td>0</td>\n",
       "      <td>1.0</td>\n",
       "      <td>0.0</td>\n",
       "    </tr>\n",
       "    <tr>\n",
       "      <th>16542</th>\n",
       "      <td>33</td>\n",
       "      <td>Female</td>\n",
       "      <td>OH</td>\n",
       "      <td>gmail.com</td>\n",
       "      <td>1</td>\n",
       "      <td>1</td>\n",
       "      <td>0</td>\n",
       "      <td>0</td>\n",
       "      <td>independent</td>\n",
       "      <td>0</td>\n",
       "      <td>1.0</td>\n",
       "      <td>0.0</td>\n",
       "    </tr>\n",
       "    <tr>\n",
       "      <th>10020</th>\n",
       "      <td>26</td>\n",
       "      <td>Male</td>\n",
       "      <td>TX</td>\n",
       "      <td>mail.com</td>\n",
       "      <td>0</td>\n",
       "      <td>1</td>\n",
       "      <td>0</td>\n",
       "      <td>0</td>\n",
       "      <td>democrat</td>\n",
       "      <td>0</td>\n",
       "      <td>1.0</td>\n",
       "      <td>0.0</td>\n",
       "    </tr>\n",
       "    <tr>\n",
       "      <th>19368</th>\n",
       "      <td>36</td>\n",
       "      <td>Female</td>\n",
       "      <td>CA</td>\n",
       "      <td>comcast.net</td>\n",
       "      <td>1</td>\n",
       "      <td>1</td>\n",
       "      <td>0</td>\n",
       "      <td>0</td>\n",
       "      <td>republican</td>\n",
       "      <td>0</td>\n",
       "      <td>1.0</td>\n",
       "      <td>0.0</td>\n",
       "    </tr>\n",
       "    <tr>\n",
       "      <th>43465</th>\n",
       "      <td>58</td>\n",
       "      <td>Male</td>\n",
       "      <td>SC</td>\n",
       "      <td>gmail.com</td>\n",
       "      <td>1</td>\n",
       "      <td>1</td>\n",
       "      <td>1</td>\n",
       "      <td>1</td>\n",
       "      <td>democrat</td>\n",
       "      <td>0</td>\n",
       "      <td>1.0</td>\n",
       "      <td>0.0</td>\n",
       "    </tr>\n",
       "    <tr>\n",
       "      <th>42167</th>\n",
       "      <td>57</td>\n",
       "      <td>Female</td>\n",
       "      <td>WI</td>\n",
       "      <td>gmail.com</td>\n",
       "      <td>0</td>\n",
       "      <td>0</td>\n",
       "      <td>1</td>\n",
       "      <td>0</td>\n",
       "      <td>independent</td>\n",
       "      <td>0</td>\n",
       "      <td>1.0</td>\n",
       "      <td>0.0</td>\n",
       "    </tr>\n",
       "    <tr>\n",
       "      <th>17215</th>\n",
       "      <td>34</td>\n",
       "      <td>Female</td>\n",
       "      <td>AR</td>\n",
       "      <td>gmail.com</td>\n",
       "      <td>0</td>\n",
       "      <td>0</td>\n",
       "      <td>1</td>\n",
       "      <td>0</td>\n",
       "      <td>independent</td>\n",
       "      <td>0</td>\n",
       "      <td>1.0</td>\n",
       "      <td>0.0</td>\n",
       "    </tr>\n",
       "    <tr>\n",
       "      <th>17385</th>\n",
       "      <td>34</td>\n",
       "      <td>Female</td>\n",
       "      <td>IL</td>\n",
       "      <td>gmail.com</td>\n",
       "      <td>0</td>\n",
       "      <td>0</td>\n",
       "      <td>0</td>\n",
       "      <td>1</td>\n",
       "      <td>independent</td>\n",
       "      <td>0</td>\n",
       "      <td>1.0</td>\n",
       "      <td>0.0</td>\n",
       "    </tr>\n",
       "    <tr>\n",
       "      <th>43909</th>\n",
       "      <td>59</td>\n",
       "      <td>Female</td>\n",
       "      <td>NY</td>\n",
       "      <td>aol.com</td>\n",
       "      <td>1</td>\n",
       "      <td>1</td>\n",
       "      <td>1</td>\n",
       "      <td>0</td>\n",
       "      <td>democrat</td>\n",
       "      <td>0</td>\n",
       "      <td>1.0</td>\n",
       "      <td>0.0</td>\n",
       "    </tr>\n",
       "  </tbody>\n",
       "</table>\n",
       "</div>"
      ],
      "text/plain": [
       "       age  gender state          esp  vag  val  vas  vaq          v2m  \\\n",
       "13458   30  Female    NJ    gmail.com    0    1    0    0  independent   \n",
       "35537   51  Female    OH  hotmail.com    1    1    0    0   republican   \n",
       "16542   33  Female    OH    gmail.com    1    1    0    0  independent   \n",
       "10020   26    Male    TX     mail.com    0    1    0    0     democrat   \n",
       "19368   36  Female    CA  comcast.net    1    1    0    0   republican   \n",
       "43465   58    Male    SC    gmail.com    1    1    1    1     democrat   \n",
       "42167   57  Female    WI    gmail.com    0    0    1    0  independent   \n",
       "17215   34  Female    AR    gmail.com    0    0    1    0  independent   \n",
       "17385   34  Female    IL    gmail.com    0    0    0    1  independent   \n",
       "43909   59  Female    NY      aol.com    1    1    1    0     democrat   \n",
       "\n",
       "       CPAWallBuyer  count  CPABuyerWeight  \n",
       "13458             0    1.0             0.0  \n",
       "35537             0    1.0             0.0  \n",
       "16542             0    1.0             0.0  \n",
       "10020             0    1.0             0.0  \n",
       "19368             0    1.0             0.0  \n",
       "43465             0    1.0             0.0  \n",
       "42167             0    1.0             0.0  \n",
       "17215             0    1.0             0.0  \n",
       "17385             0    1.0             0.0  \n",
       "43909             0    1.0             0.0  "
      ]
     },
     "execution_count": 34,
     "metadata": {},
     "output_type": "execute_result"
    }
   ],
   "source": [
    "data.sample(10)"
   ]
  },
  {
   "cell_type": "code",
   "execution_count": 35,
   "metadata": {
    "collapsed": false
   },
   "outputs": [
    {
     "data": {
      "text/html": [
       "<div>\n",
       "<table border=\"1\" class=\"dataframe\">\n",
       "  <thead>\n",
       "    <tr style=\"text-align: right;\">\n",
       "      <th></th>\n",
       "      <th>age</th>\n",
       "      <th>vag</th>\n",
       "      <th>val</th>\n",
       "      <th>vas</th>\n",
       "      <th>vaq</th>\n",
       "      <th>CPAWallBuyer</th>\n",
       "      <th>count</th>\n",
       "      <th>CPABuyerWeight</th>\n",
       "    </tr>\n",
       "  </thead>\n",
       "  <tbody>\n",
       "    <tr>\n",
       "      <th>count</th>\n",
       "      <td>49967.000000</td>\n",
       "      <td>49967.000000</td>\n",
       "      <td>49967.000000</td>\n",
       "      <td>49967.000000</td>\n",
       "      <td>49967.000000</td>\n",
       "      <td>49967.00000</td>\n",
       "      <td>49967.000000</td>\n",
       "      <td>49967.000000</td>\n",
       "    </tr>\n",
       "    <tr>\n",
       "      <th>mean</th>\n",
       "      <td>44.466248</td>\n",
       "      <td>0.360278</td>\n",
       "      <td>0.627774</td>\n",
       "      <td>0.257510</td>\n",
       "      <td>0.172514</td>\n",
       "      <td>0.01539</td>\n",
       "      <td>1.201393</td>\n",
       "      <td>0.018552</td>\n",
       "    </tr>\n",
       "    <tr>\n",
       "      <th>std</th>\n",
       "      <td>16.444989</td>\n",
       "      <td>0.480086</td>\n",
       "      <td>0.483403</td>\n",
       "      <td>0.437267</td>\n",
       "      <td>0.377830</td>\n",
       "      <td>0.12310</td>\n",
       "      <td>0.670786</td>\n",
       "      <td>0.172906</td>\n",
       "    </tr>\n",
       "    <tr>\n",
       "      <th>min</th>\n",
       "      <td>13.000000</td>\n",
       "      <td>0.000000</td>\n",
       "      <td>0.000000</td>\n",
       "      <td>0.000000</td>\n",
       "      <td>0.000000</td>\n",
       "      <td>0.00000</td>\n",
       "      <td>1.000000</td>\n",
       "      <td>0.000000</td>\n",
       "    </tr>\n",
       "    <tr>\n",
       "      <th>25%</th>\n",
       "      <td>31.000000</td>\n",
       "      <td>0.000000</td>\n",
       "      <td>0.000000</td>\n",
       "      <td>0.000000</td>\n",
       "      <td>0.000000</td>\n",
       "      <td>0.00000</td>\n",
       "      <td>1.000000</td>\n",
       "      <td>0.000000</td>\n",
       "    </tr>\n",
       "    <tr>\n",
       "      <th>50%</th>\n",
       "      <td>44.000000</td>\n",
       "      <td>0.000000</td>\n",
       "      <td>1.000000</td>\n",
       "      <td>0.000000</td>\n",
       "      <td>0.000000</td>\n",
       "      <td>0.00000</td>\n",
       "      <td>1.000000</td>\n",
       "      <td>0.000000</td>\n",
       "    </tr>\n",
       "    <tr>\n",
       "      <th>75%</th>\n",
       "      <td>56.000000</td>\n",
       "      <td>1.000000</td>\n",
       "      <td>1.000000</td>\n",
       "      <td>1.000000</td>\n",
       "      <td>0.000000</td>\n",
       "      <td>0.00000</td>\n",
       "      <td>1.000000</td>\n",
       "      <td>0.000000</td>\n",
       "    </tr>\n",
       "    <tr>\n",
       "      <th>max</th>\n",
       "      <td>116.000000</td>\n",
       "      <td>1.000000</td>\n",
       "      <td>1.000000</td>\n",
       "      <td>1.000000</td>\n",
       "      <td>1.000000</td>\n",
       "      <td>1.00000</td>\n",
       "      <td>15.000000</td>\n",
       "      <td>8.000000</td>\n",
       "    </tr>\n",
       "  </tbody>\n",
       "</table>\n",
       "</div>"
      ],
      "text/plain": [
       "                age           vag           val           vas           vaq  \\\n",
       "count  49967.000000  49967.000000  49967.000000  49967.000000  49967.000000   \n",
       "mean      44.466248      0.360278      0.627774      0.257510      0.172514   \n",
       "std       16.444989      0.480086      0.483403      0.437267      0.377830   \n",
       "min       13.000000      0.000000      0.000000      0.000000      0.000000   \n",
       "25%       31.000000      0.000000      0.000000      0.000000      0.000000   \n",
       "50%       44.000000      0.000000      1.000000      0.000000      0.000000   \n",
       "75%       56.000000      1.000000      1.000000      1.000000      0.000000   \n",
       "max      116.000000      1.000000      1.000000      1.000000      1.000000   \n",
       "\n",
       "       CPAWallBuyer         count  CPABuyerWeight  \n",
       "count   49967.00000  49967.000000    49967.000000  \n",
       "mean        0.01539      1.201393        0.018552  \n",
       "std         0.12310      0.670786        0.172906  \n",
       "min         0.00000      1.000000        0.000000  \n",
       "25%         0.00000      1.000000        0.000000  \n",
       "50%         0.00000      1.000000        0.000000  \n",
       "75%         0.00000      1.000000        0.000000  \n",
       "max         1.00000     15.000000        8.000000  "
      ]
     },
     "execution_count": 35,
     "metadata": {},
     "output_type": "execute_result"
    }
   ],
   "source": [
    "data.describe()"
   ]
  },
  {
   "cell_type": "code",
   "execution_count": 36,
   "metadata": {
    "collapsed": false
   },
   "outputs": [
    {
     "data": {
      "text/plain": [
       "age  CPABuyerWeight  age\n",
       "13   0.0             13        2\n",
       "15   0.0             15        2\n",
       "16   0.0             16        1\n",
       "17   0.0             17       25\n",
       "18   0.0             18      934\n",
       "     1.0             18       15\n",
       "19   0.0             19     1037\n",
       "     1.0             19       13\n",
       "     2.0             19        2\n",
       "20   0.0             20     1103\n",
       "     1.0             20       13\n",
       "     2.0             20        1\n",
       "     4.0             20        2\n",
       "21   0.0             21      976\n",
       "     1.0             21       17\n",
       "     2.0             21        2\n",
       "     3.0             21        1\n",
       "22   0.0             22      815\n",
       "     1.0             22       17\n",
       "     2.0             22        2\n",
       "     6.0             22        1\n",
       "23   0.0             23      827\n",
       "     1.0             23       11\n",
       "24   0.0             24      788\n",
       "     1.0             24       12\n",
       "     2.0             24        1\n",
       "25   0.0             25      855\n",
       "     1.0             25       15\n",
       "     2.0             25        2\n",
       "26   0.0             26     1000\n",
       "                            ... \n",
       "78   0.0             78      139\n",
       "     1.0             78        1\n",
       "79   0.0             79      119\n",
       "80   0.0             80      125\n",
       "     1.0             80        1\n",
       "81   0.0             81       88\n",
       "82   0.0             82       74\n",
       "83   0.0             83       79\n",
       "84   0.0             84       72\n",
       "     1.0             84        2\n",
       "85   0.0             85       60\n",
       "     1.0             85        1\n",
       "86   0.0             86       72\n",
       "87   0.0             87       55\n",
       "88   0.0             88       38\n",
       "89   0.0             89       61\n",
       "     1.0             89        1\n",
       "     2.0             89        1\n",
       "90   0.0             90       50\n",
       "     1.0             90        1\n",
       "91   0.0             91      183\n",
       "92   0.0             92       33\n",
       "93   0.0             93       12\n",
       "94   0.0             94       10\n",
       "95   0.0             95       13\n",
       "96   0.0             96       23\n",
       "97   0.0             97        9\n",
       "101  0.0             101       1\n",
       "102  0.0             102       1\n",
       "116  0.0             116       1\n",
       "Name: age, dtype: int64"
      ]
     },
     "execution_count": 36,
     "metadata": {},
     "output_type": "execute_result"
    }
   ],
   "source": [
    "age_summary = data.groupby(['age','CPABuyerWeight'])\n",
    "age_summary['age'].value_counts()"
   ]
  },
  {
   "cell_type": "code",
   "execution_count": 37,
   "metadata": {
    "collapsed": false
   },
   "outputs": [
    {
     "data": {
      "text/plain": [
       "gender  CPABuyerWeight  gender\n",
       "Female  0.0             Female    28858\n",
       "        1.0             Female      449\n",
       "        2.0             Female       50\n",
       "        3.0             Female        6\n",
       "        4.0             Female        5\n",
       "        5.0             Female        3\n",
       "        6.0             Female        1\n",
       "        7.0             Female        2\n",
       "Male    0.0             Male      20340\n",
       "        1.0             Male        223\n",
       "        2.0             Male         21\n",
       "        3.0             Male          4\n",
       "        4.0             Male          3\n",
       "        8.0             Male          2\n",
       "Name: gender, dtype: int64"
      ]
     },
     "execution_count": 37,
     "metadata": {},
     "output_type": "execute_result"
    }
   ],
   "source": [
    "gender_summary = data.groupby(['gender','CPABuyerWeight'])\n",
    "gender_summary['gender'].value_counts()"
   ]
  },
  {
   "cell_type": "code",
   "execution_count": 38,
   "metadata": {
    "collapsed": false
   },
   "outputs": [
    {
     "data": {
      "text/plain": [
       "state  CPABuyerWeight  state\n",
       "AE     0.0             AE          6\n",
       "AK     0.0             AK        162\n",
       "       2.0             AK          1\n",
       "AL     0.0             AL       1279\n",
       "       1.0             AL         18\n",
       "       2.0             AL          1\n",
       "       3.0             AL          1\n",
       "       4.0             AL          1\n",
       "AP     0.0             AP          2\n",
       "AR     0.0             AR        752\n",
       "       1.0             AR         18\n",
       "       2.0             AR          3\n",
       "       7.0             AR          1\n",
       "AZ     0.0             AZ        950\n",
       "       1.0             AZ         11\n",
       "CA     0.0             CA       3503\n",
       "       1.0             CA         49\n",
       "       2.0             CA          8\n",
       "       4.0             CA          1\n",
       "CO     0.0             CO        743\n",
       "       1.0             CO          6\n",
       "       2.0             CO          2\n",
       "CT     0.0             CT        538\n",
       "       1.0             CT          8\n",
       "       2.0             CT          1\n",
       "DC     0.0             DC        200\n",
       "       4.0             DC          1\n",
       "DE     0.0             DE        178\n",
       "       1.0             DE          2\n",
       "FL     0.0             FL       3153\n",
       "                                ... \n",
       "TN     3.0             TN          1\n",
       "       4.0             TN          1\n",
       "TX     0.0             TX       3822\n",
       "       1.0             TX         70\n",
       "       2.0             TX         10\n",
       "       3.0             TX          2\n",
       "       7.0             TX          1\n",
       "UT     0.0             UT        379\n",
       "       1.0             UT          5\n",
       "       2.0             UT          1\n",
       "       5.0             UT          1\n",
       "VA     0.0             VA       1221\n",
       "       1.0             VA         14\n",
       "       2.0             VA          6\n",
       "       3.0             VA          1\n",
       "       8.0             VA          1\n",
       "VI     0.0             VI          6\n",
       "       1.0             VI          1\n",
       "VT     0.0             VT         98\n",
       "       2.0             VT          1\n",
       "WA     0.0             WA        810\n",
       "       1.0             WA         13\n",
       "WI     0.0             WI        883\n",
       "       1.0             WI          7\n",
       "WV     0.0             WV        425\n",
       "       1.0             WV          4\n",
       "       2.0             WV          1\n",
       "       5.0             WV          1\n",
       "WY     0.0             WY         93\n",
       "       1.0             WY          2\n",
       "Name: state, dtype: int64"
      ]
     },
     "execution_count": 38,
     "metadata": {},
     "output_type": "execute_result"
    }
   ],
   "source": [
    "state_summary = data.groupby(['state','CPABuyerWeight'])\n",
    "state_summary['state'].value_counts()"
   ]
  },
  {
   "cell_type": "code",
   "execution_count": 39,
   "metadata": {
    "collapsed": false
   },
   "outputs": [
    {
     "data": {
      "text/plain": [
       "CPABuyerWeight  esp                  esp                \n",
       "0.0             aaps.k12.mi.us       aaps.k12.mi.us            1\n",
       "                aas-c.org            aas-c.org                 1\n",
       "                abe.midco.net        abe.midco.net             1\n",
       "                abm.com              abm.com                   1\n",
       "                abv.bg               abv.bg                    1\n",
       "                accuquest.net        accuquest.net             1\n",
       "                activist.com         activist.com              1\n",
       "                adelphia.net         adelphia.net              2\n",
       "                adrian.edu           adrian.edu                1\n",
       "                aero-components.com  aero-components.com       1\n",
       "                afscholars.org       afscholars.org            1\n",
       "                agmail.com           agmail.com                1\n",
       "                aiicfl.com           aiicfl.com                1\n",
       "                aim.com              aim.com                  24\n",
       "                aimtracco.com        aimtracco.com             1\n",
       "                airhop.com           airhop.com                1\n",
       "                akbss.com            akbss.com                 1\n",
       "                al.com               al.com                    1\n",
       "                aldine-isd.org       aldine-isd.org            1\n",
       "                allstate.com         allstate.com              1\n",
       "                am-metal.com         am-metal.com              1\n",
       "                amail.com            amail.com                 1\n",
       "                amarano.com          amarano.com               1\n",
       "                ameritech.net        ameritech.net             3\n",
       "                amgreetings.com      amgreetings.com           1\n",
       "                andycable.com        andycable.com             1\n",
       "                aol.com              aol.com                2259\n",
       "                aol.com.com          aol.com.com               1\n",
       "                applicationx.net     applicationx.net          1\n",
       "                aps.edu              aps.edu                   1\n",
       "                                                            ... \n",
       "1.0             mygait.com           mygait.com                1\n",
       "                netzero.net          netzero.net               1\n",
       "                no.com               no.com                    1\n",
       "                outlook.com          outlook.com              10\n",
       "                suddenlink.net       suddenlink.net            1\n",
       "                thelimit.com         thelimit.com              1\n",
       "                windstream.net       windstream.net            1\n",
       "                yahoo.com            yahoo.com               152\n",
       "                ymail.com            ymail.com                 3\n",
       "2.0             aol.com              aol.com                   4\n",
       "                att.net              att.net                   2\n",
       "                gmail.com            gmail.com                50\n",
       "                hotmail.com          hotmail.com               2\n",
       "                kpunet.net           kpunet.net                1\n",
       "                msn.com              msn.com                   1\n",
       "                watermark.org        watermark.org             1\n",
       "                yahoo.com            yahoo.com                10\n",
       "3.0             charter.net          charter.net               1\n",
       "                gmail.com            gmail.com                 3\n",
       "                yahoo.com            yahoo.com                 6\n",
       "4.0             gmail.com            gmail.com                 5\n",
       "                icloud.com           icloud.com                1\n",
       "                yahoo.com            yahoo.com                 2\n",
       "5.0             frsed.org            frsed.org                 1\n",
       "                hotmail.com          hotmail.com               1\n",
       "                outlook.com          outlook.com               1\n",
       "6.0             gmail.com            gmail.com                 1\n",
       "7.0             gmail.com            gmail.com                 1\n",
       "                hotmail.com          hotmail.com               1\n",
       "8.0             gmail.com            gmail.com                 2\n",
       "Name: esp, dtype: int64"
      ]
     },
     "execution_count": 39,
     "metadata": {},
     "output_type": "execute_result"
    }
   ],
   "source": [
    "esp_summary = data.groupby(['CPABuyerWeight', 'esp'])\n",
    "esp_summary['esp'].value_counts(ascending= True)"
   ]
  },
  {
   "cell_type": "code",
   "execution_count": 40,
   "metadata": {
    "collapsed": false
   },
   "outputs": [
    {
     "data": {
      "text/plain": [
       "CPABuyerWeight  esp              \n",
       "0.0             gmail.com            24494\n",
       "                yahoo.com            13969\n",
       "                hotmail.com           2414\n",
       "                aol.com               2259\n",
       "                icloud.com             648\n",
       "                comcast.net            549\n",
       "                outlook.com            427\n",
       "                att.net                423\n",
       "                live.com               392\n",
       "                ymail.com              355\n",
       "                msn.com                322\n",
       "                sbcglobal.net          233\n",
       "                verizon.net            183\n",
       "                bellsouth.net          154\n",
       "                rocketmail.com         133\n",
       "                cox.net                130\n",
       "                charter.net             96\n",
       "                me.com                  70\n",
       "                mail.com                69\n",
       "                frontier.com            45\n",
       "                windstream.net          39\n",
       "                email.com               36\n",
       "                optonline.net           36\n",
       "                juno.com                33\n",
       "                roadrunner.com          30\n",
       "                centurylink.net         27\n",
       "                earthlink.net           27\n",
       "                embarqmail.com          25\n",
       "                aim.com                 24\n",
       "                netzero.net             22\n",
       "                                     ...  \n",
       "1.0             mail.gvsu.edu            1\n",
       "                mexicoschools.net        1\n",
       "                msn.com                  1\n",
       "                mygait.com               1\n",
       "                netzero.net              1\n",
       "                no.com                   1\n",
       "                suddenlink.net           1\n",
       "                thelimit.com             1\n",
       "                windstream.net           1\n",
       "2.0             gmail.com               50\n",
       "                yahoo.com               10\n",
       "                aol.com                  4\n",
       "                att.net                  2\n",
       "                hotmail.com              2\n",
       "                kpunet.net               1\n",
       "                msn.com                  1\n",
       "                watermark.org            1\n",
       "3.0             yahoo.com                6\n",
       "                gmail.com                3\n",
       "                charter.net              1\n",
       "4.0             gmail.com                5\n",
       "                yahoo.com                2\n",
       "                icloud.com               1\n",
       "5.0             frsed.org                1\n",
       "                hotmail.com              1\n",
       "                outlook.com              1\n",
       "6.0             gmail.com                1\n",
       "7.0             gmail.com                1\n",
       "                hotmail.com              1\n",
       "8.0             gmail.com                2\n",
       "Name: esp, dtype: int64"
      ]
     },
     "execution_count": 40,
     "metadata": {},
     "output_type": "execute_result"
    }
   ],
   "source": [
    "CPABuyerWeight_Sum = data.groupby('CPABuyerWeight')\n",
    "CPABuyerWeight_Sum['esp'].value_counts()"
   ]
  },
  {
   "cell_type": "code",
   "execution_count": 41,
   "metadata": {
    "collapsed": false
   },
   "outputs": [
    {
     "data": {
      "text/plain": [
       "vag  CPABuyerWeight  vag\n",
       "0    0.0             0      31385\n",
       "     1.0             0        510\n",
       "     2.0             0         52\n",
       "     3.0             0          6\n",
       "     4.0             0          5\n",
       "     5.0             0          3\n",
       "     6.0             0          1\n",
       "     7.0             0          2\n",
       "     8.0             0          1\n",
       "1    0.0             1      17813\n",
       "     1.0             1        162\n",
       "     2.0             1         19\n",
       "     3.0             1          4\n",
       "     4.0             1          3\n",
       "     8.0             1          1\n",
       "Name: vag, dtype: int64"
      ]
     },
     "execution_count": 41,
     "metadata": {},
     "output_type": "execute_result"
    }
   ],
   "source": [
    "vag_summary = data.groupby(['vag','CPABuyerWeight'])\n",
    "vag_summary['vag'].value_counts()"
   ]
  },
  {
   "cell_type": "code",
   "execution_count": 42,
   "metadata": {
    "collapsed": false
   },
   "outputs": [
    {
     "data": {
      "text/plain": [
       "val  CPABuyerWeight  val\n",
       "0    0.0             0      18226\n",
       "     1.0             0        331\n",
       "     2.0             0         34\n",
       "     3.0             0          4\n",
       "     4.0             0          3\n",
       "     5.0             0          1\n",
       "1    0.0             1      30972\n",
       "     1.0             1        341\n",
       "     2.0             1         37\n",
       "     3.0             1          6\n",
       "     4.0             1          5\n",
       "     5.0             1          2\n",
       "     6.0             1          1\n",
       "     7.0             1          2\n",
       "     8.0             1          2\n",
       "Name: val, dtype: int64"
      ]
     },
     "execution_count": 42,
     "metadata": {},
     "output_type": "execute_result"
    }
   ],
   "source": [
    "val_summary = data.groupby(['val','CPABuyerWeight'])\n",
    "val_summary['val'].value_counts()"
   ]
  },
  {
   "cell_type": "code",
   "execution_count": 43,
   "metadata": {
    "collapsed": false
   },
   "outputs": [
    {
     "data": {
      "text/plain": [
       "vas  CPABuyerWeight  vas\n",
       "0    0.0             0      36473\n",
       "     1.0             0        552\n",
       "     2.0             0         55\n",
       "     3.0             0          9\n",
       "     4.0             0          7\n",
       "     5.0             0          2\n",
       "     7.0             0          1\n",
       "     8.0             0          1\n",
       "1    0.0             1      12725\n",
       "     1.0             1        120\n",
       "     2.0             1         16\n",
       "     3.0             1          1\n",
       "     4.0             1          1\n",
       "     5.0             1          1\n",
       "     6.0             1          1\n",
       "     7.0             1          1\n",
       "     8.0             1          1\n",
       "Name: vas, dtype: int64"
      ]
     },
     "execution_count": 43,
     "metadata": {},
     "output_type": "execute_result"
    }
   ],
   "source": [
    "vas_summary = data.groupby(['vas','CPABuyerWeight'])\n",
    "vas_summary['vas'].value_counts()"
   ]
  },
  {
   "cell_type": "code",
   "execution_count": 44,
   "metadata": {
    "collapsed": false
   },
   "outputs": [
    {
     "data": {
      "text/plain": [
       "vaq  CPABuyerWeight  vaq\n",
       "0    0.0             0      40651\n",
       "     1.0             0        606\n",
       "     2.0             0         66\n",
       "     3.0             0          9\n",
       "     4.0             0          7\n",
       "     5.0             0          3\n",
       "     6.0             0          1\n",
       "     7.0             0          2\n",
       "     8.0             0          2\n",
       "1    0.0             1       8547\n",
       "     1.0             1         66\n",
       "     2.0             1          5\n",
       "     3.0             1          1\n",
       "     4.0             1          1\n",
       "Name: vaq, dtype: int64"
      ]
     },
     "execution_count": 44,
     "metadata": {},
     "output_type": "execute_result"
    }
   ],
   "source": [
    "vaq_summary = data.groupby(['vaq','CPABuyerWeight'])\n",
    "vaq_summary['vaq'].value_counts()"
   ]
  },
  {
   "cell_type": "code",
   "execution_count": 45,
   "metadata": {
    "collapsed": false
   },
   "outputs": [
    {
     "data": {
      "text/plain": [
       "age  gender  CPABuyerWeight  age\n",
       "13   Male    0.0             13       2\n",
       "15   Female  0.0             15       1\n",
       "     Male    0.0             15       1\n",
       "16   Female  0.0             16       1\n",
       "17   Female  0.0             17      15\n",
       "     Male    0.0             17      10\n",
       "18   Female  0.0             18     447\n",
       "             1.0             18       9\n",
       "     Male    0.0             18     487\n",
       "             1.0             18       6\n",
       "19   Female  0.0             19     546\n",
       "             1.0             19       9\n",
       "             2.0             19       1\n",
       "     Male    0.0             19     491\n",
       "             1.0             19       4\n",
       "             2.0             19       1\n",
       "20   Female  0.0             20     549\n",
       "             1.0             20       7\n",
       "             2.0             20       1\n",
       "             4.0             20       1\n",
       "     Male    0.0             20     554\n",
       "             1.0             20       6\n",
       "             4.0             20       1\n",
       "21   Female  0.0             21     518\n",
       "             1.0             21       9\n",
       "             2.0             21       1\n",
       "     Male    0.0             21     458\n",
       "             1.0             21       8\n",
       "             2.0             21       1\n",
       "             3.0             21       1\n",
       "                                   ... \n",
       "86   Female  0.0             86      25\n",
       "     Male    0.0             86      47\n",
       "87   Female  0.0             87      18\n",
       "     Male    0.0             87      37\n",
       "88   Female  0.0             88      18\n",
       "     Male    0.0             88      20\n",
       "89   Female  0.0             89      16\n",
       "     Male    0.0             89      45\n",
       "             1.0             89       1\n",
       "             2.0             89       1\n",
       "90   Female  0.0             90      17\n",
       "     Male    0.0             90      33\n",
       "             1.0             90       1\n",
       "91   Female  0.0             91      63\n",
       "     Male    0.0             91     120\n",
       "92   Female  0.0             92       9\n",
       "     Male    0.0             92      24\n",
       "93   Female  0.0             93       6\n",
       "     Male    0.0             93       6\n",
       "94   Female  0.0             94       3\n",
       "     Male    0.0             94       7\n",
       "95   Female  0.0             95       4\n",
       "     Male    0.0             95       9\n",
       "96   Female  0.0             96       4\n",
       "     Male    0.0             96      19\n",
       "97   Female  0.0             97       2\n",
       "     Male    0.0             97       7\n",
       "101  Male    0.0             101      1\n",
       "102  Male    0.0             102      1\n",
       "116  Female  0.0             116      1\n",
       "Name: age, dtype: int64"
      ]
     },
     "execution_count": 45,
     "metadata": {},
     "output_type": "execute_result"
    }
   ],
   "source": [
    "age_gender_summary = data.groupby(['age','gender','CPABuyerWeight'])\n",
    "age_gender_summary['age'].value_counts()"
   ]
  },
  {
   "cell_type": "code",
   "execution_count": 46,
   "metadata": {
    "collapsed": false
   },
   "outputs": [
    {
     "data": {
      "text/html": [
       "<div>\n",
       "<table border=\"1\" class=\"dataframe\">\n",
       "  <thead>\n",
       "    <tr style=\"text-align: right;\">\n",
       "      <th></th>\n",
       "      <th>age</th>\n",
       "      <th>vag</th>\n",
       "      <th>val</th>\n",
       "      <th>vas</th>\n",
       "      <th>vaq</th>\n",
       "      <th>CPAWallBuyer</th>\n",
       "      <th>count</th>\n",
       "      <th>CPABuyerWeight</th>\n",
       "    </tr>\n",
       "  </thead>\n",
       "  <tbody>\n",
       "    <tr>\n",
       "      <th>age</th>\n",
       "      <td>1.000000</td>\n",
       "      <td>0.251587</td>\n",
       "      <td>0.182302</td>\n",
       "      <td>0.044016</td>\n",
       "      <td>0.002519</td>\n",
       "      <td>-0.034993</td>\n",
       "      <td>-0.135918</td>\n",
       "      <td>-0.029767</td>\n",
       "    </tr>\n",
       "    <tr>\n",
       "      <th>vag</th>\n",
       "      <td>0.251587</td>\n",
       "      <td>1.000000</td>\n",
       "      <td>0.337777</td>\n",
       "      <td>0.054466</td>\n",
       "      <td>0.054439</td>\n",
       "      <td>-0.029819</td>\n",
       "      <td>-0.130601</td>\n",
       "      <td>-0.024587</td>\n",
       "    </tr>\n",
       "    <tr>\n",
       "      <th>val</th>\n",
       "      <td>0.182302</td>\n",
       "      <td>0.337777</td>\n",
       "      <td>1.000000</td>\n",
       "      <td>0.093492</td>\n",
       "      <td>0.067125</td>\n",
       "      <td>-0.029179</td>\n",
       "      <td>-0.110745</td>\n",
       "      <td>-0.019861</td>\n",
       "    </tr>\n",
       "    <tr>\n",
       "      <th>vas</th>\n",
       "      <td>0.044016</td>\n",
       "      <td>0.054466</td>\n",
       "      <td>0.093492</td>\n",
       "      <td>1.000000</td>\n",
       "      <td>0.271503</td>\n",
       "      <td>-0.020831</td>\n",
       "      <td>-0.128710</td>\n",
       "      <td>-0.014218</td>\n",
       "    </tr>\n",
       "    <tr>\n",
       "      <th>vaq</th>\n",
       "      <td>0.002519</td>\n",
       "      <td>0.054439</td>\n",
       "      <td>0.067125</td>\n",
       "      <td>0.271503</td>\n",
       "      <td>1.000000</td>\n",
       "      <td>-0.025673</td>\n",
       "      <td>-0.111423</td>\n",
       "      <td>-0.023565</td>\n",
       "    </tr>\n",
       "    <tr>\n",
       "      <th>CPAWallBuyer</th>\n",
       "      <td>-0.034993</td>\n",
       "      <td>-0.029819</td>\n",
       "      <td>-0.029179</td>\n",
       "      <td>-0.020831</td>\n",
       "      <td>-0.025673</td>\n",
       "      <td>1.000000</td>\n",
       "      <td>0.000758</td>\n",
       "      <td>0.858227</td>\n",
       "    </tr>\n",
       "    <tr>\n",
       "      <th>count</th>\n",
       "      <td>-0.135918</td>\n",
       "      <td>-0.130601</td>\n",
       "      <td>-0.110745</td>\n",
       "      <td>-0.128710</td>\n",
       "      <td>-0.111423</td>\n",
       "      <td>0.000758</td>\n",
       "      <td>1.000000</td>\n",
       "      <td>0.068558</td>\n",
       "    </tr>\n",
       "    <tr>\n",
       "      <th>CPABuyerWeight</th>\n",
       "      <td>-0.029767</td>\n",
       "      <td>-0.024587</td>\n",
       "      <td>-0.019861</td>\n",
       "      <td>-0.014218</td>\n",
       "      <td>-0.023565</td>\n",
       "      <td>0.858227</td>\n",
       "      <td>0.068558</td>\n",
       "      <td>1.000000</td>\n",
       "    </tr>\n",
       "  </tbody>\n",
       "</table>\n",
       "</div>"
      ],
      "text/plain": [
       "                     age       vag       val       vas       vaq  \\\n",
       "age             1.000000  0.251587  0.182302  0.044016  0.002519   \n",
       "vag             0.251587  1.000000  0.337777  0.054466  0.054439   \n",
       "val             0.182302  0.337777  1.000000  0.093492  0.067125   \n",
       "vas             0.044016  0.054466  0.093492  1.000000  0.271503   \n",
       "vaq             0.002519  0.054439  0.067125  0.271503  1.000000   \n",
       "CPAWallBuyer   -0.034993 -0.029819 -0.029179 -0.020831 -0.025673   \n",
       "count          -0.135918 -0.130601 -0.110745 -0.128710 -0.111423   \n",
       "CPABuyerWeight -0.029767 -0.024587 -0.019861 -0.014218 -0.023565   \n",
       "\n",
       "                CPAWallBuyer     count  CPABuyerWeight  \n",
       "age                -0.034993 -0.135918       -0.029767  \n",
       "vag                -0.029819 -0.130601       -0.024587  \n",
       "val                -0.029179 -0.110745       -0.019861  \n",
       "vas                -0.020831 -0.128710       -0.014218  \n",
       "vaq                -0.025673 -0.111423       -0.023565  \n",
       "CPAWallBuyer        1.000000  0.000758        0.858227  \n",
       "count               0.000758  1.000000        0.068558  \n",
       "CPABuyerWeight      0.858227  0.068558        1.000000  "
      ]
     },
     "execution_count": 46,
     "metadata": {},
     "output_type": "execute_result"
    }
   ],
   "source": [
    "data.corr()"
   ]
  },
  {
   "cell_type": "code",
   "execution_count": 47,
   "metadata": {
    "collapsed": false
   },
   "outputs": [
    {
     "data": {
      "text/plain": [
       "927.0"
      ]
     },
     "execution_count": 47,
     "metadata": {},
     "output_type": "execute_result"
    }
   ],
   "source": [
    "data[data['CPAWallBuyer']==1]['CPABuyerWeight'].sum() #Ttl converted users"
   ]
  },
  {
   "cell_type": "code",
   "execution_count": 48,
   "metadata": {
    "collapsed": false
   },
   "outputs": [
    {
     "data": {
      "text/plain": [
       "49198"
      ]
     },
     "execution_count": 48,
     "metadata": {},
     "output_type": "execute_result"
    }
   ],
   "source": [
    "data[data['CPAWallBuyer']==0]['CPABuyerWeight'].count() #Ttl of non-converters"
   ]
  },
  {
   "cell_type": "code",
   "execution_count": 49,
   "metadata": {
    "collapsed": false
   },
   "outputs": [
    {
     "data": {
      "text/plain": [
       "50125"
      ]
     },
     "execution_count": 49,
     "metadata": {},
     "output_type": "execute_result"
    }
   ],
   "source": [
    "927 + 49198 #Ttl users"
   ]
  },
  {
   "cell_type": "code",
   "execution_count": 50,
   "metadata": {
    "collapsed": false
   },
   "outputs": [
    {
     "data": {
      "text/plain": [
       "0.018493765586034914"
      ]
     },
     "execution_count": 50,
     "metadata": {},
     "output_type": "execute_result"
    }
   ],
   "source": [
    "927.0/50125.0 #Conversion rate; unbalanced data set"
   ]
  },
  {
   "cell_type": "code",
   "execution_count": 51,
   "metadata": {
    "collapsed": false
   },
   "outputs": [
    {
     "data": {
      "text/plain": [
       "<matplotlib.text.Text at 0x117830110>"
      ]
     },
     "execution_count": 51,
     "metadata": {},
     "output_type": "execute_result"
    },
    {
     "data": {
      "image/png": "[encoded data removed]",
      "text/plain": [
       "<matplotlib.figure.Figure at 0x114f89750>"
      ]
     },
     "metadata": {},
     "output_type": "display_data"
    }
   ],
   "source": [
    "plt.hist(data['age'], weights= data['CPABuyerWeight'], color= 'teal')\n",
    "plt.xlabel('Age')\n",
    "plt.ylabel('Frequency')\n",
    "plt.title('Age Distribution')"
   ]
  },
  {
   "cell_type": "code",
   "execution_count": 52,
   "metadata": {
    "collapsed": false
   },
   "outputs": [
    {
     "data": {
      "text/plain": [
       "<seaborn.axisgrid.PairGrid at 0x119db6dd0>"
      ]
     },
     "execution_count": 52,
     "metadata": {},
     "output_type": "execute_result"
    },
    {
     "data": {
      "image/png": "[encoded data removed]",
      "text/plain": [
       "<matplotlib.figure.Figure at 0x114f91d10>"
      ]
     },
     "metadata": {},
     "output_type": "display_data"
    }
   ],
   "source": [
    "sns.pairplot(data)"
   ]
  },
  {
   "cell_type": "code",
   "execution_count": null,
   "metadata": {
    "collapsed": true
   },
   "outputs": [],
   "source": []
  }
 ],
 "metadata": {
  "anaconda-cloud": {},
  "kernelspec": {
   "display_name": "Python [conda root]",
   "language": "python",
   "name": "conda-root-py"
  },
  "language_info": {
   "codemirror_mode": {
    "name": "ipython",
    "version": 2
   },
   "file_extension": ".py",
   "mimetype": "text/x-python",
   "name": "python",
   "nbconvert_exporter": "python",
   "pygments_lexer": "ipython2",
   "version": "2.7.12"
  }
 },
 "nbformat": 4,
 "nbformat_minor": 1
}
